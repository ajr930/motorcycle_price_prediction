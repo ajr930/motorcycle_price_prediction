{
 "cells": [
  {
   "cell_type": "code",
   "execution_count": 1,
   "id": "996d00b7",
   "metadata": {},
   "outputs": [],
   "source": [
    "import pandas as pd\n",
    "import numpy as np\n",
    "from sklearn.linear_model import LinearRegression\n",
    "from sklearn.metrics import mean_absolute_error, mean_squared_error, r2_score\n",
    "from sklearn.model_selection import train_test_split, cross_validate, ShuffleSplit\n",
    "from sklearn.preprocessing import OneHotEncoder, StandardScaler\n",
    "from sklearn.tree import DecisionTreeRegressor\n",
    "from sklearn.metrics import mean_absolute_error, mean_squared_error\n",
    "import matplotlib.pyplot as plt\n",
    "import seaborn as sns\n",
    "from sklearn.ensemble import BaggingRegressor, RandomForestRegressor"
   ]
  },
  {
   "cell_type": "code",
   "execution_count": 2,
   "id": "ae57be8e",
   "metadata": {},
   "outputs": [],
   "source": [
    "df = pd.read_pickle('df_model')"
   ]
  },
  {
   "cell_type": "code",
   "execution_count": 3,
   "id": "15011698",
   "metadata": {},
   "outputs": [],
   "source": [
    "df = df.dropna(subset =['final_years', 'final_make'])\n",
    "df =df.drop(['make','make_title', 'year', 'years', 'title_lower', 'URL', 'bikeTitle', 'attributes',], axis =1)\n",
    "df = df[df['final_years'].astype(str).str.isdigit()]\n",
    "df['odometer'] = df.odometer.str.extract('(^\\d*)')\n",
    "df[[\"final_years\"]] = df[['final_years']].apply(pd.to_numeric)\n",
    "df['Price']= df['Price'].apply(lambda x: x.replace('$',''))\n",
    "df['Price']= df['Price'].apply(lambda x: x.replace(',',''))\n",
    "df[['Price']] = df[['Price']].apply(pd.to_numeric)\n",
    "df[['odometer']] = df[['odometer']].apply(pd.to_numeric)\n",
    "df =df.reset_index(drop=True)\n",
    "df = df[df['Price']<50000]\n",
    "df=df[df['Price']>600]\n",
    "df = df[df['odometer']<100000]\n",
    "df = df[df['final_years']>1960]\n",
    "df = df[df['final_years']<2022]\n",
    "df.drop(\"VIN\", inplace =True, axis =1)\n",
    "df =df.reset_index(drop=True)\n",
    "df['condition'] = df['condition'].str.replace('excellentcryptocurrency ok', 'excellent')\n",
    "df['condition'] = df['condition'].str.replace('like newcryptocurrency ok', 'like new')\n",
    "df['condition'] = df['condition'].str.replace('goodcryptocurrency ok', 'good')\n",
    "df['condition'] = df['condition'].str.replace('faircryptocurrency ok', 'fair')\n",
    "df['condition'] = df['condition'].str.replace('newcryptocurrency ok', 'new')"
   ]
  },
  {
   "cell_type": "code",
   "execution_count": 4,
   "id": "399731e3",
   "metadata": {},
   "outputs": [],
   "source": [
    "df['fuel'] = df['fuel'].fillna(value='other')\n",
    "df['paint color'] = df['paint color'].fillna(value='other')\n",
    "df['title status'] = df['title status'].fillna(value='other')\n",
    "df['transmission'] = df['transmission'].fillna(value='other')\n",
    "df['condition'] = df['condition'].fillna(value='other')\n",
    "df['engine displacement (CC)'] = df['engine displacement (CC)'].fillna(value='other')\n",
    "df['type'] = df['type'].fillna(value='other')"
   ]
  },
  {
   "cell_type": "code",
   "execution_count": 5,
   "id": "bab313fe",
   "metadata": {},
   "outputs": [],
   "source": [
    "# R-squared and RMSE Function\n",
    "def performance(y_true, y_predict):\n",
    "    \"\"\" \n",
    "    Calculates and returns the two performance scores between \n",
    "    true and predicted values - first R-Squared, then RMSE\n",
    "    \"\"\"\n",
    "\n",
    "    # Calculate the r2 score between 'y_true' and 'y_predict'\n",
    "    r2 = r2_score(y_true, y_predict)\n",
    "\n",
    "    # Calculate the root mean squared error between 'y_true' and 'y_predict'\n",
    "    rmse = mean_squared_error(y_true, y_predict, squared=False)\n",
    "\n",
    "    # Return the score\n",
    "    return [r2, rmse]"
   ]
  },
  {
   "cell_type": "code",
   "execution_count": 6,
   "id": "69de94aa",
   "metadata": {},
   "outputs": [],
   "source": [
    "# Use train_test_split to create training data and testing data\n",
    "X = df.drop(['Price'], axis=1)\n",
    "y = df['Price']\n",
    "\n",
    "X_train, X_test, y_train, y_test = train_test_split(X, y, test_size=0.25, random_state=42)"
   ]
  },
  {
   "cell_type": "code",
   "execution_count": 7,
   "id": "0f300962",
   "metadata": {},
   "outputs": [],
   "source": [
    "# Get categoricals\n",
    "categoricals = ['fuel','paint color','title status', 'transmission', 'condition', 'type', 'final_make']\n",
    "\n",
    "train_dummies = X_train[categoricals]\n",
    "test_dummies = X_test[categoricals]\n",
    "\n",
    "# Create OneHotEncoder object to create dummies\n",
    "ohe = OneHotEncoder(handle_unknown='ignore')\n",
    "\n",
    "# Transform the dataset into dummies matrix\n",
    "enc = ohe.fit(train_dummies)\n",
    "\n",
    "train_dummies_trans = enc.transform(train_dummies)\n",
    "test_dummies_trans = enc.transform(test_dummies)\n",
    "\n",
    "# Dummies values in matrix form\n",
    "train_data = train_dummies_trans.todense()\n",
    "test_data = test_dummies_trans.todense()\n",
    "\n",
    "# New dummy column names\n",
    "names = ohe.get_feature_names(categoricals)\n",
    "\n",
    "# Make them into Dataframe\n",
    "train_dummies_trans_df = pd.DataFrame(train_data, columns=names)\n",
    "test_dummies_trans_df = pd.DataFrame(test_data, columns=names)"
   ]
  },
  {
   "cell_type": "code",
   "execution_count": 8,
   "id": "bcf01e38",
   "metadata": {},
   "outputs": [],
   "source": [
    "train_dummies_trans_df = train_dummies_trans_df[train_dummies_trans_df.columns.drop(list(train_dummies_trans_df.filter(regex='other')))]\n",
    "test_dummies_trans_df = test_dummies_trans_df[test_dummies_trans_df.columns.drop(list(test_dummies_trans_df.filter(regex='other')))]"
   ]
  },
  {
   "cell_type": "code",
   "execution_count": 9,
   "id": "81e9ad9b",
   "metadata": {},
   "outputs": [],
   "source": [
    "train_dummies_trans_df.reset_index(drop=True, inplace=True)\n",
    "\n",
    "\n",
    "test_dummies_trans_df.reset_index(drop=True, inplace=True)\n",
    "\n",
    "X_train =X_train.drop(categoricals, axis=1)\n",
    "X_test = X_test.drop(categoricals, axis=1)\n",
    "\n",
    "X_train.reset_index(drop=True, inplace=True)\n",
    "X_test.reset_index(drop=True, inplace=True)\n",
    "\n",
    "X_train_comb = pd.concat([X_train, train_dummies_trans_df], axis=1)\n",
    "X_test_comb = pd.concat([X_test, test_dummies_trans_df], axis=1)"
   ]
  },
  {
   "cell_type": "code",
   "execution_count": 10,
   "id": "dcd8def9",
   "metadata": {},
   "outputs": [],
   "source": [
    "X_train_comb = X_train_comb.drop(['title','engine displacement (CC)'],axis=1)\n",
    "X_test_comb = X_test_comb.drop(['title','engine displacement (CC)'], axis=1)"
   ]
  },
  {
   "cell_type": "code",
   "execution_count": 11,
   "id": "7a01580c",
   "metadata": {},
   "outputs": [],
   "source": [
    "bagged_tree =  BaggingRegressor(DecisionTreeRegressor(max_depth=5), \n",
    "                                 n_estimators=20)"
   ]
  },
  {
   "cell_type": "code",
   "execution_count": 12,
   "id": "faa5c5cc",
   "metadata": {},
   "outputs": [
    {
     "data": {
      "text/plain": [
       "BaggingRegressor(base_estimator=DecisionTreeRegressor(max_depth=5),\n",
       "                 n_estimators=20)"
      ]
     },
     "execution_count": 12,
     "metadata": {},
     "output_type": "execute_result"
    }
   ],
   "source": [
    "bagged_tree.fit(X_train_comb, y_train)\n"
   ]
  },
  {
   "cell_type": "code",
   "execution_count": 13,
   "id": "2ebea49f",
   "metadata": {},
   "outputs": [
    {
     "data": {
      "text/plain": [
       "0.530345644051119"
      ]
     },
     "execution_count": 13,
     "metadata": {},
     "output_type": "execute_result"
    }
   ],
   "source": [
    "bagged_tree.score(X_test_comb, y_test)\n"
   ]
  },
  {
   "cell_type": "code",
   "execution_count": 14,
   "id": "0a9b76e1",
   "metadata": {},
   "outputs": [
    {
     "data": {
      "text/plain": [
       "(0.530345644051119,\n",
       " 4393.370197051487,\n",
       " BaggingRegressor(base_estimator=DecisionTreeRegressor(max_depth=5),\n",
       "                  n_estimators=20))"
      ]
     },
     "execution_count": 14,
     "metadata": {},
     "output_type": "execute_result"
    }
   ],
   "source": [
    "y_pred = bagged_tree.predict(X_test_comb)\n",
    "score = performance(y_test, y_pred)\n",
    "score[0], score[1], bagged_tree"
   ]
  },
  {
   "cell_type": "markdown",
   "id": "60ad5625",
   "metadata": {},
   "source": [
    "# Random Forest"
   ]
  },
  {
   "cell_type": "code",
   "execution_count": 15,
   "id": "e5e1bf1b",
   "metadata": {},
   "outputs": [
    {
     "data": {
      "text/plain": [
       "RandomForestRegressor(max_depth=5)"
      ]
     },
     "execution_count": 15,
     "metadata": {},
     "output_type": "execute_result"
    }
   ],
   "source": [
    "# Instantiate and fit a RandomForestClassifier\n",
    "forest = RandomForestRegressor(n_estimators=100, max_depth= 5)\n",
    "forest.fit(X_train_comb, y_train)"
   ]
  },
  {
   "cell_type": "code",
   "execution_count": 16,
   "id": "bc99bb21",
   "metadata": {},
   "outputs": [
    {
     "data": {
      "text/plain": [
       "0.5455350908541277"
      ]
     },
     "execution_count": 16,
     "metadata": {},
     "output_type": "execute_result"
    }
   ],
   "source": [
    "forest.score(X_train_comb, y_train)"
   ]
  },
  {
   "cell_type": "code",
   "execution_count": 17,
   "id": "1121cf12",
   "metadata": {},
   "outputs": [
    {
     "data": {
      "text/plain": [
       "0.5389099712932142"
      ]
     },
     "execution_count": 17,
     "metadata": {},
     "output_type": "execute_result"
    }
   ],
   "source": [
    "forest.score(X_test_comb, y_test)"
   ]
  },
  {
   "cell_type": "code",
   "execution_count": 30,
   "id": "a69c506b",
   "metadata": {},
   "outputs": [],
   "source": [
    "def plot_feature_importances(model):\n",
    "    n_features = X_train_comb.shape[1]\n",
    "    plt.figure(figsize=(20,20))\n",
    "    plt.barh(range(n_features), model.feature_importances_, align='center') \n",
    "    plt.yticks(np.arange(n_features), X_train_comb.columns.values) \n",
    "    plt.xlabel('Feature importance')\n",
    "    plt.ylabel('Feature')"
   ]
  },
  {
   "cell_type": "code",
   "execution_count": 20,
   "id": "3b1a1aad",
   "metadata": {},
   "outputs": [
    {
     "data": {
      "text/plain": [
       "RandomForestRegressor(max_depth=5)"
      ]
     },
     "execution_count": 20,
     "metadata": {},
     "output_type": "execute_result"
    }
   ],
   "source": [
    "forest.fit(X_train_comb,y_train)"
   ]
  }
 ],
 "metadata": {
  "kernelspec": {
   "display_name": "Python 3",
   "language": "python",
   "name": "python3"
  },
  "language_info": {
   "codemirror_mode": {
    "name": "ipython",
    "version": 3
   },
   "file_extension": ".py",
   "mimetype": "text/x-python",
   "name": "python",
   "nbconvert_exporter": "python",
   "pygments_lexer": "ipython3",
   "version": "3.8.8"
  }
 },
 "nbformat": 4,
 "nbformat_minor": 5
}
