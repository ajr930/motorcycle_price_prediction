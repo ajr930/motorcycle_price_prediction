{
 "cells": [
  {
   "cell_type": "code",
   "execution_count": 1,
   "id": "57643511",
   "metadata": {},
   "outputs": [],
   "source": [
    "import pandas as pd\n",
    "import numpy as np\n",
    "from sklearn.linear_model import LinearRegression\n",
    "from sklearn.metrics import mean_absolute_error, mean_squared_error, r2_score\n",
    "from sklearn.model_selection import train_test_split, cross_validate, ShuffleSplit\n",
    "from sklearn.preprocessing import OneHotEncoder, StandardScaler\n",
    "from sklearn.tree import DecisionTreeRegressor\n",
    "from sklearn.metrics import mean_absolute_error, mean_squared_error\n",
    "import matplotlib.pyplot as plt\n",
    "import seaborn as sns\n",
    "import xgboost as XGBRegressor\n",
    "from sklearn.model_selection import GridSearchCV\n",
    "from numpy import absolute\n",
    "from sklearn.model_selection import cross_val_score\n",
    "from sklearn.model_selection import RepeatedKFold\n",
    "from xgboost import XGBRegressor\n",
    "from sklearn.pipeline import Pipeline\n",
    "from sklearn.pipeline import make_pipeline\n",
    "from sklearn.impute import SimpleImputer\n",
    "import pickle\n",
    "import category_encoders as ce\n",
    "from sklearn.ensemble import RandomForestRegressor"
   ]
  },
  {
   "cell_type": "code",
   "execution_count": 2,
   "id": "05d4b5c5",
   "metadata": {},
   "outputs": [],
   "source": [
    "df = pd.read_pickle('df_model')"
   ]
  },
  {
   "cell_type": "code",
   "execution_count": 3,
   "id": "070a321b",
   "metadata": {},
   "outputs": [],
   "source": [
    "df = df.dropna(subset =['final_years', 'final_make'])\n",
    "df =df.drop(['make','make_title', 'year', 'years', 'title_lower', 'URL', 'bikeTitle', 'attributes',], axis =1)\n",
    "df = df[df['final_years'].astype(str).str.isdigit()]\n",
    "df['odometer'] = df.odometer.str.extract('(^\\d*)')\n",
    "df[[\"final_years\"]] = df[['final_years']].apply(pd.to_numeric)\n",
    "df['Price']= df['Price'].apply(lambda x: x.replace('$',''))\n",
    "df['Price']= df['Price'].apply(lambda x: x.replace(',',''))\n",
    "df[['Price']] = df[['Price']].apply(pd.to_numeric)\n",
    "df[['odometer']] = df[['odometer']].apply(pd.to_numeric)\n",
    "df =df.reset_index(drop=True)\n",
    "df = df[df['Price']<50000]\n",
    "df=df[df['Price']>600]\n",
    "df = df[df['odometer']<100000]\n",
    "df = df[df['final_years']>1960]\n",
    "df = df[df['final_years']<2022]\n",
    "df.drop(\"VIN\", inplace =True, axis =1)\n",
    "df =df.reset_index(drop=True)\n",
    "df['condition'] = df['condition'].str.replace('excellentcryptocurrency ok', 'excellent')\n",
    "df['condition'] = df['condition'].str.replace('like newcryptocurrency ok', 'like new')\n",
    "df['condition'] = df['condition'].str.replace('goodcryptocurrency ok', 'good')\n",
    "df['condition'] = df['condition'].str.replace('faircryptocurrency ok', 'fair')\n",
    "df['condition'] = df['condition'].str.replace('newcryptocurrency ok', 'new')"
   ]
  },
  {
   "cell_type": "code",
   "execution_count": 4,
   "id": "440538b4",
   "metadata": {},
   "outputs": [],
   "source": [
    "df['fuel'] = df['fuel'].fillna(value='other')\n",
    "df['paint color'] = df['paint color'].fillna(value='other')\n",
    "df['title status'] = df['title status'].fillna(value='other')\n",
    "df['transmission'] = df['transmission'].fillna(value='other')\n",
    "df['condition'] = df['condition'].fillna(value='other')\n",
    "df['engine displacement (CC)'] = df['engine displacement (CC)'].fillna(value='other')\n",
    "df['type'] = df['type'].fillna(value='other')"
   ]
  },
  {
   "cell_type": "code",
   "execution_count": 5,
   "id": "f9c43fa8",
   "metadata": {},
   "outputs": [],
   "source": [
    "df = df[df['engine displacement (CC)']!='other']"
   ]
  },
  {
   "cell_type": "code",
   "execution_count": 6,
   "id": "d6eb8b72",
   "metadata": {},
   "outputs": [
    {
     "name": "stdout",
     "output_type": "stream",
     "text": [
      "<class 'pandas.core.frame.DataFrame'>\n",
      "Int64Index: 5045 entries, 3 to 12483\n",
      "Data columns (total 12 columns):\n",
      " #   Column                    Non-Null Count  Dtype  \n",
      "---  ------                    --------------  -----  \n",
      " 0   Price                     5045 non-null   int64  \n",
      " 1   title                     5045 non-null   object \n",
      " 2   fuel                      5045 non-null   object \n",
      " 3   odometer                  5045 non-null   float64\n",
      " 4   paint color               5045 non-null   object \n",
      " 5   title status              5045 non-null   object \n",
      " 6   transmission              5045 non-null   object \n",
      " 7   condition                 5045 non-null   object \n",
      " 8   engine displacement (CC)  5045 non-null   object \n",
      " 9   type                      5045 non-null   object \n",
      " 10  final_make                5045 non-null   object \n",
      " 11  final_years               5045 non-null   int64  \n",
      "dtypes: float64(1), int64(2), object(9)\n",
      "memory usage: 512.4+ KB\n"
     ]
    }
   ],
   "source": [
    "df.info()"
   ]
  },
  {
   "cell_type": "code",
   "execution_count": 7,
   "id": "0f96f956",
   "metadata": {},
   "outputs": [],
   "source": [
    "# Use train_test_split to create training data and testing data\n",
    "X = df.drop(['Price', 'title'], axis=1)\n",
    "y = df['Price']\n",
    "\n",
    "X_train, X_test, y_train, y_test = train_test_split(X, y, test_size=0.25, random_state=42)"
   ]
  },
  {
   "cell_type": "code",
   "execution_count": 8,
   "id": "46077d14",
   "metadata": {},
   "outputs": [],
   "source": [
    "categoricals = ['fuel','paint color','title status', 'transmission', 'condition', 'type', 'final_make','engine displacement (CC)']"
   ]
  },
  {
   "cell_type": "code",
   "execution_count": 9,
   "id": "eda1abb6",
   "metadata": {},
   "outputs": [
    {
     "name": "stdout",
     "output_type": "stream",
     "text": [
      "MAE: 1425.3235020375819\n",
      "R^2: 0.7751828908554921\n",
      "RMSE: 2193.4881115756566\n"
     ]
    }
   ],
   "source": [
    "\n",
    "pipeline1 = make_pipeline(\n",
    "    ce.TargetEncoder(),\n",
    "    SimpleImputer(strategy='median'),\n",
    "    RandomForestRegressor(max_depth=30,\n",
    "                                      n_estimators=50, n_jobs=-3,\n",
    "                                        random_state=30)\n",
    ")\n",
    "pipeline1.fit(X_train, y_train)\n",
    "\n",
    "y_pred = pipeline1.predict(X_test)\n",
    "print('MAE:', mean_absolute_error(y_test, y_pred))\n",
    "print('R^2:', r2_score(y_test, y_pred))\n",
    "print('RMSE:', mean_squared_error(y_test, y_pred, squared=False))"
   ]
  },
  {
   "cell_type": "code",
   "execution_count": 10,
   "id": "12a0c05c",
   "metadata": {},
   "outputs": [
    {
     "data": {
      "text/plain": [
       "Pipeline(steps=[('targetencoder',\n",
       "                 TargetEncoder(cols=['fuel', 'paint color', 'title status',\n",
       "                                     'transmission', 'condition',\n",
       "                                     'engine displacement (CC)', 'type',\n",
       "                                     'final_make'])),\n",
       "                ('simpleimputer', SimpleImputer(strategy='median')),\n",
       "                ('randomforestregressor',\n",
       "                 RandomForestRegressor(max_depth=30, n_estimators=50, n_jobs=-3,\n",
       "                                       random_state=30))])"
      ]
     },
     "execution_count": 10,
     "metadata": {},
     "output_type": "execute_result"
    }
   ],
   "source": [
    "pipeline1.fit(X,y)"
   ]
  },
  {
   "cell_type": "code",
   "execution_count": 12,
   "id": "c932ff2a",
   "metadata": {},
   "outputs": [],
   "source": [
    "with open(\"model_1.pkl\", 'wb') as f:\n",
    "    pickle.dump(pipeline1, f)"
   ]
  },
  {
   "cell_type": "code",
   "execution_count": 34,
   "id": "df8c3008",
   "metadata": {},
   "outputs": [
    {
     "name": "stdout",
     "output_type": "stream",
     "text": [
      "MAE: 1466.273978558282\n",
      "R^2: 0.7516544315391219\n",
      "RMSE: 2305.413398118557\n"
     ]
    }
   ],
   "source": [
    "pipeline2 = make_pipeline(\n",
    "    ce.TargetEncoder(),\n",
    "    SimpleImputer(strategy='median'),\n",
    "    XGBRegressor())\n",
    "\n",
    "pipeline2.fit(X_train, y_train)\n",
    "y_pred = pipeline2.predict(X_test)\n",
    "print('MAE:', mean_absolute_error(y_test, y_pred))\n",
    "print('R^2:', r2_score(y_test, y_pred))\n",
    "print('RMSE:', mean_squared_error(y_test, y_pred, squared=False))"
   ]
  },
  {
   "cell_type": "code",
   "execution_count": 35,
   "id": "b4499014",
   "metadata": {},
   "outputs": [
    {
     "name": "stdout",
     "output_type": "stream",
     "text": [
      "MAE: 1470.675428145661\n",
      "R^2: 0.7747478018553547\n",
      "RMSE: 2195.609616594203\n"
     ]
    }
   ],
   "source": [
    "pipeline4 = make_pipeline(\n",
    "    ce.TargetEncoder(),\n",
    "    SimpleImputer(strategy='median'),\n",
    "    XGBRegressor(learning_rate=0.1,\n",
    "                max_depth=6,\n",
    "                min_child_weight=2,\n",
    "                n_estimators =100,\n",
    "                subsample=0.9))\n",
    "\n",
    "pipeline4.fit(X_train, y_train)\n",
    "y_pred = pipeline4.predict(X_test)\n",
    "print('MAE:', mean_absolute_error(y_test, y_pred))\n",
    "print('R^2:', r2_score(y_test, y_pred))\n",
    "print('RMSE:', mean_squared_error(y_test, y_pred, squared=False))"
   ]
  },
  {
   "cell_type": "code",
   "execution_count": 36,
   "id": "ff84c2e2",
   "metadata": {},
   "outputs": [],
   "source": [
    "param_grid = {\n",
    "    'learning_rate': [0.1, 0.5, 1],\n",
    "    'max_depth': [2,5,6,10],\n",
    "    'min_child_weight': [1, 2, 3],\n",
    "    'subsample': [0.5, 0.7, .9],\n",
    "    'n_estimators': [10, 50, 100, 500 ],\n",
    "}"
   ]
  },
  {
   "cell_type": "code",
   "execution_count": 37,
   "id": "4b72dc94",
   "metadata": {},
   "outputs": [],
   "source": [
    "clf =XGBRegressor()"
   ]
  },
  {
   "cell_type": "code",
   "execution_count": 38,
   "id": "9c084eb9",
   "metadata": {},
   "outputs": [],
   "source": [
    "grid_clf = GridSearchCV(clf, param_grid, cv=5, n_jobs=1)\n"
   ]
  },
  {
   "cell_type": "code",
   "execution_count": 39,
   "id": "004fdca2",
   "metadata": {},
   "outputs": [],
   "source": [
    "pipeline3 = make_pipeline(\n",
    "    ce.TargetEncoder(),\n",
    "    SimpleImputer(strategy='median'),\n",
    "    grid_clf)"
   ]
  },
  {
   "cell_type": "code",
   "execution_count": 40,
   "id": "94d0dfe9",
   "metadata": {},
   "outputs": [
    {
     "name": "stdout",
     "output_type": "stream",
     "text": [
      "MAE: 1472.0230528140785\n",
      "R^2: 0.779550457677505\n",
      "RMSE: 2172.0769462757185\n"
     ]
    }
   ],
   "source": [
    "pipeline3.fit(X_train, y_train)\n",
    "y_pred = pipeline3.predict(X_test)\n",
    "print('MAE:', mean_absolute_error(y_test, y_pred))\n",
    "print('R^2:', r2_score(y_test, y_pred))\n",
    "print('RMSE:', mean_squared_error(y_test, y_pred, squared=False))"
   ]
  },
  {
   "cell_type": "code",
   "execution_count": 41,
   "id": "921471a8",
   "metadata": {},
   "outputs": [
    {
     "name": "stdout",
     "output_type": "stream",
     "text": [
      "Grid Search found the following optimal parameters: \n",
      "learning_rate: 0.1\n",
      "max_depth: 6\n",
      "min_child_weight: 3\n",
      "n_estimators: 100\n",
      "subsample: 0.9\n"
     ]
    }
   ],
   "source": [
    "best_parameters = grid_clf.best_params_\n",
    "\n",
    "print('Grid Search found the following optimal parameters: ')\n",
    "for param_name in sorted(best_parameters.keys()):\n",
    "    print('%s: %r' % (param_name, best_parameters[param_name]))"
   ]
  },
  {
   "cell_type": "code",
   "execution_count": 42,
   "id": "d018dbc3",
   "metadata": {},
   "outputs": [
    {
     "data": {
      "text/plain": [
       "Pipeline(steps=[('targetencoder',\n",
       "                 TargetEncoder(cols=['fuel', 'paint color', 'title status',\n",
       "                                     'transmission', 'condition',\n",
       "                                     'engine displacement (CC)', 'type',\n",
       "                                     'final_make'])),\n",
       "                ('simpleimputer', SimpleImputer(strategy='median')),\n",
       "                ('xgbregressor',\n",
       "                 XGBRegressor(base_score=0.5, booster='gbtree',\n",
       "                              colsample_bylevel=1, colsample_bynode=1,\n",
       "                              colsample_bytree=1, gamma=0, gpu_id=-1,\n",
       "                              importance_type='gain',\n",
       "                              interaction_constraints='', learning_rate=0.1,\n",
       "                              max_delta_step=0, max_depth=6, min_child_weight=2,\n",
       "                              missing=nan, monotone_constraints='()',\n",
       "                              n_estimators=100, n_jobs=8, num_parallel_tree=1,\n",
       "                              random_state=0, reg_alpha=0, reg_lambda=1,\n",
       "                              scale_pos_weight=1, subsample=0.9,\n",
       "                              tree_method='exact', validate_parameters=1,\n",
       "                              verbosity=None))])"
      ]
     },
     "execution_count": 42,
     "metadata": {},
     "output_type": "execute_result"
    }
   ],
   "source": [
    "pipeline4.fit(X,y)"
   ]
  },
  {
   "cell_type": "code",
   "execution_count": 22,
   "id": "7633bc09",
   "metadata": {},
   "outputs": [],
   "source": [
    "with open(\"model.pkl\", 'wb') as f:\n",
    "    pickle.dump(pipeline4, f)"
   ]
  },
  {
   "cell_type": "code",
   "execution_count": null,
   "id": "3e1939b2",
   "metadata": {},
   "outputs": [],
   "source": []
  }
 ],
 "metadata": {
  "kernelspec": {
   "display_name": "Python 3",
   "language": "python",
   "name": "python3"
  },
  "language_info": {
   "codemirror_mode": {
    "name": "ipython",
    "version": 3
   },
   "file_extension": ".py",
   "mimetype": "text/x-python",
   "name": "python",
   "nbconvert_exporter": "python",
   "pygments_lexer": "ipython3",
   "version": "3.8.8"
  }
 },
 "nbformat": 4,
 "nbformat_minor": 5
}
