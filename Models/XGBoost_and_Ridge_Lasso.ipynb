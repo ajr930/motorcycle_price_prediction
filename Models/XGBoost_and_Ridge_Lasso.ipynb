{
 "cells": [
  {
   "cell_type": "code",
   "execution_count": 1,
   "id": "4a96f306",
   "metadata": {},
   "outputs": [],
   "source": [
    "import pandas as pd\n",
    "import numpy as np\n",
    "from sklearn.linear_model import LinearRegression\n",
    "from sklearn.metrics import mean_absolute_error, mean_squared_error, r2_score\n",
    "from sklearn.model_selection import train_test_split, cross_validate, ShuffleSplit\n",
    "from sklearn.preprocessing import OneHotEncoder, StandardScaler\n",
    "from sklearn.tree import DecisionTreeRegressor\n",
    "from sklearn.metrics import mean_absolute_error, mean_squared_error\n",
    "import matplotlib.pyplot as plt\n",
    "import seaborn as sns\n",
    "import xgboost as XGBRegressor\n",
    "from sklearn.model_selection import GridSearchCV\n"
   ]
  },
  {
   "cell_type": "code",
   "execution_count": 2,
   "id": "71e43821",
   "metadata": {},
   "outputs": [],
   "source": [
    "df = pd.read_pickle('df_model')"
   ]
  },
  {
   "cell_type": "code",
   "execution_count": 3,
   "id": "5fcec90c",
   "metadata": {},
   "outputs": [],
   "source": [
    "df = df.dropna(subset =['final_years', 'final_make'])\n",
    "df =df.drop(['make','make_title', 'year', 'years', 'title_lower', 'URL', 'bikeTitle', 'attributes',], axis =1)\n",
    "df = df[df['final_years'].astype(str).str.isdigit()]\n",
    "df['odometer'] = df.odometer.str.extract('(^\\d*)')\n",
    "df[[\"final_years\"]] = df[['final_years']].apply(pd.to_numeric)\n",
    "df['Price']= df['Price'].apply(lambda x: x.replace('$',''))\n",
    "df['Price']= df['Price'].apply(lambda x: x.replace(',',''))\n",
    "df[['Price']] = df[['Price']].apply(pd.to_numeric)\n",
    "df[['odometer']] = df[['odometer']].apply(pd.to_numeric)\n",
    "df =df.reset_index(drop=True)\n",
    "df = df[df['Price']<50000]\n",
    "df=df[df['Price']>600]\n",
    "df = df[df['odometer']<100000]\n",
    "df = df[df['final_years']>1960]\n",
    "df = df[df['final_years']<2022]\n",
    "df.drop(\"VIN\", inplace =True, axis =1)\n",
    "df =df.reset_index(drop=True)\n",
    "df['condition'] = df['condition'].str.replace('excellentcryptocurrency ok', 'excellent')\n",
    "df['condition'] = df['condition'].str.replace('like newcryptocurrency ok', 'like new')\n",
    "df['condition'] = df['condition'].str.replace('goodcryptocurrency ok', 'good')\n",
    "df['condition'] = df['condition'].str.replace('faircryptocurrency ok', 'fair')\n",
    "df['condition'] = df['condition'].str.replace('newcryptocurrency ok', 'new')"
   ]
  },
  {
   "cell_type": "code",
   "execution_count": 4,
   "id": "83db5c40",
   "metadata": {},
   "outputs": [],
   "source": [
    "df['fuel'] = df['fuel'].fillna(value='other')\n",
    "df['paint color'] = df['paint color'].fillna(value='other')\n",
    "df['title status'] = df['title status'].fillna(value='other')\n",
    "df['transmission'] = df['transmission'].fillna(value='other')\n",
    "df['condition'] = df['condition'].fillna(value='other')\n",
    "df['engine displacement (CC)'] = df['engine displacement (CC)'].fillna(value='other')\n",
    "df['type'] = df['type'].fillna(value='other')\n",
    "df = df[df['engine displacement (CC)']!='other']"
   ]
  },
  {
   "cell_type": "code",
   "execution_count": 5,
   "id": "60409e7a",
   "metadata": {},
   "outputs": [],
   "source": [
    "# df['engine displacement (CC)']= df['engine displacement (CC)'].astype(float)\n",
    "# bins = [0,250,500,750,1000,1250,1500,1750,2000, np.inf]\n",
    "# names =['0-250', '251-500', '501-750', '751-1000', '1001- 1250', '1251-1500', '1501-1750',' 1751-2000', '2001+']\n",
    "\n",
    "# df['engine_displacement'] = pd.cut(df['engine displacement (CC)'], bins, labels=names)"
   ]
  },
  {
   "cell_type": "code",
   "execution_count": 6,
   "id": "45bac8b1",
   "metadata": {},
   "outputs": [],
   "source": [
    "# df = df.drop('engine displacement (CC)',axis=1)"
   ]
  },
  {
   "cell_type": "code",
   "execution_count": 7,
   "id": "1cea43a3",
   "metadata": {},
   "outputs": [
    {
     "data": {
      "text/html": [
       "<div>\n",
       "<style scoped>\n",
       "    .dataframe tbody tr th:only-of-type {\n",
       "        vertical-align: middle;\n",
       "    }\n",
       "\n",
       "    .dataframe tbody tr th {\n",
       "        vertical-align: top;\n",
       "    }\n",
       "\n",
       "    .dataframe thead th {\n",
       "        text-align: right;\n",
       "    }\n",
       "</style>\n",
       "<table border=\"1\" class=\"dataframe\">\n",
       "  <thead>\n",
       "    <tr style=\"text-align: right;\">\n",
       "      <th></th>\n",
       "      <th>Price</th>\n",
       "      <th>title</th>\n",
       "      <th>fuel</th>\n",
       "      <th>odometer</th>\n",
       "      <th>paint color</th>\n",
       "      <th>title status</th>\n",
       "      <th>transmission</th>\n",
       "      <th>condition</th>\n",
       "      <th>engine displacement (CC)</th>\n",
       "      <th>type</th>\n",
       "      <th>final_make</th>\n",
       "      <th>final_years</th>\n",
       "    </tr>\n",
       "  </thead>\n",
       "  <tbody>\n",
       "    <tr>\n",
       "      <th>3</th>\n",
       "      <td>3000</td>\n",
       "      <td>2002 Honda VTX 1800 C Custom</td>\n",
       "      <td>gas</td>\n",
       "      <td>69000.0</td>\n",
       "      <td>black</td>\n",
       "      <td>clean</td>\n",
       "      <td>manual</td>\n",
       "      <td>excellent</td>\n",
       "      <td>1800</td>\n",
       "      <td>cafe racer</td>\n",
       "      <td>honda</td>\n",
       "      <td>2002</td>\n",
       "    </tr>\n",
       "    <tr>\n",
       "      <th>10</th>\n",
       "      <td>5500</td>\n",
       "      <td>1975 Honda CB500T Cafe Racer</td>\n",
       "      <td>gas</td>\n",
       "      <td>368.0</td>\n",
       "      <td>other</td>\n",
       "      <td>other</td>\n",
       "      <td>manual</td>\n",
       "      <td>excellent</td>\n",
       "      <td>534</td>\n",
       "      <td>cafe racer</td>\n",
       "      <td>honda</td>\n",
       "      <td>1975</td>\n",
       "    </tr>\n",
       "    <tr>\n",
       "      <th>11</th>\n",
       "      <td>2900</td>\n",
       "      <td>2004 Honda CRF450R</td>\n",
       "      <td>gas</td>\n",
       "      <td>100.0</td>\n",
       "      <td>other</td>\n",
       "      <td>clean</td>\n",
       "      <td>manual</td>\n",
       "      <td>excellent</td>\n",
       "      <td>450</td>\n",
       "      <td>dirtbike</td>\n",
       "      <td>honda</td>\n",
       "      <td>2004</td>\n",
       "    </tr>\n",
       "    <tr>\n",
       "      <th>12</th>\n",
       "      <td>5995</td>\n",
       "      <td>2016 Honda NM4</td>\n",
       "      <td>gas</td>\n",
       "      <td>13000.0</td>\n",
       "      <td>black</td>\n",
       "      <td>clean</td>\n",
       "      <td>automatic</td>\n",
       "      <td>excellent</td>\n",
       "      <td>700</td>\n",
       "      <td>cruiser</td>\n",
       "      <td>honda</td>\n",
       "      <td>2016</td>\n",
       "    </tr>\n",
       "    <tr>\n",
       "      <th>18</th>\n",
       "      <td>6900</td>\n",
       "      <td>R1200 GS Adventure</td>\n",
       "      <td>gas</td>\n",
       "      <td>71900.0</td>\n",
       "      <td>red</td>\n",
       "      <td>clean</td>\n",
       "      <td>automatic</td>\n",
       "      <td>good</td>\n",
       "      <td>1200</td>\n",
       "      <td>touring</td>\n",
       "      <td>bmw</td>\n",
       "      <td>2007</td>\n",
       "    </tr>\n",
       "    <tr>\n",
       "      <th>...</th>\n",
       "      <td>...</td>\n",
       "      <td>...</td>\n",
       "      <td>...</td>\n",
       "      <td>...</td>\n",
       "      <td>...</td>\n",
       "      <td>...</td>\n",
       "      <td>...</td>\n",
       "      <td>...</td>\n",
       "      <td>...</td>\n",
       "      <td>...</td>\n",
       "      <td>...</td>\n",
       "      <td>...</td>\n",
       "    </tr>\n",
       "    <tr>\n",
       "      <th>12478</th>\n",
       "      <td>1900</td>\n",
       "      <td>Suzuki GZ250 Marauder</td>\n",
       "      <td>gas</td>\n",
       "      <td>2793.0</td>\n",
       "      <td>black</td>\n",
       "      <td>clean</td>\n",
       "      <td>manual</td>\n",
       "      <td>excellent</td>\n",
       "      <td>250</td>\n",
       "      <td>cruiser</td>\n",
       "      <td>suzuki</td>\n",
       "      <td>2007</td>\n",
       "    </tr>\n",
       "    <tr>\n",
       "      <th>12480</th>\n",
       "      <td>19995</td>\n",
       "      <td>'20 BMW R1250GSA</td>\n",
       "      <td>gas</td>\n",
       "      <td>11715.0</td>\n",
       "      <td>green</td>\n",
       "      <td>clean</td>\n",
       "      <td>manual</td>\n",
       "      <td>excellent</td>\n",
       "      <td>1250</td>\n",
       "      <td>other</td>\n",
       "      <td>bmw</td>\n",
       "      <td>2020</td>\n",
       "    </tr>\n",
       "    <tr>\n",
       "      <th>12481</th>\n",
       "      <td>3200</td>\n",
       "      <td>2004 V-Strom 1000</td>\n",
       "      <td>gas</td>\n",
       "      <td>42000.0</td>\n",
       "      <td>blue</td>\n",
       "      <td>clean</td>\n",
       "      <td>manual</td>\n",
       "      <td>fair</td>\n",
       "      <td>1000</td>\n",
       "      <td>street</td>\n",
       "      <td>suzuki</td>\n",
       "      <td>2004</td>\n",
       "    </tr>\n",
       "    <tr>\n",
       "      <th>12482</th>\n",
       "      <td>7000</td>\n",
       "      <td>2012 Kawasaki Vulcan 900 Classic</td>\n",
       "      <td>gas</td>\n",
       "      <td>17543.0</td>\n",
       "      <td>black</td>\n",
       "      <td>clean</td>\n",
       "      <td>manual</td>\n",
       "      <td>excellent</td>\n",
       "      <td>900</td>\n",
       "      <td>cruiser</td>\n",
       "      <td>kawasaki</td>\n",
       "      <td>2012</td>\n",
       "    </tr>\n",
       "    <tr>\n",
       "      <th>12483</th>\n",
       "      <td>3500</td>\n",
       "      <td>1994 SUZUKI DR350SE W/8K MILES</td>\n",
       "      <td>gas</td>\n",
       "      <td>8100.0</td>\n",
       "      <td>blue</td>\n",
       "      <td>clean</td>\n",
       "      <td>manual</td>\n",
       "      <td>excellent</td>\n",
       "      <td>350</td>\n",
       "      <td>dual-sport</td>\n",
       "      <td>suzuki</td>\n",
       "      <td>1994</td>\n",
       "    </tr>\n",
       "  </tbody>\n",
       "</table>\n",
       "<p>5045 rows × 12 columns</p>\n",
       "</div>"
      ],
      "text/plain": [
       "       Price                             title fuel  odometer paint color  \\\n",
       "3       3000      2002 Honda VTX 1800 C Custom  gas   69000.0       black   \n",
       "10      5500      1975 Honda CB500T Cafe Racer  gas     368.0       other   \n",
       "11      2900                2004 Honda CRF450R  gas     100.0       other   \n",
       "12      5995                    2016 Honda NM4  gas   13000.0       black   \n",
       "18      6900                R1200 GS Adventure  gas   71900.0         red   \n",
       "...      ...                               ...  ...       ...         ...   \n",
       "12478   1900             Suzuki GZ250 Marauder  gas    2793.0       black   \n",
       "12480  19995                  '20 BMW R1250GSA  gas   11715.0       green   \n",
       "12481   3200                 2004 V-Strom 1000  gas   42000.0        blue   \n",
       "12482   7000  2012 Kawasaki Vulcan 900 Classic  gas   17543.0       black   \n",
       "12483   3500    1994 SUZUKI DR350SE W/8K MILES  gas    8100.0        blue   \n",
       "\n",
       "      title status transmission  condition engine displacement (CC)  \\\n",
       "3            clean       manual  excellent                     1800   \n",
       "10           other       manual  excellent                      534   \n",
       "11           clean       manual  excellent                      450   \n",
       "12           clean    automatic  excellent                      700   \n",
       "18           clean    automatic       good                     1200   \n",
       "...            ...          ...        ...                      ...   \n",
       "12478        clean       manual  excellent                      250   \n",
       "12480        clean       manual  excellent                     1250   \n",
       "12481        clean       manual       fair                     1000   \n",
       "12482        clean       manual  excellent                      900   \n",
       "12483        clean       manual  excellent                      350   \n",
       "\n",
       "             type final_make  final_years  \n",
       "3      cafe racer      honda         2002  \n",
       "10     cafe racer      honda         1975  \n",
       "11       dirtbike      honda         2004  \n",
       "12        cruiser      honda         2016  \n",
       "18        touring        bmw         2007  \n",
       "...           ...        ...          ...  \n",
       "12478     cruiser     suzuki         2007  \n",
       "12480       other        bmw         2020  \n",
       "12481      street     suzuki         2004  \n",
       "12482     cruiser   kawasaki         2012  \n",
       "12483  dual-sport     suzuki         1994  \n",
       "\n",
       "[5045 rows x 12 columns]"
      ]
     },
     "execution_count": 7,
     "metadata": {},
     "output_type": "execute_result"
    }
   ],
   "source": [
    "df"
   ]
  },
  {
   "cell_type": "code",
   "execution_count": 8,
   "id": "2b724d21",
   "metadata": {},
   "outputs": [],
   "source": [
    "# R-squared and RMSE Function\n",
    "def performance(y_true, y_predict):\n",
    "    \"\"\" \n",
    "    Calculates and returns the two performance scores between \n",
    "    true and predicted values - first R-Squared, then RMSE\n",
    "    \"\"\"\n",
    "\n",
    "    # Calculate the r2 score between 'y_true' and 'y_predict'\n",
    "    r2 = r2_score(y_true, y_predict)\n",
    "\n",
    "    # Calculate the root mean squared error between 'y_true' and 'y_predict'\n",
    "    rmse = mean_squared_error(y_true, y_predict, squared=False)\n",
    "\n",
    "    # Return the score\n",
    "    return [r2, rmse]"
   ]
  },
  {
   "cell_type": "code",
   "execution_count": 9,
   "id": "01715063",
   "metadata": {},
   "outputs": [],
   "source": [
    "# Use train_test_split to create training data and testing data\n",
    "X = df.drop(['Price'], axis=1)\n",
    "y = df['Price']\n",
    "\n",
    "X_train, X_test, y_train, y_test = train_test_split(X, y, test_size=0.25, random_state=42)"
   ]
  },
  {
   "cell_type": "code",
   "execution_count": 10,
   "id": "44d11602",
   "metadata": {},
   "outputs": [],
   "source": [
    "# Get categoricals\n",
    "categoricals = ['fuel','paint color','title status', 'transmission', 'condition', 'type', 'final_make','engine displacement (CC)']\n",
    "\n",
    "train_dummies = X_train[categoricals]\n",
    "test_dummies = X_test[categoricals]\n",
    "\n",
    "# Create OneHotEncoder object to create dummies\n",
    "ohe = OneHotEncoder(handle_unknown='ignore')\n",
    "\n",
    "# Transform the dataset into dummies matrix\n",
    "enc = ohe.fit(train_dummies)\n",
    "\n",
    "train_dummies_trans = enc.transform(train_dummies)\n",
    "test_dummies_trans = enc.transform(test_dummies)\n",
    "\n",
    "# Dummies values in matrix form\n",
    "train_data = train_dummies_trans.todense()\n",
    "test_data = test_dummies_trans.todense()\n",
    "\n",
    "# New dummy column names\n",
    "names = ohe.get_feature_names(categoricals)\n",
    "\n",
    "# Make them into Dataframe\n",
    "train_dummies_trans_df = pd.DataFrame(train_data, columns=names)\n",
    "test_dummies_trans_df = pd.DataFrame(test_data, columns=names)"
   ]
  },
  {
   "cell_type": "code",
   "execution_count": 11,
   "id": "aecfeb78",
   "metadata": {},
   "outputs": [],
   "source": [
    "train_dummies_trans_df = train_dummies_trans_df[train_dummies_trans_df.columns.drop(list(train_dummies_trans_df.filter(regex='other')))]\n",
    "test_dummies_trans_df = test_dummies_trans_df[test_dummies_trans_df.columns.drop(list(test_dummies_trans_df.filter(regex='other')))]"
   ]
  },
  {
   "cell_type": "code",
   "execution_count": 12,
   "id": "c0680e24",
   "metadata": {},
   "outputs": [],
   "source": [
    "train_dummies_trans_df.reset_index(drop=True, inplace=True)\n",
    "\n",
    "\n",
    "test_dummies_trans_df.reset_index(drop=True, inplace=True)\n",
    "\n",
    "X_train =X_train.drop(categoricals, axis=1)\n",
    "X_test = X_test.drop(categoricals, axis=1)\n",
    "\n",
    "X_train.reset_index(drop=True, inplace=True)\n",
    "X_test.reset_index(drop=True, inplace=True)\n",
    "\n",
    "X_train_comb = pd.concat([X_train, train_dummies_trans_df], axis=1)\n",
    "X_test_comb = pd.concat([X_test, test_dummies_trans_df], axis=1)"
   ]
  },
  {
   "cell_type": "code",
   "execution_count": 13,
   "id": "beb3bb89",
   "metadata": {},
   "outputs": [],
   "source": [
    "X_train_comb = X_train_comb.drop(['title'],axis=1)\n",
    "X_test_comb = X_test_comb.drop(['title'], axis=1)"
   ]
  },
  {
   "cell_type": "code",
   "execution_count": null,
   "id": "1d1722b9",
   "metadata": {},
   "outputs": [],
   "source": [
    "X_train_comb['engin']"
   ]
  },
  {
   "cell_type": "code",
   "execution_count": 122,
   "id": "e66129ce",
   "metadata": {},
   "outputs": [],
   "source": [
    "from numpy import absolute\n",
    "from sklearn.model_selection import cross_val_score\n",
    "from sklearn.model_selection import RepeatedKFold\n",
    "from xgboost import XGBRegressor"
   ]
  },
  {
   "cell_type": "code",
   "execution_count": 123,
   "id": "8220b6f5",
   "metadata": {},
   "outputs": [],
   "source": [
    "model = XGBRegressor()"
   ]
  },
  {
   "cell_type": "code",
   "execution_count": 124,
   "id": "aafbfbd1",
   "metadata": {},
   "outputs": [],
   "source": [
    "cv = RepeatedKFold(n_splits=10, n_repeats=3, random_state=1)"
   ]
  },
  {
   "cell_type": "code",
   "execution_count": 125,
   "id": "392c85a4",
   "metadata": {},
   "outputs": [],
   "source": [
    "scores = cross_val_score(model, X_test_comb, y_test, scoring='neg_mean_absolute_error', cv=cv, n_jobs=-1)"
   ]
  },
  {
   "cell_type": "code",
   "execution_count": 126,
   "id": "a380037e",
   "metadata": {},
   "outputs": [],
   "source": [
    "scores = absolute(scores)"
   ]
  },
  {
   "cell_type": "code",
   "execution_count": 127,
   "id": "014003ef",
   "metadata": {},
   "outputs": [
    {
     "name": "stdout",
     "output_type": "stream",
     "text": [
      "Mean MAE: 1803.262 (149.621)\n"
     ]
    }
   ],
   "source": [
    "print('Mean MAE: %.3f (%.3f)' % (scores.mean(), scores.std()) )"
   ]
  },
  {
   "cell_type": "code",
   "execution_count": 128,
   "id": "2001c96f",
   "metadata": {},
   "outputs": [],
   "source": [
    "# R-squared and RMSE Function\n",
    "def performance(y_true, y_predict):\n",
    "    \"\"\" \n",
    "    Calculates and returns the two performance scores between \n",
    "    true and predicted values - first R-Squared, then RMSE\n",
    "    \"\"\"\n",
    "\n",
    "    # Calculate the r2 score between 'y_true' and 'y_predict'\n",
    "    r2 = r2_score(y_true, y_predict)\n",
    "\n",
    "    # Calculate the root mean squared error between 'y_true' and 'y_predict'\n",
    "    rmse = mean_squared_error(y_true, y_predict, squared=False)\n",
    "\n",
    "    # Return the score\n",
    "    return [r2, rmse]"
   ]
  },
  {
   "cell_type": "code",
   "execution_count": 129,
   "id": "5a35f700",
   "metadata": {},
   "outputs": [
    {
     "data": {
      "text/plain": [
       "XGBRegressor(base_score=0.5, booster='gbtree', colsample_bylevel=1,\n",
       "             colsample_bynode=1, colsample_bytree=1, gamma=0, gpu_id=-1,\n",
       "             importance_type='gain', interaction_constraints='',\n",
       "             learning_rate=0.300000012, max_delta_step=0, max_depth=6,\n",
       "             min_child_weight=1, missing=nan, monotone_constraints='()',\n",
       "             n_estimators=100, n_jobs=8, num_parallel_tree=1, random_state=0,\n",
       "             reg_alpha=0, reg_lambda=1, scale_pos_weight=1, subsample=1,\n",
       "             tree_method='exact', validate_parameters=1, verbosity=None)"
      ]
     },
     "execution_count": 129,
     "metadata": {},
     "output_type": "execute_result"
    }
   ],
   "source": [
    "model.fit(X_train_comb, y_train)"
   ]
  },
  {
   "cell_type": "code",
   "execution_count": 130,
   "id": "505af26b",
   "metadata": {},
   "outputs": [
    {
     "data": {
      "text/plain": [
       "(0.7590707866125307,\n",
       " 2270.7291583330752,\n",
       " XGBRegressor(base_score=0.5, booster='gbtree', colsample_bylevel=1,\n",
       "              colsample_bynode=1, colsample_bytree=1, gamma=0, gpu_id=-1,\n",
       "              importance_type='gain', interaction_constraints='',\n",
       "              learning_rate=0.300000012, max_delta_step=0, max_depth=6,\n",
       "              min_child_weight=1, missing=nan, monotone_constraints='()',\n",
       "              n_estimators=100, n_jobs=8, num_parallel_tree=1, random_state=0,\n",
       "              reg_alpha=0, reg_lambda=1, scale_pos_weight=1, subsample=1,\n",
       "              tree_method='exact', validate_parameters=1, verbosity=None))"
      ]
     },
     "execution_count": 130,
     "metadata": {},
     "output_type": "execute_result"
    }
   ],
   "source": [
    "y_pred = model.predict(X_test_comb)\n",
    "score = performance(y_test, y_pred)\n",
    "score[0], score[1], model"
   ]
  },
  {
   "cell_type": "code",
   "execution_count": 131,
   "id": "420d7b03",
   "metadata": {},
   "outputs": [],
   "source": [
    "param_grid = {\n",
    "    'learning_rate': [0.1, 0.2],\n",
    "    'max_depth': [6],\n",
    "    'min_child_weight': [1, 2],\n",
    "    'subsample': [0.5, 0.7],\n",
    "    'n_estimators': [100],\n",
    "}"
   ]
  },
  {
   "cell_type": "code",
   "execution_count": 132,
   "id": "2f312743",
   "metadata": {},
   "outputs": [
    {
     "name": "stderr",
     "output_type": "stream",
     "text": [
      "/Users/avijames/anaconda3/lib/python3.8/site-packages/joblib/externals/loky/process_executor.py:688: UserWarning: A worker stopped while some jobs were given to the executor. This can be caused by a too short worker timeout or by a memory leak.\n",
      "  warnings.warn(\n"
     ]
    },
    {
     "name": "stdout",
     "output_type": "stream",
     "text": [
      "Grid Search found the following optimal parameters: \n",
      "learning_rate: 0.2\n",
      "max_depth: 6\n",
      "min_child_weight: 2\n",
      "n_estimators: 100\n",
      "subsample: 0.7\n",
      "0.7644243419275982 2245.3591224085644 XGBRegressor(base_score=0.5, booster='gbtree', colsample_bylevel=1,\n",
      "             colsample_bynode=1, colsample_bytree=1, gamma=0, gpu_id=-1,\n",
      "             importance_type='gain', interaction_constraints='',\n",
      "             learning_rate=0.300000012, max_delta_step=0, max_depth=6,\n",
      "             min_child_weight=1, missing=nan, monotone_constraints='()',\n",
      "             n_estimators=100, n_jobs=8, num_parallel_tree=1, random_state=0,\n",
      "             reg_alpha=0, reg_lambda=1, scale_pos_weight=1, subsample=1,\n",
      "             tree_method='exact', validate_parameters=1, verbosity=None)\n"
     ]
    }
   ],
   "source": [
    "grid_clf = GridSearchCV(model, param_grid, cv=3, n_jobs=3)\n",
    "grid_clf.fit(X_train_comb, y_train)\n",
    "\n",
    "best_parameters = grid_clf.best_params_\n",
    "\n",
    "print('Grid Search found the following optimal parameters: ')\n",
    "for param_name in sorted(best_parameters.keys()):\n",
    "    print('%s: %r' % (param_name, best_parameters[param_name]))\n",
    "\n",
    "training_preds = grid_clf.predict(X_train_comb)\n",
    "test_preds = grid_clf.predict(X_test_comb)\n",
    "\n",
    "score = performance(y_test, test_preds)\n",
    "print(score[0], score[1], model)"
   ]
  },
  {
   "cell_type": "code",
   "execution_count": null,
   "id": "12e9d062",
   "metadata": {},
   "outputs": [],
   "source": []
  },
  {
   "cell_type": "code",
   "execution_count": null,
   "id": "fd29e829",
   "metadata": {},
   "outputs": [],
   "source": []
  },
  {
   "cell_type": "code",
   "execution_count": 133,
   "id": "de091f56",
   "metadata": {},
   "outputs": [],
   "source": [
    "from sklearn.linear_model import LinearRegression\n",
    "from sklearn.preprocessing import MinMaxScaler\n",
    "from sklearn.linear_model import Lasso, Ridge, LinearRegression\n",
    "from sklearn.model_selection import train_test_split\n",
    "import pandas as pd\n",
    "import numpy as np\n",
    "import matplotlib.pyplot as plt"
   ]
  },
  {
   "cell_type": "code",
   "execution_count": 134,
   "id": "3f26efa9",
   "metadata": {},
   "outputs": [],
   "source": [
    "scale = MinMaxScaler()\n",
    "X_train_transformed = scale.fit_transform(X_train_comb)\n",
    "X_test_transformed = scale.transform(X_test_comb)"
   ]
  },
  {
   "cell_type": "code",
   "execution_count": 135,
   "id": "53aeff8c",
   "metadata": {},
   "outputs": [
    {
     "data": {
      "text/plain": [
       "LinearRegression()"
      ]
     },
     "execution_count": 135,
     "metadata": {},
     "output_type": "execute_result"
    }
   ],
   "source": [
    "ridge = Ridge(alpha=0.5)\n",
    "ridge.fit(X_train_transformed, y_train)\n",
    "\n",
    "lasso = Lasso(alpha=0.5)\n",
    "lasso.fit(X_train_transformed, y_train)\n",
    "\n",
    "lin = LinearRegression()\n",
    "lin.fit(X_train_transformed, y_train)"
   ]
  },
  {
   "cell_type": "code",
   "execution_count": 136,
   "id": "d54d79e4",
   "metadata": {},
   "outputs": [],
   "source": [
    "# Generate preditions for training and test sets\n",
    "y_h_ridge_train = ridge.predict(X_train_transformed)\n",
    "y_h_ridge_test = ridge.predict(X_test_transformed)\n",
    "\n",
    "# y_h_lasso_train = np.reshape(lasso.predict(X_train_transformed), (274, 1))\n",
    "# y_h_lasso_test = np.reshape(lasso.predict(X_test_transformed), (118, 1))\n",
    "\n",
    "y_h_lin_train = lin.predict(X_train_transformed)\n",
    "y_h_lin_test = lin.predict(X_test_transformed)"
   ]
  },
  {
   "cell_type": "code",
   "execution_count": 137,
   "id": "064cfe05",
   "metadata": {},
   "outputs": [
    {
     "name": "stdout",
     "output_type": "stream",
     "text": [
      "Train Error Ridge Model 26383661408.565697\n",
      "Test Error Ridge Model 8326044669.98667\n",
      "\n",
      "\n",
      "Train Error Unpenalized Linear Model 25932742142.0\n",
      "Test Error Unpenalized Linear Model 2.3748952309564082e+33\n"
     ]
    }
   ],
   "source": [
    "print('Train Error Ridge Model', np.sum((y_train - y_h_ridge_train)**2))\n",
    "print('Test Error Ridge Model', np.sum((y_test - y_h_ridge_test)**2))\n",
    "print('\\n')\n",
    "\n",
    "# print('Train Error Lasso Model', np.sum((y_train - y_h_lasso_train)**2))\n",
    "# print('Test Error Lasso Model', np.sum((y_test - y_h_lasso_test)**2))\n",
    "# print('\\n')\n",
    "\n",
    "print('Train Error Unpenalized Linear Model', np.sum((y_train - lin.predict(X_train_transformed))**2))\n",
    "print('Test Error Unpenalized Linear Model', np.sum((y_test - lin.predict(X_test_transformed))**2))"
   ]
  },
  {
   "cell_type": "code",
   "execution_count": 138,
   "id": "8e1353d3",
   "metadata": {},
   "outputs": [
    {
     "name": "stdout",
     "output_type": "stream",
     "text": [
      "Training r^2: 0.7124668119936662\n",
      "Test r^2: -2969817011576.7217\n",
      "Training MSE: 6854755.7294516675\n",
      "Test MSE: 6.35580993354705e+19\n"
     ]
    }
   ],
   "source": [
    "from sklearn.metrics import mean_squared_error, mean_squared_log_error\n",
    "from sklearn.linear_model import LinearRegression\n",
    "from sklearn.impute import SimpleImputer\n",
    "\n",
    "# Impute missing values with median using SimpleImputer\n",
    "impute = SimpleImputer(strategy='median')\n",
    "X_train_imputed = impute.fit_transform(X_train_comb)\n",
    "X_test_imputed = impute.transform(X_test_comb)\n",
    "\n",
    "# Fit the model\n",
    "linreg = LinearRegression()\n",
    "linreg.fit(X_train_comb, y_train)\n",
    "\n",
    "# Print R2 and MSE for training and test sets\n",
    "print('Training r^2:', linreg.score(X_train_comb, y_train))\n",
    "print('Test r^2:', linreg.score(X_test_imputed, y_test))\n",
    "print('Training MSE:', mean_squared_error(y_train, linreg.predict(X_train_imputed)))\n",
    "print('Test MSE:', mean_squared_error(y_test, linreg.predict(X_test_imputed)))"
   ]
  },
  {
   "cell_type": "code",
   "execution_count": 139,
   "id": "073ef480",
   "metadata": {},
   "outputs": [
    {
     "name": "stdout",
     "output_type": "stream",
     "text": [
      "Training r^2: 0.712116285563427\n",
      "Test r^2: -3.0580662956169115e+24\n",
      "Training MSE: 6863112.236304552\n",
      "Test MSE: 6.544675332976734e+31\n"
     ]
    }
   ],
   "source": [
    "from sklearn.preprocessing import StandardScaler\n",
    "\n",
    "# Scale the train and test data\n",
    "ss = StandardScaler()\n",
    "X_train_imputed_scaled = ss.fit_transform(X_train_imputed)\n",
    "X_test_imputed_scaled = ss.transform(X_test_imputed)\n",
    "\n",
    "# Fit the model \n",
    "linreg_norm = LinearRegression()\n",
    "linreg_norm.fit(X_train_imputed_scaled, y_train)\n",
    "\n",
    "# Print R2 and MSE for training and test sets\n",
    "print('Training r^2:', linreg_norm.score(X_train_imputed_scaled, y_train))\n",
    "print('Test r^2:', linreg_norm.score(X_test_imputed_scaled, y_test))\n",
    "print('Training MSE:', mean_squared_error(y_train, linreg_norm.predict(X_train_imputed_scaled)))\n",
    "print('Test MSE:', mean_squared_error(y_test, linreg_norm.predict(X_test_imputed_scaled)))"
   ]
  },
  {
   "cell_type": "code",
   "execution_count": 140,
   "id": "661d5b78",
   "metadata": {},
   "outputs": [
    {
     "data": {
      "text/plain": [
       "6.544675332976734e+31"
      ]
     },
     "execution_count": 140,
     "metadata": {},
     "output_type": "execute_result"
    }
   ],
   "source": [
    "mean_squared_error(y_test, linreg_norm.predict(X_test_imputed_scaled))"
   ]
  },
  {
   "cell_type": "code",
   "execution_count": 141,
   "id": "e4670b0e",
   "metadata": {},
   "outputs": [
    {
     "data": {
      "text/plain": [
       "8089916769025954.0"
      ]
     },
     "execution_count": 141,
     "metadata": {},
     "output_type": "execute_result"
    }
   ],
   "source": [
    "np.sqrt(mean_squared_error(y_test, linreg_norm.predict(X_test_imputed_scaled)))"
   ]
  },
  {
   "cell_type": "code",
   "execution_count": null,
   "id": "1e2580e3",
   "metadata": {},
   "outputs": [],
   "source": []
  },
  {
   "cell_type": "code",
   "execution_count": null,
   "id": "235578b8",
   "metadata": {},
   "outputs": [],
   "source": []
  }
 ],
 "metadata": {
  "kernelspec": {
   "display_name": "Python 3",
   "language": "python",
   "name": "python3"
  },
  "language_info": {
   "codemirror_mode": {
    "name": "ipython",
    "version": 3
   },
   "file_extension": ".py",
   "mimetype": "text/x-python",
   "name": "python",
   "nbconvert_exporter": "python",
   "pygments_lexer": "ipython3",
   "version": "3.8.8"
  }
 },
 "nbformat": 4,
 "nbformat_minor": 5
}
