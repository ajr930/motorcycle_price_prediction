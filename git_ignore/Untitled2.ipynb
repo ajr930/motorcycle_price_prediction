{
 "cells": [
  {
   "cell_type": "code",
   "execution_count": 4,
   "id": "a83a6a6f",
   "metadata": {},
   "outputs": [
    {
     "data": {
      "text/plain": [
       "'/Users/avijames/Dropbox/Mac (2)/Documents/Course/capstone'"
      ]
     },
     "execution_count": 4,
     "metadata": {},
     "output_type": "execute_result"
    }
   ],
   "source": [
    "pwd"
   ]
  },
  {
   "cell_type": "code",
   "execution_count": 5,
   "id": "d5133504",
   "metadata": {},
   "outputs": [],
   "source": [
    "import pandas as pd\n",
    "import numpy as np\n",
    "import requests\n",
    "from urllib.request import urlopen\n",
    "from bs4 import BeautifulSoup\n",
    "#import get to call a get request on the site\n",
    "from requests import get"
   ]
  },
  {
   "cell_type": "code",
   "execution_count": 8,
   "id": "6cb2a104",
   "metadata": {},
   "outputs": [],
   "source": [
    "#get the first page of motorcyle listings\n",
    "response = get('https://newyork.craigslist.org/d/motorcycles-scooters/search/mca?postal=10025&search_distance=2000')\n",
    "html_soup = BeautifulSoup(response.text, 'html.parser')\n",
    "#find the total number of posts to find the limit of the pagination\n",
    "results_num = html_soup.find('div', class_= 'search-legend')\n",
    "results_total = int(results_num.find('span', class_='totalcount').text) #pulled the total count of posts as the upper bound of the pages array\n",
    "\n",
    "#each page has 119 posts so each new page is defined as follows: s=120, s=240, s=360, and so on. So we need to step in size 120 in the np.arange function\n",
    "pages = np.arange(0, results_total+1, 120)"
   ]
  },
  {
   "cell_type": "code",
   "execution_count": 9,
   "id": "293ec97d",
   "metadata": {},
   "outputs": [
    {
     "data": {
      "text/plain": [
       "array([   0,  120,  240,  360,  480,  600,  720,  840,  960, 1080, 1200,\n",
       "       1320, 1440, 1560, 1680, 1800, 1920, 2040, 2160, 2280, 2400, 2520,\n",
       "       2640, 2760, 2880, 3000])"
      ]
     },
     "execution_count": 9,
     "metadata": {},
     "output_type": "execute_result"
    }
   ],
   "source": [
    "pages"
   ]
  },
  {
   "cell_type": "code",
   "execution_count": 19,
   "id": "a1a49256",
   "metadata": {},
   "outputs": [
    {
     "data": {
      "text/plain": [
       "['https://newyork.craigslist.org/d/motorcycles-scooters/search/mca?postal=10025&s=0',\n",
       " 'https://newyork.craigslist.org/d/motorcycles-scooters/search/mca?postal=10025&s=120',\n",
       " 'https://newyork.craigslist.org/d/motorcycles-scooters/search/mca?postal=10025&s=240',\n",
       " 'https://newyork.craigslist.org/d/motorcycles-scooters/search/mca?postal=10025&s=360',\n",
       " 'https://newyork.craigslist.org/d/motorcycles-scooters/search/mca?postal=10025&s=480',\n",
       " 'https://newyork.craigslist.org/d/motorcycles-scooters/search/mca?postal=10025&s=600',\n",
       " 'https://newyork.craigslist.org/d/motorcycles-scooters/search/mca?postal=10025&s=720',\n",
       " 'https://newyork.craigslist.org/d/motorcycles-scooters/search/mca?postal=10025&s=840',\n",
       " 'https://newyork.craigslist.org/d/motorcycles-scooters/search/mca?postal=10025&s=960',\n",
       " 'https://newyork.craigslist.org/d/motorcycles-scooters/search/mca?postal=10025&s=1080',\n",
       " 'https://newyork.craigslist.org/d/motorcycles-scooters/search/mca?postal=10025&s=1200',\n",
       " 'https://newyork.craigslist.org/d/motorcycles-scooters/search/mca?postal=10025&s=1320',\n",
       " 'https://newyork.craigslist.org/d/motorcycles-scooters/search/mca?postal=10025&s=1440',\n",
       " 'https://newyork.craigslist.org/d/motorcycles-scooters/search/mca?postal=10025&s=1560',\n",
       " 'https://newyork.craigslist.org/d/motorcycles-scooters/search/mca?postal=10025&s=1680',\n",
       " 'https://newyork.craigslist.org/d/motorcycles-scooters/search/mca?postal=10025&s=1800',\n",
       " 'https://newyork.craigslist.org/d/motorcycles-scooters/search/mca?postal=10025&s=1920',\n",
       " 'https://newyork.craigslist.org/d/motorcycles-scooters/search/mca?postal=10025&s=2040',\n",
       " 'https://newyork.craigslist.org/d/motorcycles-scooters/search/mca?postal=10025&s=2160',\n",
       " 'https://newyork.craigslist.org/d/motorcycles-scooters/search/mca?postal=10025&s=2280',\n",
       " 'https://newyork.craigslist.org/d/motorcycles-scooters/search/mca?postal=10025&s=2400',\n",
       " 'https://newyork.craigslist.org/d/motorcycles-scooters/search/mca?postal=10025&s=2520',\n",
       " 'https://newyork.craigslist.org/d/motorcycles-scooters/search/mca?postal=10025&s=2640',\n",
       " 'https://newyork.craigslist.org/d/motorcycles-scooters/search/mca?postal=10025&s=2760',\n",
       " 'https://newyork.craigslist.org/d/motorcycles-scooters/search/mca?postal=10025&s=2880',\n",
       " 'https://newyork.craigslist.org/d/motorcycles-scooters/search/mca?postal=10025&s=3000']"
      ]
     },
     "execution_count": 19,
     "metadata": {},
     "output_type": "execute_result"
    }
   ],
   "source": [
    "#get the links for each pagination\n",
    "\n",
    "links = []\n",
    "\n",
    "for page in pages:\n",
    "    #get request\n",
    "    links.append(\"https://newyork.craigslist.org/d/motorcycles-scooters/search/mca?postal=10025&\" \n",
    "                   + \"s=\" #the parameter for defining the page number \n",
    "                   + str(page)), \"&search_distance=2000\" #the page number in the pages array from earlier\n",
    "                    \n",
    "                         \n",
    "links"
   ]
  },
  {
   "cell_type": "code",
   "execution_count": 20,
   "id": "bec82cde",
   "metadata": {},
   "outputs": [],
   "source": [
    "price_list= []\n",
    "url_list = []\n",
    "title_list = []\n",
    "\n",
    "for link in links:\n",
    "    response = get(link)\n",
    "    html_soup = BeautifulSoup(response.text, 'html.parser')\n",
    "    results = html_soup.find(class_='rows')\n",
    "    results.prettify()\n",
    "    bike_elements = results.find_all('li', class_ ='result-row')\n",
    "    for bike_elem in bike_elements:\n",
    "        \n",
    "        #   print(bike_elem.text)\n",
    "        price_elem =bike_elem.find('span', class_='result-price')\n",
    "        try:\n",
    "            url_elem =bike_elem.find('a', class_='result-image gallery')['href']\n",
    "        except TypeError:\n",
    "            pass\n",
    "        title_elem =bike_elem.find('a', class_=\"result-title hdrlnk\")\n",
    "        title_list.append(title_elem.text.strip())\n",
    "        url_list.append(url_elem)\n",
    "        price_list.append(price_elem.text.strip())\n",
    "    #   print(price_list)\n",
    "        print(title_elem.text.strip())\n",
    "        print(url_elem)\n",
    "        print(price_elem.text.strip())\n",
    "        print()\n"
   ]
  },
  {
   "cell_type": "code",
   "execution_count": 21,
   "id": "6e0ac67b",
   "metadata": {},
   "outputs": [
    {
     "data": {
      "text/plain": [
       "[]"
      ]
     },
     "execution_count": 21,
     "metadata": {},
     "output_type": "execute_result"
    }
   ],
   "source": [
    "price_list"
   ]
  },
  {
   "cell_type": "code",
   "execution_count": null,
   "id": "5bf18253",
   "metadata": {},
   "outputs": [],
   "source": []
  }
 ],
 "metadata": {
  "kernelspec": {
   "display_name": "Python 3",
   "language": "python",
   "name": "python3"
  },
  "language_info": {
   "codemirror_mode": {
    "name": "ipython",
    "version": 3
   },
   "file_extension": ".py",
   "mimetype": "text/x-python",
   "name": "python",
   "nbconvert_exporter": "python",
   "pygments_lexer": "ipython3",
   "version": "3.8.8"
  }
 },
 "nbformat": 4,
 "nbformat_minor": 5
}
