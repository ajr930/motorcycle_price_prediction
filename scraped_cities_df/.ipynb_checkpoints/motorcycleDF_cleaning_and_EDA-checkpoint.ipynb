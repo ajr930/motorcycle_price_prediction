{
 "cells": [
  {
   "cell_type": "code",
   "execution_count": 28,
   "id": "c6f5738f",
   "metadata": {},
   "outputs": [],
   "source": [
    "import pandas as pd\n",
    "import numpy as np\n",
    "import matplotlib.pyplot as plt\n",
    "import seaborn as sns"
   ]
  },
  {
   "cell_type": "markdown",
   "id": "ba30efa3",
   "metadata": {},
   "source": [
    "### Import the pickled DataFrames"
   ]
  },
  {
   "cell_type": "code",
   "execution_count": 5,
   "id": "a4b3cce4",
   "metadata": {},
   "outputs": [],
   "source": [
    "df_orange=pd.read_pickle('orangeCounty_motorcycle')\n",
    "df_chicago=pd.read_pickle('chicago_motorcycle')\n",
    "df_losangeles=pd.read_pickle('losangeles_motorcycle')\n",
    "df_miami=pd.read_pickle('miami_motorcycle')\n",
    "df_sandiego=pd.read_pickle('sandiego_motorcycle')\n",
    "df_seattle=pd.read_pickle('seattle_motorcycle')\n",
    "df_newyork=pd.read_pickle('newyork_motorcycle')\n",
    "df_phoenix=pd.read_pickle('phoenix_motorcycle')\n",
    "df_atlanta = pd.read_pickle('atlanta_motorcycle')\n",
    "df_minneapolis =pd.read_pickle('minneapolis_motorcycle')\n",
    "df_boston =pd.read_pickle('boston_motorcycle')\n",
    "df_portland =pd.read_pickle('portland_motorcycle')\n",
    "df_lasvegas = pd.read_pickle('lasvegas_motorcycle')\n",
    "df_tampa =pd.read_pickle('tampa_motorcycle')\n",
    "df_dallas =pd.read_pickle('dallas_motorcycle')\n"
   ]
  },
  {
   "cell_type": "markdown",
   "id": "2dfecf05",
   "metadata": {},
   "source": [
    "Concatane them into one dataframe and reset the index"
   ]
  },
  {
   "cell_type": "code",
   "execution_count": 6,
   "id": "b2682b57",
   "metadata": {},
   "outputs": [
    {
     "data": {
      "text/html": [
       "<div>\n",
       "<style scoped>\n",
       "    .dataframe tbody tr th:only-of-type {\n",
       "        vertical-align: middle;\n",
       "    }\n",
       "\n",
       "    .dataframe tbody tr th {\n",
       "        vertical-align: top;\n",
       "    }\n",
       "\n",
       "    .dataframe thead th {\n",
       "        text-align: right;\n",
       "    }\n",
       "</style>\n",
       "<table border=\"1\" class=\"dataframe\">\n",
       "  <thead>\n",
       "    <tr style=\"text-align: right;\">\n",
       "      <th></th>\n",
       "      <th>Price</th>\n",
       "      <th>URL</th>\n",
       "      <th>title</th>\n",
       "      <th>bikeTitle</th>\n",
       "      <th>attributes</th>\n",
       "      <th>VIN</th>\n",
       "      <th>fuel</th>\n",
       "      <th>odometer</th>\n",
       "      <th>paint color</th>\n",
       "      <th>title status</th>\n",
       "      <th>transmission</th>\n",
       "      <th>condition</th>\n",
       "      <th>engine displacement (CC)</th>\n",
       "      <th>type</th>\n",
       "      <th>year</th>\n",
       "      <th>years</th>\n",
       "    </tr>\n",
       "  </thead>\n",
       "  <tbody>\n",
       "    <tr>\n",
       "      <th>0</th>\n",
       "      <td>$13,995</td>\n",
       "      <td>https://orangecounty.craigslist.org/mcd/d/oran...</td>\n",
       "      <td>2002 Harley-Davidson FLSTSI SKU:12858</td>\n",
       "      <td>2002 Harley-Davidson FLSTSI</td>\n",
       "      <td>, VIN: 1HD1BYB192Y026148, fuel: , odometer: 12...</td>\n",
       "      <td>1HD1BYB192Y026148</td>\n",
       "      <td></td>\n",
       "      <td>12382</td>\n",
       "      <td>black</td>\n",
       "      <td>clean</td>\n",
       "      <td>manual</td>\n",
       "      <td>NaN</td>\n",
       "      <td>NaN</td>\n",
       "      <td>NaN</td>\n",
       "      <td>2002</td>\n",
       "      <td>2002</td>\n",
       "    </tr>\n",
       "    <tr>\n",
       "      <th>1</th>\n",
       "      <td>$9,995</td>\n",
       "      <td>https://orangecounty.craigslist.org/mcd/d/oran...</td>\n",
       "      <td>2003 Harley-Davidson FLHTCUI (ANNIVERSARY) SKU...</td>\n",
       "      <td>2003 Harley-Davidson FLHTCUI (ANNIVER</td>\n",
       "      <td>, VIN: 1HD1FCW1X3Y604180, fuel: , odometer: 36...</td>\n",
       "      <td>1HD1FCW1X3Y604180</td>\n",
       "      <td></td>\n",
       "      <td>36852</td>\n",
       "      <td>blue</td>\n",
       "      <td>clean</td>\n",
       "      <td>manual</td>\n",
       "      <td>NaN</td>\n",
       "      <td>NaN</td>\n",
       "      <td>NaN</td>\n",
       "      <td>2003</td>\n",
       "      <td>2003</td>\n",
       "    </tr>\n",
       "    <tr>\n",
       "      <th>2</th>\n",
       "      <td>$22,995</td>\n",
       "      <td>https://orangecounty.craigslist.org/mcd/d/oran...</td>\n",
       "      <td>2019 Harley-Davidson FLHX - Street Glide SKU:1...</td>\n",
       "      <td>2019 Harley-Davidson FLHX - Street Gl</td>\n",
       "      <td>, VIN: 1HD1KBC3XKB603737, fuel: , odometer: 11...</td>\n",
       "      <td>1HD1KBC3XKB603737</td>\n",
       "      <td></td>\n",
       "      <td>11704</td>\n",
       "      <td>custom</td>\n",
       "      <td>clean</td>\n",
       "      <td>manual</td>\n",
       "      <td>NaN</td>\n",
       "      <td>NaN</td>\n",
       "      <td>NaN</td>\n",
       "      <td>2019</td>\n",
       "      <td>2019</td>\n",
       "    </tr>\n",
       "    <tr>\n",
       "      <th>3</th>\n",
       "      <td>$3,000</td>\n",
       "      <td>https://orangecounty.craigslist.org/mcy/d/oran...</td>\n",
       "      <td>2002 Honda VTX 1800 C Custom</td>\n",
       "      <td>2002 Honda VTX</td>\n",
       "      <td>, condition: excellent, engine displacement (C...</td>\n",
       "      <td>NaN</td>\n",
       "      <td>gas</td>\n",
       "      <td>69000</td>\n",
       "      <td>black</td>\n",
       "      <td>clean</td>\n",
       "      <td>manual</td>\n",
       "      <td>excellent</td>\n",
       "      <td>1800</td>\n",
       "      <td>cafe racer</td>\n",
       "      <td>2002</td>\n",
       "      <td>2002</td>\n",
       "    </tr>\n",
       "    <tr>\n",
       "      <th>4</th>\n",
       "      <td>$19,995</td>\n",
       "      <td>https://orangecounty.craigslist.org/mcd/d/oran...</td>\n",
       "      <td>2016 Harley-Davidson FLHX - Street Glide SKU:1...</td>\n",
       "      <td>2016 Harley-Davidson FLHX - Street Gl</td>\n",
       "      <td>, VIN: 1HD1KBM30GB657117, fuel: , odometer: 92...</td>\n",
       "      <td>1HD1KBM30GB657117</td>\n",
       "      <td></td>\n",
       "      <td>9284</td>\n",
       "      <td>black</td>\n",
       "      <td>clean</td>\n",
       "      <td>manual</td>\n",
       "      <td>NaN</td>\n",
       "      <td>NaN</td>\n",
       "      <td>NaN</td>\n",
       "      <td>2016</td>\n",
       "      <td>2016</td>\n",
       "    </tr>\n",
       "    <tr>\n",
       "      <th>...</th>\n",
       "      <td>...</td>\n",
       "      <td>...</td>\n",
       "      <td>...</td>\n",
       "      <td>...</td>\n",
       "      <td>...</td>\n",
       "      <td>...</td>\n",
       "      <td>...</td>\n",
       "      <td>...</td>\n",
       "      <td>...</td>\n",
       "      <td>...</td>\n",
       "      <td>...</td>\n",
       "      <td>...</td>\n",
       "      <td>...</td>\n",
       "      <td>...</td>\n",
       "      <td>...</td>\n",
       "      <td>...</td>\n",
       "    </tr>\n",
       "    <tr>\n",
       "      <th>15263</th>\n",
       "      <td>$4,400</td>\n",
       "      <td>https://dallas.craigslist.org/dal/mcy/d/grand-...</td>\n",
       "      <td>2005 BMW K1200LT,LOW MILES, CLEAN TITLE  FOR S...</td>\n",
       "      <td>bmw k1200lt</td>\n",
       "      <td>, fuel: gas, odometer: 25000, transmission: ma...</td>\n",
       "      <td>NaN</td>\n",
       "      <td>gas</td>\n",
       "      <td>25000</td>\n",
       "      <td>NaN</td>\n",
       "      <td>NaN</td>\n",
       "      <td>manual</td>\n",
       "      <td>NaN</td>\n",
       "      <td>NaN</td>\n",
       "      <td>NaN</td>\n",
       "      <td>2005</td>\n",
       "      <td>bmw</td>\n",
       "    </tr>\n",
       "    <tr>\n",
       "      <th>15264</th>\n",
       "      <td>$16,999</td>\n",
       "      <td>https://dallas.craigslist.org/dal/mcd/d/forney...</td>\n",
       "      <td>New 2022 Indian Motorcycle® FTR R Carbon Carbo...</td>\n",
       "      <td>2022 Indian Motorcycle FTR R</td>\n",
       "      <td>, VIN: 56KRZR259N3173459, condition: new, fuel...</td>\n",
       "      <td>56KRZR259N3173459</td>\n",
       "      <td>gas</td>\n",
       "      <td>5</td>\n",
       "      <td>NaN</td>\n",
       "      <td>clean</td>\n",
       "      <td>other</td>\n",
       "      <td>new</td>\n",
       "      <td>NaN</td>\n",
       "      <td>NaN</td>\n",
       "      <td>None</td>\n",
       "      <td>2022</td>\n",
       "    </tr>\n",
       "    <tr>\n",
       "      <th>15265</th>\n",
       "      <td>$6,500</td>\n",
       "      <td>https://dallas.craigslist.org/ftw/mcy/d/fort-w...</td>\n",
       "      <td>2003 Anniversary Harley Davidson V-Rod</td>\n",
       "      <td>2003 2003 harley davidson</td>\n",
       "      <td>, fuel: gas, odometer: 30000, paint color: cus...</td>\n",
       "      <td>NaN</td>\n",
       "      <td>gas</td>\n",
       "      <td>30000</td>\n",
       "      <td>customstreet legal</td>\n",
       "      <td>clean</td>\n",
       "      <td>manual</td>\n",
       "      <td>NaN</td>\n",
       "      <td>NaN</td>\n",
       "      <td>NaN</td>\n",
       "      <td>2003</td>\n",
       "      <td>2003</td>\n",
       "    </tr>\n",
       "    <tr>\n",
       "      <th>15266</th>\n",
       "      <td>$10,000</td>\n",
       "      <td>https://dallas.craigslist.org/ftw/mcy/d/fort-w...</td>\n",
       "      <td>2004 Big Dog Mastiff</td>\n",
       "      <td>2003 2003 harley davidson</td>\n",
       "      <td>, fuel: gas, odometer: 30000, paint color: cus...</td>\n",
       "      <td>NaN</td>\n",
       "      <td>gas</td>\n",
       "      <td>30000</td>\n",
       "      <td>customstreet legal</td>\n",
       "      <td>clean</td>\n",
       "      <td>manual</td>\n",
       "      <td>NaN</td>\n",
       "      <td>NaN</td>\n",
       "      <td>NaN</td>\n",
       "      <td>2004</td>\n",
       "      <td>2003</td>\n",
       "    </tr>\n",
       "    <tr>\n",
       "      <th>15267</th>\n",
       "      <td>$4</td>\n",
       "      <td>https://dallas.craigslist.org/ftw/mcy/d/granbu...</td>\n",
       "      <td>Harley Davidson sportster</td>\n",
       "      <td>2001 Harley Davidson</td>\n",
       "      <td>, condition: excellent, delivery available, en...</td>\n",
       "      <td>NaN</td>\n",
       "      <td>gas</td>\n",
       "      <td>29000</td>\n",
       "      <td>black</td>\n",
       "      <td>clean</td>\n",
       "      <td>manual</td>\n",
       "      <td>excellent</td>\n",
       "      <td>1200</td>\n",
       "      <td>cruiser</td>\n",
       "      <td>None</td>\n",
       "      <td>2001</td>\n",
       "    </tr>\n",
       "  </tbody>\n",
       "</table>\n",
       "<p>15268 rows × 16 columns</p>\n",
       "</div>"
      ],
      "text/plain": [
       "         Price                                                URL  \\\n",
       "0      $13,995  https://orangecounty.craigslist.org/mcd/d/oran...   \n",
       "1       $9,995  https://orangecounty.craigslist.org/mcd/d/oran...   \n",
       "2      $22,995  https://orangecounty.craigslist.org/mcd/d/oran...   \n",
       "3       $3,000  https://orangecounty.craigslist.org/mcy/d/oran...   \n",
       "4      $19,995  https://orangecounty.craigslist.org/mcd/d/oran...   \n",
       "...        ...                                                ...   \n",
       "15263   $4,400  https://dallas.craigslist.org/dal/mcy/d/grand-...   \n",
       "15264  $16,999  https://dallas.craigslist.org/dal/mcd/d/forney...   \n",
       "15265   $6,500  https://dallas.craigslist.org/ftw/mcy/d/fort-w...   \n",
       "15266  $10,000  https://dallas.craigslist.org/ftw/mcy/d/fort-w...   \n",
       "15267       $4  https://dallas.craigslist.org/ftw/mcy/d/granbu...   \n",
       "\n",
       "                                                   title  \\\n",
       "0                  2002 Harley-Davidson FLSTSI SKU:12858   \n",
       "1      2003 Harley-Davidson FLHTCUI (ANNIVERSARY) SKU...   \n",
       "2      2019 Harley-Davidson FLHX - Street Glide SKU:1...   \n",
       "3                           2002 Honda VTX 1800 C Custom   \n",
       "4      2016 Harley-Davidson FLHX - Street Glide SKU:1...   \n",
       "...                                                  ...   \n",
       "15263  2005 BMW K1200LT,LOW MILES, CLEAN TITLE  FOR S...   \n",
       "15264  New 2022 Indian Motorcycle® FTR R Carbon Carbo...   \n",
       "15265             2003 Anniversary Harley Davidson V-Rod   \n",
       "15266                               2004 Big Dog Mastiff   \n",
       "15267                          Harley Davidson sportster   \n",
       "\n",
       "                                   bikeTitle  \\\n",
       "0                2002 Harley-Davidson FLSTSI   \n",
       "1      2003 Harley-Davidson FLHTCUI (ANNIVER   \n",
       "2      2019 Harley-Davidson FLHX - Street Gl   \n",
       "3                             2002 Honda VTX   \n",
       "4      2016 Harley-Davidson FLHX - Street Gl   \n",
       "...                                      ...   \n",
       "15263                            bmw k1200lt   \n",
       "15264           2022 Indian Motorcycle FTR R   \n",
       "15265              2003 2003 harley davidson   \n",
       "15266              2003 2003 harley davidson   \n",
       "15267                   2001 Harley Davidson   \n",
       "\n",
       "                                              attributes                VIN  \\\n",
       "0      , VIN: 1HD1BYB192Y026148, fuel: , odometer: 12...  1HD1BYB192Y026148   \n",
       "1      , VIN: 1HD1FCW1X3Y604180, fuel: , odometer: 36...  1HD1FCW1X3Y604180   \n",
       "2      , VIN: 1HD1KBC3XKB603737, fuel: , odometer: 11...  1HD1KBC3XKB603737   \n",
       "3      , condition: excellent, engine displacement (C...                NaN   \n",
       "4      , VIN: 1HD1KBM30GB657117, fuel: , odometer: 92...  1HD1KBM30GB657117   \n",
       "...                                                  ...                ...   \n",
       "15263  , fuel: gas, odometer: 25000, transmission: ma...                NaN   \n",
       "15264  , VIN: 56KRZR259N3173459, condition: new, fuel...  56KRZR259N3173459   \n",
       "15265  , fuel: gas, odometer: 30000, paint color: cus...                NaN   \n",
       "15266  , fuel: gas, odometer: 30000, paint color: cus...                NaN   \n",
       "15267  , condition: excellent, delivery available, en...                NaN   \n",
       "\n",
       "      fuel odometer         paint color title status transmission  condition  \\\n",
       "0             12382               black        clean       manual        NaN   \n",
       "1             36852                blue        clean       manual        NaN   \n",
       "2             11704              custom        clean       manual        NaN   \n",
       "3      gas    69000               black        clean       manual  excellent   \n",
       "4              9284               black        clean       manual        NaN   \n",
       "...    ...      ...                 ...          ...          ...        ...   \n",
       "15263  gas    25000                 NaN          NaN       manual        NaN   \n",
       "15264  gas        5                 NaN        clean        other        new   \n",
       "15265  gas    30000  customstreet legal        clean       manual        NaN   \n",
       "15266  gas    30000  customstreet legal        clean       manual        NaN   \n",
       "15267  gas    29000               black        clean       manual  excellent   \n",
       "\n",
       "      engine displacement (CC)        type  year years  \n",
       "0                          NaN         NaN  2002  2002  \n",
       "1                          NaN         NaN  2003  2003  \n",
       "2                          NaN         NaN  2019  2019  \n",
       "3                         1800  cafe racer  2002  2002  \n",
       "4                          NaN         NaN  2016  2016  \n",
       "...                        ...         ...   ...   ...  \n",
       "15263                      NaN         NaN  2005  bmw   \n",
       "15264                      NaN         NaN  None  2022  \n",
       "15265                      NaN         NaN  2003  2003  \n",
       "15266                      NaN         NaN  2004  2003  \n",
       "15267                     1200     cruiser  None  2001  \n",
       "\n",
       "[15268 rows x 16 columns]"
      ]
     },
     "execution_count": 6,
     "metadata": {},
     "output_type": "execute_result"
    }
   ],
   "source": [
    "df =pd.concat([df_orange, df_chicago, df_losangeles, df_miami, df_sandiego, df_seattle, df_newyork, \n",
    "               df_phoenix, df_atlanta, df_minneapolis, df_boston, df_portland, df_lasvegas, df_tampa, df_dallas])\n",
    "df =df.reset_index(drop=True)\n",
    "df"
   ]
  },
  {
   "cell_type": "code",
   "execution_count": 7,
   "id": "e2248908",
   "metadata": {},
   "outputs": [
    {
     "name": "stdout",
     "output_type": "stream",
     "text": [
      "<class 'pandas.core.frame.DataFrame'>\n",
      "RangeIndex: 15268 entries, 0 to 15267\n",
      "Data columns (total 16 columns):\n",
      " #   Column                    Non-Null Count  Dtype \n",
      "---  ------                    --------------  ----- \n",
      " 0   Price                     15268 non-null  object\n",
      " 1   URL                       15268 non-null  object\n",
      " 2   title                     15268 non-null  object\n",
      " 3   bikeTitle                 15268 non-null  object\n",
      " 4   attributes                15268 non-null  object\n",
      " 5   VIN                       4971 non-null   object\n",
      " 6   fuel                      13649 non-null  object\n",
      " 7   odometer                  13321 non-null  object\n",
      " 8   paint color               9280 non-null   object\n",
      " 9   title status              11466 non-null  object\n",
      " 10  transmission              13683 non-null  object\n",
      " 11  condition                 7520 non-null   object\n",
      " 12  engine displacement (CC)  5216 non-null   object\n",
      " 13  type                      5747 non-null   object\n",
      " 14  year                      10702 non-null  object\n",
      " 15  years                     12380 non-null  object\n",
      "dtypes: object(16)\n",
      "memory usage: 1.9+ MB\n"
     ]
    }
   ],
   "source": [
    "df.info()"
   ]
  },
  {
   "cell_type": "code",
   "execution_count": 8,
   "id": "7bf850a1",
   "metadata": {},
   "outputs": [
    {
     "data": {
      "text/html": [
       "<div>\n",
       "<style scoped>\n",
       "    .dataframe tbody tr th:only-of-type {\n",
       "        vertical-align: middle;\n",
       "    }\n",
       "\n",
       "    .dataframe tbody tr th {\n",
       "        vertical-align: top;\n",
       "    }\n",
       "\n",
       "    .dataframe thead th {\n",
       "        text-align: right;\n",
       "    }\n",
       "</style>\n",
       "<table border=\"1\" class=\"dataframe\">\n",
       "  <thead>\n",
       "    <tr style=\"text-align: right;\">\n",
       "      <th></th>\n",
       "      <th>Price</th>\n",
       "      <th>URL</th>\n",
       "      <th>title</th>\n",
       "      <th>bikeTitle</th>\n",
       "      <th>attributes</th>\n",
       "      <th>VIN</th>\n",
       "      <th>fuel</th>\n",
       "      <th>odometer</th>\n",
       "      <th>paint color</th>\n",
       "      <th>title status</th>\n",
       "      <th>transmission</th>\n",
       "      <th>condition</th>\n",
       "      <th>engine displacement (CC)</th>\n",
       "      <th>type</th>\n",
       "      <th>year</th>\n",
       "      <th>years</th>\n",
       "    </tr>\n",
       "  </thead>\n",
       "  <tbody>\n",
       "    <tr>\n",
       "      <th>count</th>\n",
       "      <td>15268</td>\n",
       "      <td>15268</td>\n",
       "      <td>15268</td>\n",
       "      <td>15268</td>\n",
       "      <td>15268</td>\n",
       "      <td>4971</td>\n",
       "      <td>13649</td>\n",
       "      <td>13321</td>\n",
       "      <td>9280</td>\n",
       "      <td>11466</td>\n",
       "      <td>13683</td>\n",
       "      <td>7520</td>\n",
       "      <td>5216</td>\n",
       "      <td>5747</td>\n",
       "      <td>10702</td>\n",
       "      <td>12380</td>\n",
       "    </tr>\n",
       "    <tr>\n",
       "      <th>unique</th>\n",
       "      <td>1515</td>\n",
       "      <td>15024</td>\n",
       "      <td>11708</td>\n",
       "      <td>9512</td>\n",
       "      <td>11555</td>\n",
       "      <td>3601</td>\n",
       "      <td>6</td>\n",
       "      <td>5176</td>\n",
       "      <td>25</td>\n",
       "      <td>7</td>\n",
       "      <td>3</td>\n",
       "      <td>11</td>\n",
       "      <td>397</td>\n",
       "      <td>15</td>\n",
       "      <td>166</td>\n",
       "      <td>330</td>\n",
       "    </tr>\n",
       "    <tr>\n",
       "      <th>top</th>\n",
       "      <td>$0</td>\n",
       "      <td>https://seattle.craigslist.org/oly/mcd/d/olymp...</td>\n",
       "      <td>Harley Davidson</td>\n",
       "      <td>harley davidson</td>\n",
       "      <td>, fuel: gas, odometer: 1, transmission: manual</td>\n",
       "      <td>NA</td>\n",
       "      <td>gas</td>\n",
       "      <td>1</td>\n",
       "      <td>black</td>\n",
       "      <td>clean</td>\n",
       "      <td>manual</td>\n",
       "      <td>excellent</td>\n",
       "      <td>1200</td>\n",
       "      <td>cruiser</td>\n",
       "      <td>2021</td>\n",
       "      <td>2021</td>\n",
       "    </tr>\n",
       "    <tr>\n",
       "      <th>freq</th>\n",
       "      <td>357</td>\n",
       "      <td>12</td>\n",
       "      <td>33</td>\n",
       "      <td>81</td>\n",
       "      <td>103</td>\n",
       "      <td>36</td>\n",
       "      <td>11100</td>\n",
       "      <td>925</td>\n",
       "      <td>1977</td>\n",
       "      <td>11191</td>\n",
       "      <td>9595</td>\n",
       "      <td>3364</td>\n",
       "      <td>377</td>\n",
       "      <td>1216</td>\n",
       "      <td>988</td>\n",
       "      <td>1243</td>\n",
       "    </tr>\n",
       "  </tbody>\n",
       "</table>\n",
       "</div>"
      ],
      "text/plain": [
       "        Price                                                URL  \\\n",
       "count   15268                                              15268   \n",
       "unique   1515                                              15024   \n",
       "top        $0  https://seattle.craigslist.org/oly/mcd/d/olymp...   \n",
       "freq      357                                                 12   \n",
       "\n",
       "                  title        bikeTitle  \\\n",
       "count             15268            15268   \n",
       "unique            11708             9512   \n",
       "top     Harley Davidson  harley davidson   \n",
       "freq                 33               81   \n",
       "\n",
       "                                            attributes   VIN   fuel odometer  \\\n",
       "count                                            15268  4971  13649    13321   \n",
       "unique                                           11555  3601      6     5176   \n",
       "top     , fuel: gas, odometer: 1, transmission: manual    NA    gas        1   \n",
       "freq                                               103    36  11100      925   \n",
       "\n",
       "       paint color title status transmission  condition  \\\n",
       "count         9280        11466        13683       7520   \n",
       "unique          25            7            3         11   \n",
       "top          black        clean       manual  excellent   \n",
       "freq          1977        11191         9595       3364   \n",
       "\n",
       "       engine displacement (CC)     type   year  years  \n",
       "count                      5216     5747  10702  12380  \n",
       "unique                      397       15    166    330  \n",
       "top                        1200  cruiser   2021   2021  \n",
       "freq                        377     1216    988   1243  "
      ]
     },
     "execution_count": 8,
     "metadata": {},
     "output_type": "execute_result"
    }
   ],
   "source": [
    "df.describe()"
   ]
  },
  {
   "cell_type": "code",
   "execution_count": 9,
   "id": "e05053d9",
   "metadata": {},
   "outputs": [],
   "source": [
    "#Make the title column lowercase before we get each company\n",
    "df['title_lower'] = df['title'].str.lower()"
   ]
  },
  {
   "cell_type": "markdown",
   "id": "ea0a91d4",
   "metadata": {},
   "source": [
    "### Get the company for each motorcycle listing"
   ]
  },
  {
   "cell_type": "markdown",
   "id": "787e1d01",
   "metadata": {},
   "source": [
    "Made a list of the top company motorcycles, and then if the company matches with some string in the title it will be extracted"
   ]
  },
  {
   "cell_type": "code",
   "execution_count": 10,
   "id": "fc6a7f2a",
   "metadata": {},
   "outputs": [],
   "source": [
    "makes =['harley-davidson', 'honda', 'yamaha', 'ducati', 'suzuki','ktm', 'bmw', 'triumph', 'kawasaki', 'vespa', 'victory', 'aprilia', 'norton', 'indian','bajaj']\n",
    "\n",
    "def matcher(x):\n",
    "    for i in makes:\n",
    "        if i.lower() in x.lower():\n",
    "            return i\n",
    "    else:\n",
    "        return np.nan\n",
    "\n"
   ]
  },
  {
   "cell_type": "code",
   "execution_count": 11,
   "id": "19bacc92",
   "metadata": {},
   "outputs": [],
   "source": [
    "#applying the function and creating a new column\n",
    "df['make'] = df['title'].apply(matcher)"
   ]
  },
  {
   "cell_type": "code",
   "execution_count": 12,
   "id": "384b96b6",
   "metadata": {},
   "outputs": [],
   "source": [
    "#checking if we get something different or additional information that wasn't availble from the title column\n",
    "df['make_title'] = df['bikeTitle'].apply(matcher)"
   ]
  },
  {
   "cell_type": "code",
   "execution_count": 13,
   "id": "490ea3a9",
   "metadata": {},
   "outputs": [
    {
     "data": {
      "text/plain": [
       "10455"
      ]
     },
     "execution_count": 13,
     "metadata": {},
     "output_type": "execute_result"
    }
   ],
   "source": [
    "df['make'].value_counts().sum()"
   ]
  },
  {
   "cell_type": "code",
   "execution_count": 14,
   "id": "55b977aa",
   "metadata": {},
   "outputs": [
    {
     "data": {
      "text/plain": [
       "10738"
      ]
     },
     "execution_count": 14,
     "metadata": {},
     "output_type": "execute_result"
    }
   ],
   "source": [
    "df['make_title'].value_counts().sum()"
   ]
  },
  {
   "cell_type": "markdown",
   "id": "95043620",
   "metadata": {},
   "source": [
    "As you can see we have different amounts.\n",
    "\n",
    "We will then fill in all the missing values in make and make_title with the other one and create a new column"
   ]
  },
  {
   "cell_type": "code",
   "execution_count": 15,
   "id": "7a05c625",
   "metadata": {},
   "outputs": [],
   "source": [
    "df['final_make'] = df[\"make\"].fillna(df[\"make_title\"])"
   ]
  },
  {
   "cell_type": "code",
   "execution_count": 16,
   "id": "de29ddb0",
   "metadata": {},
   "outputs": [],
   "source": [
    "df['final_make'] = df[\"make_title\"].fillna(df[\"make\"])"
   ]
  },
  {
   "cell_type": "code",
   "execution_count": 18,
   "id": "03ceaf19",
   "metadata": {},
   "outputs": [
    {
     "data": {
      "text/plain": [
       "harley-davidson    2220\n",
       "honda              2184\n",
       "yamaha             1616\n",
       "kawasaki           1456\n",
       "suzuki              925\n",
       "bmw                 722\n",
       "ducati              617\n",
       "ktm                 558\n",
       "triumph             471\n",
       "indian              216\n",
       "victory             104\n",
       "aprilia             100\n",
       "vespa                91\n",
       "norton                5\n",
       "bajaj                 1\n",
       "Name: final_make, dtype: int64"
      ]
     },
     "execution_count": 18,
     "metadata": {},
     "output_type": "execute_result"
    }
   ],
   "source": [
    "#it worked\n",
    "df['final_make'].value_counts()"
   ]
  },
  {
   "cell_type": "markdown",
   "id": "0eb0cc68",
   "metadata": {},
   "source": [
    "Doing the same thing for year and years and making a new column"
   ]
  },
  {
   "cell_type": "code",
   "execution_count": 19,
   "id": "0a5b675c",
   "metadata": {},
   "outputs": [
    {
     "data": {
      "text/plain": [
       "10702"
      ]
     },
     "execution_count": 19,
     "metadata": {},
     "output_type": "execute_result"
    }
   ],
   "source": [
    "df['year'].value_counts().sum()"
   ]
  },
  {
   "cell_type": "code",
   "execution_count": 20,
   "id": "785f4e65",
   "metadata": {},
   "outputs": [
    {
     "data": {
      "text/plain": [
       "12380"
      ]
     },
     "execution_count": 20,
     "metadata": {},
     "output_type": "execute_result"
    }
   ],
   "source": [
    "df['years'].value_counts().sum()"
   ]
  },
  {
   "cell_type": "code",
   "execution_count": 21,
   "id": "4ecc2c22",
   "metadata": {},
   "outputs": [],
   "source": [
    "df['final_years'] = df[\"year\"].fillna(df[\"years\"])"
   ]
  },
  {
   "cell_type": "code",
   "execution_count": 22,
   "id": "97d73c95",
   "metadata": {},
   "outputs": [],
   "source": [
    "df['final_years'] = df[\"years\"].fillna(df[\"year\"])"
   ]
  },
  {
   "cell_type": "code",
   "execution_count": 23,
   "id": "97d86c6d",
   "metadata": {},
   "outputs": [
    {
     "data": {
      "text/plain": [
       "14219"
      ]
     },
     "execution_count": 23,
     "metadata": {},
     "output_type": "execute_result"
    }
   ],
   "source": [
    "df['final_years'].value_counts().sum()"
   ]
  },
  {
   "cell_type": "code",
   "execution_count": 24,
   "id": "dd15192b",
   "metadata": {},
   "outputs": [
    {
     "data": {
      "text/plain": [
       "black                 1977\n",
       "red                   1057\n",
       "custom                 819\n",
       "blackstreet legal      814\n",
       "blue                   756\n",
       "white                  523\n",
       "redstreet legal        467\n",
       "bluestreet legal       359\n",
       "silver                 315\n",
       "grey                   304\n",
       "orange                 276\n",
       "                       234\n",
       "green                  222\n",
       "whitestreet legal      210\n",
       "customstreet legal     154\n",
       "orangestreet legal     132\n",
       "greystreet legal       128\n",
       "silverstreet legal     123\n",
       "yellow                 110\n",
       "greenstreet legal       98\n",
       "yellowstreet legal      68\n",
       "brown                   43\n",
       "purple                  36\n",
       "purplestreet legal      34\n",
       "brownstreet legal       21\n",
       "Name: paint color, dtype: int64"
      ]
     },
     "execution_count": 24,
     "metadata": {},
     "output_type": "execute_result"
    }
   ],
   "source": [
    "df['paint color'].value_counts()"
   ]
  },
  {
   "cell_type": "markdown",
   "id": "34ddba1f",
   "metadata": {},
   "source": [
    "Cleaning up the paint color column to have a uniform color"
   ]
  },
  {
   "cell_type": "code",
   "execution_count": 25,
   "id": "92f8adc5",
   "metadata": {},
   "outputs": [],
   "source": [
    "df['paint color'] = df['paint color'].str.replace('blackstreet legal', 'black')\n",
    "df['paint color'] = df['paint color'].str.replace('redstreet legal', 'red')\n",
    "df['paint color'] = df['paint color'].str.replace('bluestreet legal', 'blue')\n",
    "df['paint color'] = df['paint color'].str.replace('whitestreet legal', 'white')\n",
    "df['paint color'] = df['paint color'].str.replace('customstreet legal', 'custom')\n",
    "df['paint color'] = df['paint color'].str.replace('orangestreet legal', 'orange')\n",
    "df['paint color'] = df['paint color'].str.replace('greenstreet legal', 'green')\n",
    "df['paint color'] = df['paint color'].str.replace('greystreet legal', 'grey')\n",
    "df['paint color'] = df['paint color'].str.replace('yellowstreet legal', 'yellow')\n",
    "df['paint color'] = df['paint color'].str.replace('purplestreet legal', 'purple')\n",
    "df['paint color'] = df['paint color'].str.replace('brownstreet legal', 'brown')\n",
    "df['paint color'] = df['paint color'].str.replace('silverstreet legal', 'silver')"
   ]
  },
  {
   "cell_type": "code",
   "execution_count": 26,
   "id": "92b12266",
   "metadata": {},
   "outputs": [
    {
     "data": {
      "text/html": [
       "<div>\n",
       "<style scoped>\n",
       "    .dataframe tbody tr th:only-of-type {\n",
       "        vertical-align: middle;\n",
       "    }\n",
       "\n",
       "    .dataframe tbody tr th {\n",
       "        vertical-align: top;\n",
       "    }\n",
       "\n",
       "    .dataframe thead th {\n",
       "        text-align: right;\n",
       "    }\n",
       "</style>\n",
       "<table border=\"1\" class=\"dataframe\">\n",
       "  <thead>\n",
       "    <tr style=\"text-align: right;\">\n",
       "      <th></th>\n",
       "      <th>Price</th>\n",
       "      <th>URL</th>\n",
       "      <th>title</th>\n",
       "      <th>bikeTitle</th>\n",
       "      <th>attributes</th>\n",
       "      <th>VIN</th>\n",
       "      <th>fuel</th>\n",
       "      <th>odometer</th>\n",
       "      <th>paint color</th>\n",
       "      <th>title status</th>\n",
       "      <th>...</th>\n",
       "      <th>condition</th>\n",
       "      <th>engine displacement (CC)</th>\n",
       "      <th>type</th>\n",
       "      <th>year</th>\n",
       "      <th>years</th>\n",
       "      <th>title_lower</th>\n",
       "      <th>make</th>\n",
       "      <th>make_title</th>\n",
       "      <th>final_make</th>\n",
       "      <th>final_years</th>\n",
       "    </tr>\n",
       "  </thead>\n",
       "  <tbody>\n",
       "    <tr>\n",
       "      <th>0</th>\n",
       "      <td>$13,995</td>\n",
       "      <td>https://orangecounty.craigslist.org/mcd/d/oran...</td>\n",
       "      <td>2002 Harley-Davidson FLSTSI SKU:12858</td>\n",
       "      <td>2002 Harley-Davidson FLSTSI</td>\n",
       "      <td>, VIN: 1HD1BYB192Y026148, fuel: , odometer: 12...</td>\n",
       "      <td>1HD1BYB192Y026148</td>\n",
       "      <td></td>\n",
       "      <td>12382</td>\n",
       "      <td>black</td>\n",
       "      <td>clean</td>\n",
       "      <td>...</td>\n",
       "      <td>NaN</td>\n",
       "      <td>NaN</td>\n",
       "      <td>NaN</td>\n",
       "      <td>2002</td>\n",
       "      <td>2002</td>\n",
       "      <td>2002 harley-davidson flstsi sku:12858</td>\n",
       "      <td>harley-davidson</td>\n",
       "      <td>harley-davidson</td>\n",
       "      <td>harley-davidson</td>\n",
       "      <td>2002</td>\n",
       "    </tr>\n",
       "    <tr>\n",
       "      <th>1</th>\n",
       "      <td>$9,995</td>\n",
       "      <td>https://orangecounty.craigslist.org/mcd/d/oran...</td>\n",
       "      <td>2003 Harley-Davidson FLHTCUI (ANNIVERSARY) SKU...</td>\n",
       "      <td>2003 Harley-Davidson FLHTCUI (ANNIVER</td>\n",
       "      <td>, VIN: 1HD1FCW1X3Y604180, fuel: , odometer: 36...</td>\n",
       "      <td>1HD1FCW1X3Y604180</td>\n",
       "      <td></td>\n",
       "      <td>36852</td>\n",
       "      <td>blue</td>\n",
       "      <td>clean</td>\n",
       "      <td>...</td>\n",
       "      <td>NaN</td>\n",
       "      <td>NaN</td>\n",
       "      <td>NaN</td>\n",
       "      <td>2003</td>\n",
       "      <td>2003</td>\n",
       "      <td>2003 harley-davidson flhtcui (anniversary) sku...</td>\n",
       "      <td>harley-davidson</td>\n",
       "      <td>harley-davidson</td>\n",
       "      <td>harley-davidson</td>\n",
       "      <td>2003</td>\n",
       "    </tr>\n",
       "    <tr>\n",
       "      <th>2</th>\n",
       "      <td>$22,995</td>\n",
       "      <td>https://orangecounty.craigslist.org/mcd/d/oran...</td>\n",
       "      <td>2019 Harley-Davidson FLHX - Street Glide SKU:1...</td>\n",
       "      <td>2019 Harley-Davidson FLHX - Street Gl</td>\n",
       "      <td>, VIN: 1HD1KBC3XKB603737, fuel: , odometer: 11...</td>\n",
       "      <td>1HD1KBC3XKB603737</td>\n",
       "      <td></td>\n",
       "      <td>11704</td>\n",
       "      <td>custom</td>\n",
       "      <td>clean</td>\n",
       "      <td>...</td>\n",
       "      <td>NaN</td>\n",
       "      <td>NaN</td>\n",
       "      <td>NaN</td>\n",
       "      <td>2019</td>\n",
       "      <td>2019</td>\n",
       "      <td>2019 harley-davidson flhx - street glide sku:1...</td>\n",
       "      <td>harley-davidson</td>\n",
       "      <td>harley-davidson</td>\n",
       "      <td>harley-davidson</td>\n",
       "      <td>2019</td>\n",
       "    </tr>\n",
       "    <tr>\n",
       "      <th>3</th>\n",
       "      <td>$3,000</td>\n",
       "      <td>https://orangecounty.craigslist.org/mcy/d/oran...</td>\n",
       "      <td>2002 Honda VTX 1800 C Custom</td>\n",
       "      <td>2002 Honda VTX</td>\n",
       "      <td>, condition: excellent, engine displacement (C...</td>\n",
       "      <td>NaN</td>\n",
       "      <td>gas</td>\n",
       "      <td>69000</td>\n",
       "      <td>black</td>\n",
       "      <td>clean</td>\n",
       "      <td>...</td>\n",
       "      <td>excellent</td>\n",
       "      <td>1800</td>\n",
       "      <td>cafe racer</td>\n",
       "      <td>2002</td>\n",
       "      <td>2002</td>\n",
       "      <td>2002 honda vtx 1800 c custom</td>\n",
       "      <td>honda</td>\n",
       "      <td>honda</td>\n",
       "      <td>honda</td>\n",
       "      <td>2002</td>\n",
       "    </tr>\n",
       "    <tr>\n",
       "      <th>4</th>\n",
       "      <td>$19,995</td>\n",
       "      <td>https://orangecounty.craigslist.org/mcd/d/oran...</td>\n",
       "      <td>2016 Harley-Davidson FLHX - Street Glide SKU:1...</td>\n",
       "      <td>2016 Harley-Davidson FLHX - Street Gl</td>\n",
       "      <td>, VIN: 1HD1KBM30GB657117, fuel: , odometer: 92...</td>\n",
       "      <td>1HD1KBM30GB657117</td>\n",
       "      <td></td>\n",
       "      <td>9284</td>\n",
       "      <td>black</td>\n",
       "      <td>clean</td>\n",
       "      <td>...</td>\n",
       "      <td>NaN</td>\n",
       "      <td>NaN</td>\n",
       "      <td>NaN</td>\n",
       "      <td>2016</td>\n",
       "      <td>2016</td>\n",
       "      <td>2016 harley-davidson flhx - street glide sku:1...</td>\n",
       "      <td>harley-davidson</td>\n",
       "      <td>harley-davidson</td>\n",
       "      <td>harley-davidson</td>\n",
       "      <td>2016</td>\n",
       "    </tr>\n",
       "    <tr>\n",
       "      <th>...</th>\n",
       "      <td>...</td>\n",
       "      <td>...</td>\n",
       "      <td>...</td>\n",
       "      <td>...</td>\n",
       "      <td>...</td>\n",
       "      <td>...</td>\n",
       "      <td>...</td>\n",
       "      <td>...</td>\n",
       "      <td>...</td>\n",
       "      <td>...</td>\n",
       "      <td>...</td>\n",
       "      <td>...</td>\n",
       "      <td>...</td>\n",
       "      <td>...</td>\n",
       "      <td>...</td>\n",
       "      <td>...</td>\n",
       "      <td>...</td>\n",
       "      <td>...</td>\n",
       "      <td>...</td>\n",
       "      <td>...</td>\n",
       "      <td>...</td>\n",
       "    </tr>\n",
       "    <tr>\n",
       "      <th>15263</th>\n",
       "      <td>$4,400</td>\n",
       "      <td>https://dallas.craigslist.org/dal/mcy/d/grand-...</td>\n",
       "      <td>2005 BMW K1200LT,LOW MILES, CLEAN TITLE  FOR S...</td>\n",
       "      <td>bmw k1200lt</td>\n",
       "      <td>, fuel: gas, odometer: 25000, transmission: ma...</td>\n",
       "      <td>NaN</td>\n",
       "      <td>gas</td>\n",
       "      <td>25000</td>\n",
       "      <td>NaN</td>\n",
       "      <td>NaN</td>\n",
       "      <td>...</td>\n",
       "      <td>NaN</td>\n",
       "      <td>NaN</td>\n",
       "      <td>NaN</td>\n",
       "      <td>2005</td>\n",
       "      <td>bmw</td>\n",
       "      <td>2005 bmw k1200lt,low miles, clean title  for s...</td>\n",
       "      <td>bmw</td>\n",
       "      <td>bmw</td>\n",
       "      <td>bmw</td>\n",
       "      <td>bmw</td>\n",
       "    </tr>\n",
       "    <tr>\n",
       "      <th>15264</th>\n",
       "      <td>$16,999</td>\n",
       "      <td>https://dallas.craigslist.org/dal/mcd/d/forney...</td>\n",
       "      <td>New 2022 Indian Motorcycle® FTR R Carbon Carbo...</td>\n",
       "      <td>2022 Indian Motorcycle FTR R</td>\n",
       "      <td>, VIN: 56KRZR259N3173459, condition: new, fuel...</td>\n",
       "      <td>56KRZR259N3173459</td>\n",
       "      <td>gas</td>\n",
       "      <td>5</td>\n",
       "      <td>NaN</td>\n",
       "      <td>clean</td>\n",
       "      <td>...</td>\n",
       "      <td>new</td>\n",
       "      <td>NaN</td>\n",
       "      <td>NaN</td>\n",
       "      <td>None</td>\n",
       "      <td>2022</td>\n",
       "      <td>new 2022 indian motorcycle® ftr r carbon carbo...</td>\n",
       "      <td>indian</td>\n",
       "      <td>indian</td>\n",
       "      <td>indian</td>\n",
       "      <td>2022</td>\n",
       "    </tr>\n",
       "    <tr>\n",
       "      <th>15265</th>\n",
       "      <td>$6,500</td>\n",
       "      <td>https://dallas.craigslist.org/ftw/mcy/d/fort-w...</td>\n",
       "      <td>2003 Anniversary Harley Davidson V-Rod</td>\n",
       "      <td>2003 2003 harley davidson</td>\n",
       "      <td>, fuel: gas, odometer: 30000, paint color: cus...</td>\n",
       "      <td>NaN</td>\n",
       "      <td>gas</td>\n",
       "      <td>30000</td>\n",
       "      <td>custom</td>\n",
       "      <td>clean</td>\n",
       "      <td>...</td>\n",
       "      <td>NaN</td>\n",
       "      <td>NaN</td>\n",
       "      <td>NaN</td>\n",
       "      <td>2003</td>\n",
       "      <td>2003</td>\n",
       "      <td>2003 anniversary harley davidson v-rod</td>\n",
       "      <td>NaN</td>\n",
       "      <td>NaN</td>\n",
       "      <td>NaN</td>\n",
       "      <td>2003</td>\n",
       "    </tr>\n",
       "    <tr>\n",
       "      <th>15266</th>\n",
       "      <td>$10,000</td>\n",
       "      <td>https://dallas.craigslist.org/ftw/mcy/d/fort-w...</td>\n",
       "      <td>2004 Big Dog Mastiff</td>\n",
       "      <td>2003 2003 harley davidson</td>\n",
       "      <td>, fuel: gas, odometer: 30000, paint color: cus...</td>\n",
       "      <td>NaN</td>\n",
       "      <td>gas</td>\n",
       "      <td>30000</td>\n",
       "      <td>custom</td>\n",
       "      <td>clean</td>\n",
       "      <td>...</td>\n",
       "      <td>NaN</td>\n",
       "      <td>NaN</td>\n",
       "      <td>NaN</td>\n",
       "      <td>2004</td>\n",
       "      <td>2003</td>\n",
       "      <td>2004 big dog mastiff</td>\n",
       "      <td>NaN</td>\n",
       "      <td>NaN</td>\n",
       "      <td>NaN</td>\n",
       "      <td>2003</td>\n",
       "    </tr>\n",
       "    <tr>\n",
       "      <th>15267</th>\n",
       "      <td>$4</td>\n",
       "      <td>https://dallas.craigslist.org/ftw/mcy/d/granbu...</td>\n",
       "      <td>Harley Davidson sportster</td>\n",
       "      <td>2001 Harley Davidson</td>\n",
       "      <td>, condition: excellent, delivery available, en...</td>\n",
       "      <td>NaN</td>\n",
       "      <td>gas</td>\n",
       "      <td>29000</td>\n",
       "      <td>black</td>\n",
       "      <td>clean</td>\n",
       "      <td>...</td>\n",
       "      <td>excellent</td>\n",
       "      <td>1200</td>\n",
       "      <td>cruiser</td>\n",
       "      <td>None</td>\n",
       "      <td>2001</td>\n",
       "      <td>harley davidson sportster</td>\n",
       "      <td>NaN</td>\n",
       "      <td>NaN</td>\n",
       "      <td>NaN</td>\n",
       "      <td>2001</td>\n",
       "    </tr>\n",
       "  </tbody>\n",
       "</table>\n",
       "<p>15268 rows × 21 columns</p>\n",
       "</div>"
      ],
      "text/plain": [
       "         Price                                                URL  \\\n",
       "0      $13,995  https://orangecounty.craigslist.org/mcd/d/oran...   \n",
       "1       $9,995  https://orangecounty.craigslist.org/mcd/d/oran...   \n",
       "2      $22,995  https://orangecounty.craigslist.org/mcd/d/oran...   \n",
       "3       $3,000  https://orangecounty.craigslist.org/mcy/d/oran...   \n",
       "4      $19,995  https://orangecounty.craigslist.org/mcd/d/oran...   \n",
       "...        ...                                                ...   \n",
       "15263   $4,400  https://dallas.craigslist.org/dal/mcy/d/grand-...   \n",
       "15264  $16,999  https://dallas.craigslist.org/dal/mcd/d/forney...   \n",
       "15265   $6,500  https://dallas.craigslist.org/ftw/mcy/d/fort-w...   \n",
       "15266  $10,000  https://dallas.craigslist.org/ftw/mcy/d/fort-w...   \n",
       "15267       $4  https://dallas.craigslist.org/ftw/mcy/d/granbu...   \n",
       "\n",
       "                                                   title  \\\n",
       "0                  2002 Harley-Davidson FLSTSI SKU:12858   \n",
       "1      2003 Harley-Davidson FLHTCUI (ANNIVERSARY) SKU...   \n",
       "2      2019 Harley-Davidson FLHX - Street Glide SKU:1...   \n",
       "3                           2002 Honda VTX 1800 C Custom   \n",
       "4      2016 Harley-Davidson FLHX - Street Glide SKU:1...   \n",
       "...                                                  ...   \n",
       "15263  2005 BMW K1200LT,LOW MILES, CLEAN TITLE  FOR S...   \n",
       "15264  New 2022 Indian Motorcycle® FTR R Carbon Carbo...   \n",
       "15265             2003 Anniversary Harley Davidson V-Rod   \n",
       "15266                               2004 Big Dog Mastiff   \n",
       "15267                          Harley Davidson sportster   \n",
       "\n",
       "                                   bikeTitle  \\\n",
       "0                2002 Harley-Davidson FLSTSI   \n",
       "1      2003 Harley-Davidson FLHTCUI (ANNIVER   \n",
       "2      2019 Harley-Davidson FLHX - Street Gl   \n",
       "3                             2002 Honda VTX   \n",
       "4      2016 Harley-Davidson FLHX - Street Gl   \n",
       "...                                      ...   \n",
       "15263                            bmw k1200lt   \n",
       "15264           2022 Indian Motorcycle FTR R   \n",
       "15265              2003 2003 harley davidson   \n",
       "15266              2003 2003 harley davidson   \n",
       "15267                   2001 Harley Davidson   \n",
       "\n",
       "                                              attributes                VIN  \\\n",
       "0      , VIN: 1HD1BYB192Y026148, fuel: , odometer: 12...  1HD1BYB192Y026148   \n",
       "1      , VIN: 1HD1FCW1X3Y604180, fuel: , odometer: 36...  1HD1FCW1X3Y604180   \n",
       "2      , VIN: 1HD1KBC3XKB603737, fuel: , odometer: 11...  1HD1KBC3XKB603737   \n",
       "3      , condition: excellent, engine displacement (C...                NaN   \n",
       "4      , VIN: 1HD1KBM30GB657117, fuel: , odometer: 92...  1HD1KBM30GB657117   \n",
       "...                                                  ...                ...   \n",
       "15263  , fuel: gas, odometer: 25000, transmission: ma...                NaN   \n",
       "15264  , VIN: 56KRZR259N3173459, condition: new, fuel...  56KRZR259N3173459   \n",
       "15265  , fuel: gas, odometer: 30000, paint color: cus...                NaN   \n",
       "15266  , fuel: gas, odometer: 30000, paint color: cus...                NaN   \n",
       "15267  , condition: excellent, delivery available, en...                NaN   \n",
       "\n",
       "      fuel odometer paint color title status  ...  condition  \\\n",
       "0             12382       black        clean  ...        NaN   \n",
       "1             36852        blue        clean  ...        NaN   \n",
       "2             11704      custom        clean  ...        NaN   \n",
       "3      gas    69000       black        clean  ...  excellent   \n",
       "4              9284       black        clean  ...        NaN   \n",
       "...    ...      ...         ...          ...  ...        ...   \n",
       "15263  gas    25000         NaN          NaN  ...        NaN   \n",
       "15264  gas        5         NaN        clean  ...        new   \n",
       "15265  gas    30000      custom        clean  ...        NaN   \n",
       "15266  gas    30000      custom        clean  ...        NaN   \n",
       "15267  gas    29000       black        clean  ...  excellent   \n",
       "\n",
       "      engine displacement (CC)        type  year years  \\\n",
       "0                          NaN         NaN  2002  2002   \n",
       "1                          NaN         NaN  2003  2003   \n",
       "2                          NaN         NaN  2019  2019   \n",
       "3                         1800  cafe racer  2002  2002   \n",
       "4                          NaN         NaN  2016  2016   \n",
       "...                        ...         ...   ...   ...   \n",
       "15263                      NaN         NaN  2005  bmw    \n",
       "15264                      NaN         NaN  None  2022   \n",
       "15265                      NaN         NaN  2003  2003   \n",
       "15266                      NaN         NaN  2004  2003   \n",
       "15267                     1200     cruiser  None  2001   \n",
       "\n",
       "                                             title_lower             make  \\\n",
       "0                  2002 harley-davidson flstsi sku:12858  harley-davidson   \n",
       "1      2003 harley-davidson flhtcui (anniversary) sku...  harley-davidson   \n",
       "2      2019 harley-davidson flhx - street glide sku:1...  harley-davidson   \n",
       "3                           2002 honda vtx 1800 c custom            honda   \n",
       "4      2016 harley-davidson flhx - street glide sku:1...  harley-davidson   \n",
       "...                                                  ...              ...   \n",
       "15263  2005 bmw k1200lt,low miles, clean title  for s...              bmw   \n",
       "15264  new 2022 indian motorcycle® ftr r carbon carbo...           indian   \n",
       "15265             2003 anniversary harley davidson v-rod              NaN   \n",
       "15266                               2004 big dog mastiff              NaN   \n",
       "15267                          harley davidson sportster              NaN   \n",
       "\n",
       "            make_title       final_make final_years  \n",
       "0      harley-davidson  harley-davidson        2002  \n",
       "1      harley-davidson  harley-davidson        2003  \n",
       "2      harley-davidson  harley-davidson        2019  \n",
       "3                honda            honda        2002  \n",
       "4      harley-davidson  harley-davidson        2016  \n",
       "...                ...              ...         ...  \n",
       "15263              bmw              bmw        bmw   \n",
       "15264           indian           indian        2022  \n",
       "15265              NaN              NaN        2003  \n",
       "15266              NaN              NaN        2003  \n",
       "15267              NaN              NaN        2001  \n",
       "\n",
       "[15268 rows x 21 columns]"
      ]
     },
     "execution_count": 26,
     "metadata": {},
     "output_type": "execute_result"
    }
   ],
   "source": [
    "df"
   ]
  },
  {
   "cell_type": "markdown",
   "id": "8fcddff5",
   "metadata": {},
   "source": [
    "### Pickling the dataFrame to be used for the models"
   ]
  },
  {
   "cell_type": "code",
   "execution_count": 35,
   "id": "f2998aa6",
   "metadata": {},
   "outputs": [],
   "source": [
    "df.to_pickle('df_model')"
   ]
  },
  {
   "cell_type": "markdown",
   "id": "dd50f0f2",
   "metadata": {},
   "source": [
    "Last minute cleaning"
   ]
  },
  {
   "cell_type": "code",
   "execution_count": 27,
   "id": "69dbb46a",
   "metadata": {},
   "outputs": [],
   "source": [
    "#dropping null values in necessary columns\n",
    "df = df.dropna(subset =['final_years', 'final_make'])\n",
    "#dropping duplicate columns and unnecessary columns\n",
    "df =df.drop(['make','make_title', 'year', 'years', 'title_lower', 'URL', 'bikeTitle', 'attributes',], axis =1)\n",
    "#changing the years column to a number value instead of string\n",
    "df = df[df['final_years'].astype(str).str.isdigit()]\n",
    "#getting just the numbers out of the odometer column(no commas etc..)\n",
    "df['odometer'] = df.odometer.str.extract('(^\\d*)')\n",
    "df[[\"final_years\"]] = df[['final_years']].apply(pd.to_numeric)\n",
    "#cleaning price to make it an integer and making it an integer\n",
    "df['Price']= df['Price'].apply(lambda x: x.replace('$',''))\n",
    "df['Price']= df['Price'].apply(lambda x: x.replace(',',''))\n",
    "df[['Price']] = df[['Price']].apply(pd.to_numeric)\n",
    "df[['odometer']] = df[['odometer']].apply(pd.to_numeric)\n",
    "df =df.reset_index(drop=True)\n"
   ]
  },
  {
   "cell_type": "code",
   "execution_count": 34,
   "id": "eddc5996",
   "metadata": {},
   "outputs": [
    {
     "data": {
      "image/png": "[encoded data removed]",
      "text/plain": [
       "<Figure size 432x288 with 1 Axes>"
      ]
     },
     "metadata": {
      "needs_background": "light"
     },
     "output_type": "display_data"
    }
   ],
   "source": [
    "sns.histplot(df['Price'])\n",
    "plt.ticklabel_format(style='plain', axis='y')"
   ]
  },
  {
   "cell_type": "markdown",
   "id": "282041f5",
   "metadata": {},
   "source": [
    "We can see that there are outliers in our price so we need to trim the data. There shouldn't be any motorcycles on craigslist being sold over $50,000"
   ]
  },
  {
   "cell_type": "code",
   "execution_count": 35,
   "id": "ce469c5d",
   "metadata": {},
   "outputs": [],
   "source": [
    "df = df[df['Price']<50000]\n",
    "df=df[df['Price']>600]"
   ]
  },
  {
   "cell_type": "code",
   "execution_count": 36,
   "id": "d1290822",
   "metadata": {},
   "outputs": [
    {
     "data": {
      "image/png": "[encoded data removed]",
      "text/plain": [
       "<Figure size 432x288 with 1 Axes>"
      ]
     },
     "metadata": {
      "needs_background": "light"
     },
     "output_type": "display_data"
    }
   ],
   "source": [
    "sns.histplot(df['Price'])\n",
    "plt.ticklabel_format(style='plain', axis='y')"
   ]
  },
  {
   "cell_type": "markdown",
   "id": "7e9a10ce",
   "metadata": {},
   "source": [
    "We can see the data is skewed to the right but this looks workable\n",
    "\n",
    "check Odometer"
   ]
  },
  {
   "cell_type": "code",
   "execution_count": 45,
   "id": "39dfd69c",
   "metadata": {},
   "outputs": [],
   "source": [
    "df['odometer']= df['odometer'].astype(float)"
   ]
  },
  {
   "cell_type": "code",
   "execution_count": 50,
   "id": "2661f8b4",
   "metadata": {},
   "outputs": [
    {
     "data": {
      "image/png": "[encoded data removed]",
      "text/plain": [
       "<Figure size 432x288 with 1 Axes>"
      ]
     },
     "metadata": {
      "needs_background": "light"
     },
     "output_type": "display_data"
    }
   ],
   "source": [
    "plt.ticklabel_format(style='plain')\n",
    "sns.set_theme(style=\"whitegrid\")\n",
    "ax = sns.boxplot(x=df[\"odometer\"])\n"
   ]
  },
  {
   "cell_type": "markdown",
   "id": "fe8e0c14",
   "metadata": {},
   "source": [
    "We can see some outliers for the milieage \n",
    "\n",
    "Going to use motorcycles under 100,000 miles"
   ]
  },
  {
   "cell_type": "code",
   "execution_count": 51,
   "id": "c23015b6",
   "metadata": {},
   "outputs": [],
   "source": [
    "df = df[df['odometer']<100000]"
   ]
  },
  {
   "cell_type": "code",
   "execution_count": 52,
   "id": "3142ac2a",
   "metadata": {},
   "outputs": [
    {
     "data": {
      "image/png": "[encoded data removed]",
      "text/plain": [
       "<Figure size 432x288 with 1 Axes>"
      ]
     },
     "metadata": {},
     "output_type": "display_data"
    }
   ],
   "source": [
    "plt.ticklabel_format(style='plain')\n",
    "sns.set_theme(style=\"whitegrid\")\n",
    "ax = sns.boxplot(x=df[\"odometer\"])"
   ]
  },
  {
   "cell_type": "markdown",
   "id": "4e399c5a",
   "metadata": {},
   "source": [
    "This looks a lot better\n",
    "\n",
    "Let's check how the years are"
   ]
  },
  {
   "cell_type": "code",
   "execution_count": 71,
   "id": "17e84c19",
   "metadata": {},
   "outputs": [
    {
     "data": {
      "text/plain": [
       "2613          2\n",
       "2953          2\n",
       "1551          3\n",
       "714           3\n",
       "2930          3\n",
       "         ...   \n",
       "447        2022\n",
       "6229       2022\n",
       "448        2022\n",
       "6701       2022\n",
       "1006    1502021\n",
       "Name: final_years, Length: 8308, dtype: int64"
      ]
     },
     "execution_count": 71,
     "metadata": {},
     "output_type": "execute_result"
    }
   ],
   "source": [
    "df['final_years'].sort_values()"
   ]
  },
  {
   "cell_type": "markdown",
   "id": "66aedd4b",
   "metadata": {},
   "source": [
    "definitely some outliers"
   ]
  },
  {
   "cell_type": "code",
   "execution_count": 72,
   "id": "e14a1535",
   "metadata": {},
   "outputs": [],
   "source": [
    "df = df[df['final_years']>1960]\n",
    "df = df[df['final_years']<2022]"
   ]
  },
  {
   "cell_type": "code",
   "execution_count": 73,
   "id": "7637be6a",
   "metadata": {},
   "outputs": [
    {
     "data": {
      "image/png": "[encoded data removed]",
      "text/plain": [
       "<Figure size 432x288 with 1 Axes>"
      ]
     },
     "metadata": {},
     "output_type": "display_data"
    }
   ],
   "source": [
    "sns.histplot(df['final_years'])\n",
    "plt.ticklabel_format(style='plain', axis='y')"
   ]
  },
  {
   "cell_type": "code",
   "execution_count": 75,
   "id": "49600aea",
   "metadata": {},
   "outputs": [
    {
     "data": {
      "image/png": "[encoded data removed]",
      "text/plain": [
       "<Figure size 432x288 with 1 Axes>"
      ]
     },
     "metadata": {},
     "output_type": "display_data"
    }
   ],
   "source": [
    "df['engine displacement (CC)']= df['engine displacement (CC)'].astype(float)\n",
    "sns.histplot(df['engine displacement (CC)'])\n",
    "plt.ticklabel_format(style='plain', axis='y')"
   ]
  },
  {
   "cell_type": "code",
   "execution_count": 76,
   "id": "620ecfc7",
   "metadata": {},
   "outputs": [
    {
     "name": "stdout",
     "output_type": "stream",
     "text": [
      "<class 'pandas.core.frame.DataFrame'>\n",
      "Int64Index: 7833 entries, 0 to 9875\n",
      "Data columns (total 13 columns):\n",
      " #   Column                    Non-Null Count  Dtype  \n",
      "---  ------                    --------------  -----  \n",
      " 0   Price                     7833 non-null   int64  \n",
      " 1   title                     7833 non-null   object \n",
      " 2   VIN                       3422 non-null   object \n",
      " 3   fuel                      7750 non-null   object \n",
      " 4   odometer                  7833 non-null   float64\n",
      " 5   paint color               5740 non-null   object \n",
      " 6   title status              7275 non-null   object \n",
      " 7   transmission              7780 non-null   object \n",
      " 8   condition                 4166 non-null   object \n",
      " 9   engine displacement (CC)  3089 non-null   float64\n",
      " 10  type                      3323 non-null   object \n",
      " 11  final_make                7833 non-null   object \n",
      " 12  final_years               7833 non-null   int64  \n",
      "dtypes: float64(2), int64(2), object(9)\n",
      "memory usage: 856.7+ KB\n"
     ]
    }
   ],
   "source": [
    "df.info()"
   ]
  },
  {
   "cell_type": "code",
   "execution_count": 80,
   "id": "56d71435",
   "metadata": {},
   "outputs": [],
   "source": [
    "new_df =pd.DataFrame()\n"
   ]
  },
  {
   "cell_type": "code",
   "execution_count": 97,
   "id": "faa7c1ee",
   "metadata": {},
   "outputs": [],
   "source": [
    "new_df['bike_price_median']= df.groupby('final_make')['Price'].median().sort_values(ascending=False).index"
   ]
  },
  {
   "cell_type": "code",
   "execution_count": 96,
   "id": "2cb97b72",
   "metadata": {},
   "outputs": [
    {
     "data": {
      "text/plain": [
       "final_make\n",
       "indian             15349.5\n",
       "harley-davidson    13995.0\n",
       "ducati             12395.0\n",
       "victory             8999.0\n",
       "aprilia             8995.0\n",
       "bmw                 8900.0\n",
       "norton              8500.0\n",
       "triumph             8491.0\n",
       "ktm                 7000.0\n",
       "yamaha              6100.0\n",
       "suzuki              6000.0\n",
       "kawasaki            5990.0\n",
       "honda               4995.0\n",
       "vespa               4300.0\n",
       "bajaj               3000.0\n",
       "Name: Price, dtype: float64"
      ]
     },
     "execution_count": 96,
     "metadata": {},
     "output_type": "execute_result"
    }
   ],
   "source": [
    "df.groupby('final_make')['Price'].median().sort_values(ascending=False)"
   ]
  },
  {
   "cell_type": "code",
   "execution_count": 98,
   "id": "00e91d5c",
   "metadata": {},
   "outputs": [],
   "source": [
    "boxplot_order =new_df['bike_price_median']"
   ]
  },
  {
   "cell_type": "code",
   "execution_count": 99,
   "id": "db1faa75",
   "metadata": {},
   "outputs": [
    {
     "name": "stdout",
     "output_type": "stream",
     "text": [
      "Maximum median : Price                       17779.357143\n",
      "odometer                    24582.634343\n",
      "engine displacement (CC)     1483.750000\n",
      "final_years                  2017.800000\n",
      "dtype: float64\n",
      "Maximum mean : Price                        8225.712676\n",
      "odometer                    10550.269841\n",
      "engine displacement (CC)      824.883162\n",
      "final_years                  2012.186441\n",
      "dtype: float64\n"
     ]
    },
    {
     "data": {
      "image/png": "[encoded data removed]",
      "text/plain": [
       "<Figure size 1440x720 with 1 Axes>"
      ]
     },
     "metadata": {},
     "output_type": "display_data"
    }
   ],
   "source": [
    "plt.figure(figsize=(20,10))\n",
    "# Create a boxplot for each state:\n",
    "sns.boxplot(x='final_make',y='Price',\n",
    "            data=df,\n",
    "            showfliers=False,order=boxplot_order, color = 'Aqua')\n",
    "\n",
    "# Set labels and axis limits:\n",
    "plt.ylim(0,);\n",
    "plt.xlabel('Make')\n",
    "plt.ylabel('Price ($)')\n",
    "plt.ticklabel_format(style='plain', axis='y')\n",
    "plt.title('Prices of Bikes by Make');\n",
    "\n",
    "# Print maximum mean and median value\n",
    "print('Maximum median',':',df.groupby('final_make').mean().max())\n",
    "print('Maximum mean',':',df.groupby('final_make').mean().median())"
   ]
  },
  {
   "cell_type": "code",
   "execution_count": null,
   "id": "30c9cbfb",
   "metadata": {},
   "outputs": [],
   "source": [
    "df.drop(\"VIN\", inplace =True, axis =1)\n",
    "df =df.reset_index(drop=True)\n",
    "df['condition'] = df['condition'].str.replace('excellentcryptocurrency ok', 'excellent')\n",
    "df['condition'] = df['condition'].str.replace('like newcryptocurrency ok', 'like new')\n",
    "df['condition'] = df['condition'].str.replace('goodcryptocurrency ok', 'good')\n",
    "df['condition'] = df['condition'].str.replace('faircryptocurrency ok', 'fair')\n",
    "df['condition'] = df['condition'].str.replace('newcryptocurrency ok', 'new')\n",
    "df['fuel'] = df['fuel'].fillna(value='other')\n",
    "df['paint color'] = df['paint color'].fillna(value='other')\n",
    "df['title status'] = df['title status'].fillna(value='other')\n",
    "df['transmission'] = df['transmission'].fillna(value='other')\n",
    "df['condition'] = df['condition'].fillna(value='other')\n",
    "df['engine displacement (CC)'] = df['engine displacement (CC)'].fillna(value='other')\n",
    "df['type'] = df['type'].fillna(value='other')\n",
    "df = df[df['engine displacement (CC)']!='other']"
   ]
  }
 ],
 "metadata": {
  "kernelspec": {
   "display_name": "Python 3",
   "language": "python",
   "name": "python3"
  },
  "language_info": {
   "codemirror_mode": {
    "name": "ipython",
    "version": 3
   },
   "file_extension": ".py",
   "mimetype": "text/x-python",
   "name": "python",
   "nbconvert_exporter": "python",
   "pygments_lexer": "ipython3",
   "version": "3.8.8"
  }
 },
 "nbformat": 4,
 "nbformat_minor": 5
}
