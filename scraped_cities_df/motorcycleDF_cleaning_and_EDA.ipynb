{
 "cells": [
  {
   "cell_type": "code",
   "execution_count": 1,
   "id": "c6f5738f",
   "metadata": {},
   "outputs": [],
   "source": [
    "import pandas as pd\n",
    "import numpy as np\n",
    "import matplotlib.pyplot as plt\n",
    "import seaborn as sns"
   ]
  },
  {
   "cell_type": "markdown",
   "id": "ba30efa3",
   "metadata": {},
   "source": [
    "### Import the pickled DataFrames"
   ]
  },
  {
   "cell_type": "code",
   "execution_count": 2,
   "id": "a4b3cce4",
   "metadata": {},
   "outputs": [],
   "source": [
    "df_orange=pd.read_pickle('orangeCounty_motorcycle')\n",
    "df_chicago=pd.read_pickle('chicago_motorcycle')\n",
    "df_losangeles=pd.read_pickle('losangeles_motorcycle')\n",
    "df_miami=pd.read_pickle('miami_motorcycle')\n",
    "df_sandiego=pd.read_pickle('sandiego_motorcycle')\n",
    "df_seattle=pd.read_pickle('seattle_motorcycle')\n",
    "df_newyork=pd.read_pickle('newyork_motorcycle')\n",
    "df_phoenix=pd.read_pickle('phoenix_motorcycle')\n",
    "df_atlanta = pd.read_pickle('atlanta_motorcycle')\n",
    "df_minneapolis =pd.read_pickle('minneapolis_motorcycle')\n",
    "df_boston =pd.read_pickle('boston_motorcycle')\n",
    "df_portland =pd.read_pickle('portland_motorcycle')\n",
    "df_lasvegas = pd.read_pickle('lasvegas_motorcycle')\n",
    "df_tampa =pd.read_pickle('tampa_motorcycle')\n",
    "df_dallas =pd.read_pickle('dallas_motorcycle')\n",
    "df_washington =pd.read_pickle('washingtonDC_motorcycle')\n",
    "df_austin =pd.read_pickle('austin_motorcycle')\n",
    "df_houston =pd.read_pickle('houston_motorcycle')\n",
    "df_orlando =pd.read_pickle('orlando_motorcycle')\n",
    "df_philadelphia =pd.read_pickle('philadelphia_motorcycle')\n",
    "df_kansascity =pd.read_pickle('kansascity_motorcycle')\n",
    "df_detroit =pd.read_pickle('detroit_motorcycle')\n",
    "df_charlotte =pd.read_pickle('charlotte_motorcycle')\n",
    "df_stlouis =pd.read_pickle('stlouis_motorcycle')\n",
    "df_northjersey =pd.read_pickle('northjersey_motorcycle')\n",
    "df_pittsburgh =pd.read_pickle('pittsburgh_motorcycle')\n",
    "df_southjersey =pd.read_pickle('southjersey_motorcycle')\n",
    "df_columbus =pd.read_pickle('columbus_motorcycle')\n",
    "df_nashville =pd.read_pickle('nashville_motorcycle')\n",
    "df_baltimore =pd.read_pickle('baltimore_motorcycle')\n",
    "df_boise =pd.read_pickle('boise_motorcycle')\n",
    "df_spokane =pd.read_pickle('spokane_motorcycle')\n",
    "df_sanantonio =pd.read_pickle('sanantonio_motorcycle')\n",
    "df_sarasota =pd.read_pickle('sarasota_motorcycle')\n",
    "df_milwaukee =pd.read_pickle('milwaukee_motorcycle')\n",
    "df_norfolk =pd.read_pickle('norfolk_motorcycle')\n",
    "df_fortmeyers =pd.read_pickle('fortmyers_motorcycle')\n",
    "df_providence =pd.read_pickle('providence_motorcycle')\n",
    "df_indianapolis =pd.read_pickle('indianapolis_motorcycle')\n",
    "df_jacksonville =pd.read_pickle('jacksonville_motorcycle')\n",
    "df_cincinnati =pd.read_pickle('cincinnati_motorcycle')\n",
    "\n"
   ]
  },
  {
   "cell_type": "markdown",
   "id": "2dfecf05",
   "metadata": {},
   "source": [
    "Concatane them into one dataframe and reset the index"
   ]
  },
  {
   "cell_type": "code",
   "execution_count": 3,
   "id": "b2682b57",
   "metadata": {},
   "outputs": [
    {
     "data": {
      "text/html": [
       "<div>\n",
       "<style scoped>\n",
       "    .dataframe tbody tr th:only-of-type {\n",
       "        vertical-align: middle;\n",
       "    }\n",
       "\n",
       "    .dataframe tbody tr th {\n",
       "        vertical-align: top;\n",
       "    }\n",
       "\n",
       "    .dataframe thead th {\n",
       "        text-align: right;\n",
       "    }\n",
       "</style>\n",
       "<table border=\"1\" class=\"dataframe\">\n",
       "  <thead>\n",
       "    <tr style=\"text-align: right;\">\n",
       "      <th></th>\n",
       "      <th>Price</th>\n",
       "      <th>URL</th>\n",
       "      <th>title</th>\n",
       "      <th>bikeTitle</th>\n",
       "      <th>attributes</th>\n",
       "      <th>VIN</th>\n",
       "      <th>fuel</th>\n",
       "      <th>odometer</th>\n",
       "      <th>paint color</th>\n",
       "      <th>title status</th>\n",
       "      <th>transmission</th>\n",
       "      <th>condition</th>\n",
       "      <th>engine displacement (CC)</th>\n",
       "      <th>type</th>\n",
       "      <th>year</th>\n",
       "      <th>years</th>\n",
       "    </tr>\n",
       "  </thead>\n",
       "  <tbody>\n",
       "    <tr>\n",
       "      <th>0</th>\n",
       "      <td>$13,995</td>\n",
       "      <td>https://orangecounty.craigslist.org/mcd/d/oran...</td>\n",
       "      <td>2002 Harley-Davidson FLSTSI SKU:12858</td>\n",
       "      <td>2002 Harley-Davidson FLSTSI</td>\n",
       "      <td>, VIN: 1HD1BYB192Y026148, fuel: , odometer: 12...</td>\n",
       "      <td>1HD1BYB192Y026148</td>\n",
       "      <td></td>\n",
       "      <td>12382</td>\n",
       "      <td>black</td>\n",
       "      <td>clean</td>\n",
       "      <td>manual</td>\n",
       "      <td>NaN</td>\n",
       "      <td>NaN</td>\n",
       "      <td>NaN</td>\n",
       "      <td>2002</td>\n",
       "      <td>2002</td>\n",
       "    </tr>\n",
       "    <tr>\n",
       "      <th>1</th>\n",
       "      <td>$9,995</td>\n",
       "      <td>https://orangecounty.craigslist.org/mcd/d/oran...</td>\n",
       "      <td>2003 Harley-Davidson FLHTCUI (ANNIVERSARY) SKU...</td>\n",
       "      <td>2003 Harley-Davidson FLHTCUI (ANNIVER</td>\n",
       "      <td>, VIN: 1HD1FCW1X3Y604180, fuel: , odometer: 36...</td>\n",
       "      <td>1HD1FCW1X3Y604180</td>\n",
       "      <td></td>\n",
       "      <td>36852</td>\n",
       "      <td>blue</td>\n",
       "      <td>clean</td>\n",
       "      <td>manual</td>\n",
       "      <td>NaN</td>\n",
       "      <td>NaN</td>\n",
       "      <td>NaN</td>\n",
       "      <td>2003</td>\n",
       "      <td>2003</td>\n",
       "    </tr>\n",
       "    <tr>\n",
       "      <th>2</th>\n",
       "      <td>$22,995</td>\n",
       "      <td>https://orangecounty.craigslist.org/mcd/d/oran...</td>\n",
       "      <td>2019 Harley-Davidson FLHX - Street Glide SKU:1...</td>\n",
       "      <td>2019 Harley-Davidson FLHX - Street Gl</td>\n",
       "      <td>, VIN: 1HD1KBC3XKB603737, fuel: , odometer: 11...</td>\n",
       "      <td>1HD1KBC3XKB603737</td>\n",
       "      <td></td>\n",
       "      <td>11704</td>\n",
       "      <td>custom</td>\n",
       "      <td>clean</td>\n",
       "      <td>manual</td>\n",
       "      <td>NaN</td>\n",
       "      <td>NaN</td>\n",
       "      <td>NaN</td>\n",
       "      <td>2019</td>\n",
       "      <td>2019</td>\n",
       "    </tr>\n",
       "    <tr>\n",
       "      <th>3</th>\n",
       "      <td>$3,000</td>\n",
       "      <td>https://orangecounty.craigslist.org/mcy/d/oran...</td>\n",
       "      <td>2002 Honda VTX 1800 C Custom</td>\n",
       "      <td>2002 Honda VTX</td>\n",
       "      <td>, condition: excellent, engine displacement (C...</td>\n",
       "      <td>NaN</td>\n",
       "      <td>gas</td>\n",
       "      <td>69000</td>\n",
       "      <td>black</td>\n",
       "      <td>clean</td>\n",
       "      <td>manual</td>\n",
       "      <td>excellent</td>\n",
       "      <td>1800</td>\n",
       "      <td>cafe racer</td>\n",
       "      <td>2002</td>\n",
       "      <td>2002</td>\n",
       "    </tr>\n",
       "    <tr>\n",
       "      <th>4</th>\n",
       "      <td>$19,995</td>\n",
       "      <td>https://orangecounty.craigslist.org/mcd/d/oran...</td>\n",
       "      <td>2016 Harley-Davidson FLHX - Street Glide SKU:1...</td>\n",
       "      <td>2016 Harley-Davidson FLHX - Street Gl</td>\n",
       "      <td>, VIN: 1HD1KBM30GB657117, fuel: , odometer: 92...</td>\n",
       "      <td>1HD1KBM30GB657117</td>\n",
       "      <td></td>\n",
       "      <td>9284</td>\n",
       "      <td>black</td>\n",
       "      <td>clean</td>\n",
       "      <td>manual</td>\n",
       "      <td>NaN</td>\n",
       "      <td>NaN</td>\n",
       "      <td>NaN</td>\n",
       "      <td>2016</td>\n",
       "      <td>2016</td>\n",
       "    </tr>\n",
       "    <tr>\n",
       "      <th>...</th>\n",
       "      <td>...</td>\n",
       "      <td>...</td>\n",
       "      <td>...</td>\n",
       "      <td>...</td>\n",
       "      <td>...</td>\n",
       "      <td>...</td>\n",
       "      <td>...</td>\n",
       "      <td>...</td>\n",
       "      <td>...</td>\n",
       "      <td>...</td>\n",
       "      <td>...</td>\n",
       "      <td>...</td>\n",
       "      <td>...</td>\n",
       "      <td>...</td>\n",
       "      <td>...</td>\n",
       "      <td>...</td>\n",
       "    </tr>\n",
       "    <tr>\n",
       "      <th>23039</th>\n",
       "      <td>$15,000</td>\n",
       "      <td>https://cincinnati.craigslist.org/mcy/d/cincin...</td>\n",
       "      <td>Harley Panhead- trade</td>\n",
       "      <td>Harley Davidson Panhead</td>\n",
       "      <td>, fuel: gas, odometer: 1000, transmission: manual</td>\n",
       "      <td>NaN</td>\n",
       "      <td>gas</td>\n",
       "      <td>1000</td>\n",
       "      <td>NaN</td>\n",
       "      <td>NaN</td>\n",
       "      <td>manual</td>\n",
       "      <td>NaN</td>\n",
       "      <td>NaN</td>\n",
       "      <td>NaN</td>\n",
       "      <td>None</td>\n",
       "      <td>Harl</td>\n",
       "    </tr>\n",
       "    <tr>\n",
       "      <th>23040</th>\n",
       "      <td>$7,000</td>\n",
       "      <td>https://cincinnati.craigslist.org/mcy/d/cincin...</td>\n",
       "      <td>2012 Kawasaki Vulcan 900 Classic</td>\n",
       "      <td>2012 kawasaki vulcan 900 classic</td>\n",
       "      <td>, condition: excellent, engine displacement (C...</td>\n",
       "      <td>NaN</td>\n",
       "      <td>gas</td>\n",
       "      <td>17543</td>\n",
       "      <td>blackstreet legal</td>\n",
       "      <td>clean</td>\n",
       "      <td>manual</td>\n",
       "      <td>excellent</td>\n",
       "      <td>900</td>\n",
       "      <td>cruiser</td>\n",
       "      <td>2012</td>\n",
       "      <td>2012</td>\n",
       "    </tr>\n",
       "    <tr>\n",
       "      <th>23041</th>\n",
       "      <td>$8,000</td>\n",
       "      <td>https://cincinnati.craigslist.org/mcy/d/hamilt...</td>\n",
       "      <td>2013 Triumph Tiger Explorer 1200 ABS</td>\n",
       "      <td>triumph tiger explorer abs</td>\n",
       "      <td>, condition: excellent, engine displacement (C...</td>\n",
       "      <td>NaN</td>\n",
       "      <td>gas</td>\n",
       "      <td>12200street legal</td>\n",
       "      <td>NaN</td>\n",
       "      <td>NaN</td>\n",
       "      <td>manual</td>\n",
       "      <td>excellent</td>\n",
       "      <td>1200</td>\n",
       "      <td>NaN</td>\n",
       "      <td>2013</td>\n",
       "      <td>triu</td>\n",
       "    </tr>\n",
       "    <tr>\n",
       "      <th>23042</th>\n",
       "      <td>$1,500</td>\n",
       "      <td>https://cincinnati.craigslist.org/mcy/d/floren...</td>\n",
       "      <td>2006 Genuine Black Cat 🐈‍⬛ 50cc 2 stroke motor...</td>\n",
       "      <td>2006 Genuine Black Cat 50</td>\n",
       "      <td>, condition: like new, engine displacement (CC...</td>\n",
       "      <td>NaN</td>\n",
       "      <td>gas</td>\n",
       "      <td>60street legal</td>\n",
       "      <td>NaN</td>\n",
       "      <td>clean</td>\n",
       "      <td>automatic</td>\n",
       "      <td>like new</td>\n",
       "      <td>50</td>\n",
       "      <td>scooter</td>\n",
       "      <td>2006</td>\n",
       "      <td>2006</td>\n",
       "    </tr>\n",
       "    <tr>\n",
       "      <th>23043</th>\n",
       "      <td>$3,500</td>\n",
       "      <td>https://cincinnati.craigslist.org/mcd/d/cincin...</td>\n",
       "      <td>1994 SUZUKI DR350SE W/8K MILES</td>\n",
       "      <td>1994 suzuki dr350se</td>\n",
       "      <td>, condition: excellent, delivery available, en...</td>\n",
       "      <td>NaN</td>\n",
       "      <td>gas</td>\n",
       "      <td>8100</td>\n",
       "      <td>bluestreet legal</td>\n",
       "      <td>clean</td>\n",
       "      <td>manual</td>\n",
       "      <td>excellent</td>\n",
       "      <td>350</td>\n",
       "      <td>dual-sport</td>\n",
       "      <td>1994</td>\n",
       "      <td>1994</td>\n",
       "    </tr>\n",
       "  </tbody>\n",
       "</table>\n",
       "<p>23044 rows × 16 columns</p>\n",
       "</div>"
      ],
      "text/plain": [
       "         Price                                                URL  \\\n",
       "0      $13,995  https://orangecounty.craigslist.org/mcd/d/oran...   \n",
       "1       $9,995  https://orangecounty.craigslist.org/mcd/d/oran...   \n",
       "2      $22,995  https://orangecounty.craigslist.org/mcd/d/oran...   \n",
       "3       $3,000  https://orangecounty.craigslist.org/mcy/d/oran...   \n",
       "4      $19,995  https://orangecounty.craigslist.org/mcd/d/oran...   \n",
       "...        ...                                                ...   \n",
       "23039  $15,000  https://cincinnati.craigslist.org/mcy/d/cincin...   \n",
       "23040   $7,000  https://cincinnati.craigslist.org/mcy/d/cincin...   \n",
       "23041   $8,000  https://cincinnati.craigslist.org/mcy/d/hamilt...   \n",
       "23042   $1,500  https://cincinnati.craigslist.org/mcy/d/floren...   \n",
       "23043   $3,500  https://cincinnati.craigslist.org/mcd/d/cincin...   \n",
       "\n",
       "                                                   title  \\\n",
       "0                  2002 Harley-Davidson FLSTSI SKU:12858   \n",
       "1      2003 Harley-Davidson FLHTCUI (ANNIVERSARY) SKU...   \n",
       "2      2019 Harley-Davidson FLHX - Street Glide SKU:1...   \n",
       "3                           2002 Honda VTX 1800 C Custom   \n",
       "4      2016 Harley-Davidson FLHX - Street Glide SKU:1...   \n",
       "...                                                  ...   \n",
       "23039                              Harley Panhead- trade   \n",
       "23040                   2012 Kawasaki Vulcan 900 Classic   \n",
       "23041               2013 Triumph Tiger Explorer 1200 ABS   \n",
       "23042  2006 Genuine Black Cat 🐈‍⬛ 50cc 2 stroke motor...   \n",
       "23043                     1994 SUZUKI DR350SE W/8K MILES   \n",
       "\n",
       "                                   bikeTitle  \\\n",
       "0                2002 Harley-Davidson FLSTSI   \n",
       "1      2003 Harley-Davidson FLHTCUI (ANNIVER   \n",
       "2      2019 Harley-Davidson FLHX - Street Gl   \n",
       "3                             2002 Honda VTX   \n",
       "4      2016 Harley-Davidson FLHX - Street Gl   \n",
       "...                                      ...   \n",
       "23039                Harley Davidson Panhead   \n",
       "23040       2012 kawasaki vulcan 900 classic   \n",
       "23041             triumph tiger explorer abs   \n",
       "23042              2006 Genuine Black Cat 50   \n",
       "23043                    1994 suzuki dr350se   \n",
       "\n",
       "                                              attributes                VIN  \\\n",
       "0      , VIN: 1HD1BYB192Y026148, fuel: , odometer: 12...  1HD1BYB192Y026148   \n",
       "1      , VIN: 1HD1FCW1X3Y604180, fuel: , odometer: 36...  1HD1FCW1X3Y604180   \n",
       "2      , VIN: 1HD1KBC3XKB603737, fuel: , odometer: 11...  1HD1KBC3XKB603737   \n",
       "3      , condition: excellent, engine displacement (C...                NaN   \n",
       "4      , VIN: 1HD1KBM30GB657117, fuel: , odometer: 92...  1HD1KBM30GB657117   \n",
       "...                                                  ...                ...   \n",
       "23039  , fuel: gas, odometer: 1000, transmission: manual                NaN   \n",
       "23040  , condition: excellent, engine displacement (C...                NaN   \n",
       "23041  , condition: excellent, engine displacement (C...                NaN   \n",
       "23042  , condition: like new, engine displacement (CC...                NaN   \n",
       "23043  , condition: excellent, delivery available, en...                NaN   \n",
       "\n",
       "      fuel           odometer        paint color title status transmission  \\\n",
       "0                       12382              black        clean       manual   \n",
       "1                       36852               blue        clean       manual   \n",
       "2                       11704             custom        clean       manual   \n",
       "3      gas              69000              black        clean       manual   \n",
       "4                        9284              black        clean       manual   \n",
       "...    ...                ...                ...          ...          ...   \n",
       "23039  gas               1000                NaN          NaN       manual   \n",
       "23040  gas              17543  blackstreet legal        clean       manual   \n",
       "23041  gas  12200street legal                NaN          NaN       manual   \n",
       "23042  gas     60street legal                NaN        clean    automatic   \n",
       "23043  gas               8100   bluestreet legal        clean       manual   \n",
       "\n",
       "       condition engine displacement (CC)        type  year years  \n",
       "0            NaN                      NaN         NaN  2002  2002  \n",
       "1            NaN                      NaN         NaN  2003  2003  \n",
       "2            NaN                      NaN         NaN  2019  2019  \n",
       "3      excellent                     1800  cafe racer  2002  2002  \n",
       "4            NaN                      NaN         NaN  2016  2016  \n",
       "...          ...                      ...         ...   ...   ...  \n",
       "23039        NaN                      NaN         NaN  None  Harl  \n",
       "23040  excellent                      900     cruiser  2012  2012  \n",
       "23041  excellent                     1200         NaN  2013  triu  \n",
       "23042   like new                       50     scooter  2006  2006  \n",
       "23043  excellent                      350  dual-sport  1994  1994  \n",
       "\n",
       "[23044 rows x 16 columns]"
      ]
     },
     "execution_count": 3,
     "metadata": {},
     "output_type": "execute_result"
    }
   ],
   "source": [
    "df =pd.concat([df_orange, df_chicago, df_losangeles, df_miami, df_sandiego, df_seattle, df_newyork, \n",
    "               df_phoenix, df_atlanta, df_minneapolis, df_boston, df_portland, df_lasvegas, df_tampa, df_dallas,\n",
    "               df_washington, df_austin, df_houston, df_orlando, df_philadelphia, df_kansascity, df_detroit, \n",
    "               df_charlotte, df_stlouis, df_northjersey, df_pittsburgh, df_southjersey, df_columbus, df_nashville,\n",
    "               df_baltimore, df_boise, df_spokane, df_sanantonio, df_sarasota, df_milwaukee, df_norfolk, df_fortmeyers,\n",
    "               df_providence, df_indianapolis, df_jacksonville, df_cincinnati\n",
    "              ])\n",
    "df =df.reset_index(drop=True)\n",
    "df"
   ]
  },
  {
   "cell_type": "code",
   "execution_count": 4,
   "id": "e2248908",
   "metadata": {},
   "outputs": [
    {
     "name": "stdout",
     "output_type": "stream",
     "text": [
      "<class 'pandas.core.frame.DataFrame'>\n",
      "RangeIndex: 23044 entries, 0 to 23043\n",
      "Data columns (total 16 columns):\n",
      " #   Column                    Non-Null Count  Dtype \n",
      "---  ------                    --------------  ----- \n",
      " 0   Price                     23044 non-null  object\n",
      " 1   URL                       23044 non-null  object\n",
      " 2   title                     23044 non-null  object\n",
      " 3   bikeTitle                 23044 non-null  object\n",
      " 4   attributes                23044 non-null  object\n",
      " 5   VIN                       7695 non-null   object\n",
      " 6   fuel                      21332 non-null  object\n",
      " 7   odometer                  20995 non-null  object\n",
      " 8   paint color               14857 non-null  object\n",
      " 9   title status              18122 non-null  object\n",
      " 10  transmission              21374 non-null  object\n",
      " 11  condition                 12106 non-null  object\n",
      " 12  engine displacement (CC)  8369 non-null   object\n",
      " 13  type                      9423 non-null   object\n",
      " 14  year                      16766 non-null  object\n",
      " 15  years                     20156 non-null  object\n",
      "dtypes: object(16)\n",
      "memory usage: 2.8+ MB\n"
     ]
    }
   ],
   "source": [
    "df.info()"
   ]
  },
  {
   "cell_type": "code",
   "execution_count": 5,
   "id": "7bf850a1",
   "metadata": {},
   "outputs": [
    {
     "data": {
      "text/html": [
       "<div>\n",
       "<style scoped>\n",
       "    .dataframe tbody tr th:only-of-type {\n",
       "        vertical-align: middle;\n",
       "    }\n",
       "\n",
       "    .dataframe tbody tr th {\n",
       "        vertical-align: top;\n",
       "    }\n",
       "\n",
       "    .dataframe thead th {\n",
       "        text-align: right;\n",
       "    }\n",
       "</style>\n",
       "<table border=\"1\" class=\"dataframe\">\n",
       "  <thead>\n",
       "    <tr style=\"text-align: right;\">\n",
       "      <th></th>\n",
       "      <th>Price</th>\n",
       "      <th>URL</th>\n",
       "      <th>title</th>\n",
       "      <th>bikeTitle</th>\n",
       "      <th>attributes</th>\n",
       "      <th>VIN</th>\n",
       "      <th>fuel</th>\n",
       "      <th>odometer</th>\n",
       "      <th>paint color</th>\n",
       "      <th>title status</th>\n",
       "      <th>transmission</th>\n",
       "      <th>condition</th>\n",
       "      <th>engine displacement (CC)</th>\n",
       "      <th>type</th>\n",
       "      <th>year</th>\n",
       "      <th>years</th>\n",
       "    </tr>\n",
       "  </thead>\n",
       "  <tbody>\n",
       "    <tr>\n",
       "      <th>count</th>\n",
       "      <td>23044</td>\n",
       "      <td>23044</td>\n",
       "      <td>23044</td>\n",
       "      <td>23044</td>\n",
       "      <td>23044</td>\n",
       "      <td>7695</td>\n",
       "      <td>21332</td>\n",
       "      <td>20995</td>\n",
       "      <td>14857</td>\n",
       "      <td>18122</td>\n",
       "      <td>21374</td>\n",
       "      <td>12106</td>\n",
       "      <td>8369</td>\n",
       "      <td>9423</td>\n",
       "      <td>16766</td>\n",
       "      <td>20156</td>\n",
       "    </tr>\n",
       "    <tr>\n",
       "      <th>unique</th>\n",
       "      <td>2000</td>\n",
       "      <td>22651</td>\n",
       "      <td>17407</td>\n",
       "      <td>13444</td>\n",
       "      <td>17507</td>\n",
       "      <td>5456</td>\n",
       "      <td>6</td>\n",
       "      <td>7758</td>\n",
       "      <td>25</td>\n",
       "      <td>7</td>\n",
       "      <td>3</td>\n",
       "      <td>12</td>\n",
       "      <td>472</td>\n",
       "      <td>15</td>\n",
       "      <td>194</td>\n",
       "      <td>439</td>\n",
       "    </tr>\n",
       "    <tr>\n",
       "      <th>top</th>\n",
       "      <td>$0</td>\n",
       "      <td>https://seattle.craigslist.org/oly/mcd/d/olymp...</td>\n",
       "      <td>Harley Davidson</td>\n",
       "      <td>harley davidson</td>\n",
       "      <td>, fuel: gas, odometer: 1, transmission: manual</td>\n",
       "      <td>NA</td>\n",
       "      <td>gas</td>\n",
       "      <td>1</td>\n",
       "      <td>black</td>\n",
       "      <td>clean</td>\n",
       "      <td>manual</td>\n",
       "      <td>excellent</td>\n",
       "      <td>1200</td>\n",
       "      <td>cruiser</td>\n",
       "      <td>2021</td>\n",
       "      <td>2021</td>\n",
       "    </tr>\n",
       "    <tr>\n",
       "      <th>freq</th>\n",
       "      <td>644</td>\n",
       "      <td>12</td>\n",
       "      <td>56</td>\n",
       "      <td>121</td>\n",
       "      <td>163</td>\n",
       "      <td>36</td>\n",
       "      <td>17999</td>\n",
       "      <td>1279</td>\n",
       "      <td>3316</td>\n",
       "      <td>17658</td>\n",
       "      <td>15258</td>\n",
       "      <td>5566</td>\n",
       "      <td>630</td>\n",
       "      <td>2124</td>\n",
       "      <td>1365</td>\n",
       "      <td>1684</td>\n",
       "    </tr>\n",
       "  </tbody>\n",
       "</table>\n",
       "</div>"
      ],
      "text/plain": [
       "        Price                                                URL  \\\n",
       "count   23044                                              23044   \n",
       "unique   2000                                              22651   \n",
       "top        $0  https://seattle.craigslist.org/oly/mcd/d/olymp...   \n",
       "freq      644                                                 12   \n",
       "\n",
       "                  title        bikeTitle  \\\n",
       "count             23044            23044   \n",
       "unique            17407            13444   \n",
       "top     Harley Davidson  harley davidson   \n",
       "freq                 56              121   \n",
       "\n",
       "                                            attributes   VIN   fuel odometer  \\\n",
       "count                                            23044  7695  21332    20995   \n",
       "unique                                           17507  5456      6     7758   \n",
       "top     , fuel: gas, odometer: 1, transmission: manual    NA    gas        1   \n",
       "freq                                               163    36  17999     1279   \n",
       "\n",
       "       paint color title status transmission  condition  \\\n",
       "count        14857        18122        21374      12106   \n",
       "unique          25            7            3         12   \n",
       "top          black        clean       manual  excellent   \n",
       "freq          3316        17658        15258       5566   \n",
       "\n",
       "       engine displacement (CC)     type   year  years  \n",
       "count                      8369     9423  16766  20156  \n",
       "unique                      472       15    194    439  \n",
       "top                        1200  cruiser   2021   2021  \n",
       "freq                        630     2124   1365   1684  "
      ]
     },
     "execution_count": 5,
     "metadata": {},
     "output_type": "execute_result"
    }
   ],
   "source": [
    "df.describe()"
   ]
  },
  {
   "cell_type": "code",
   "execution_count": 6,
   "id": "e05053d9",
   "metadata": {},
   "outputs": [],
   "source": [
    "#Make the title column lowercase before we get each company\n",
    "df['title_lower'] = df['title'].str.lower()"
   ]
  },
  {
   "cell_type": "markdown",
   "id": "ea0a91d4",
   "metadata": {},
   "source": [
    "### Get the company for each motorcycle listing"
   ]
  },
  {
   "cell_type": "markdown",
   "id": "787e1d01",
   "metadata": {},
   "source": [
    "Made a list of the top company motorcycles, and then if the company matches with some string in the title it will be extracted"
   ]
  },
  {
   "cell_type": "code",
   "execution_count": 7,
   "id": "fc6a7f2a",
   "metadata": {},
   "outputs": [],
   "source": [
    "makes =['harley-davidson', 'honda', 'yamaha', 'ducati', 'suzuki','ktm', 'bmw', 'triumph', 'kawasaki', 'vespa', 'victory', 'aprilia', 'norton', 'indian','bajaj']\n",
    "\n",
    "def matcher(x):\n",
    "    for i in makes:\n",
    "        if i.lower() in x.lower():\n",
    "            return i\n",
    "    else:\n",
    "        return np.nan\n",
    "\n"
   ]
  },
  {
   "cell_type": "code",
   "execution_count": 8,
   "id": "19bacc92",
   "metadata": {},
   "outputs": [],
   "source": [
    "#applying the function and creating a new column\n",
    "df['make'] = df['title'].apply(matcher)"
   ]
  },
  {
   "cell_type": "code",
   "execution_count": 9,
   "id": "384b96b6",
   "metadata": {},
   "outputs": [],
   "source": [
    "#checking if we get something different or additional information that wasn't availble from the title column\n",
    "df['make_title'] = df['bikeTitle'].apply(matcher)"
   ]
  },
  {
   "cell_type": "code",
   "execution_count": 10,
   "id": "490ea3a9",
   "metadata": {},
   "outputs": [
    {
     "data": {
      "text/plain": [
       "15590"
      ]
     },
     "execution_count": 10,
     "metadata": {},
     "output_type": "execute_result"
    }
   ],
   "source": [
    "df['make'].value_counts().sum()"
   ]
  },
  {
   "cell_type": "code",
   "execution_count": 11,
   "id": "55b977aa",
   "metadata": {},
   "outputs": [
    {
     "data": {
      "text/plain": [
       "16150"
      ]
     },
     "execution_count": 11,
     "metadata": {},
     "output_type": "execute_result"
    }
   ],
   "source": [
    "df['make_title'].value_counts().sum()"
   ]
  },
  {
   "cell_type": "markdown",
   "id": "95043620",
   "metadata": {},
   "source": [
    "As you can see we have different amounts.\n",
    "\n",
    "We will then fill in all the missing values in make and make_title with the other one and create a new column"
   ]
  },
  {
   "cell_type": "code",
   "execution_count": 12,
   "id": "7a05c625",
   "metadata": {},
   "outputs": [],
   "source": [
    "df['final_make'] = df[\"make\"].fillna(df[\"make_title\"])"
   ]
  },
  {
   "cell_type": "code",
   "execution_count": 13,
   "id": "de29ddb0",
   "metadata": {},
   "outputs": [],
   "source": [
    "df['final_make'] = df[\"make_title\"].fillna(df[\"make\"])"
   ]
  },
  {
   "cell_type": "code",
   "execution_count": 14,
   "id": "03ceaf19",
   "metadata": {},
   "outputs": [
    {
     "data": {
      "text/plain": [
       "harley-davidson    3507\n",
       "honda              3322\n",
       "yamaha             2338\n",
       "kawasaki           2205\n",
       "suzuki             1390\n",
       "bmw                1029\n",
       "ducati              785\n",
       "ktm                 764\n",
       "triumph             681\n",
       "indian              425\n",
       "victory             194\n",
       "aprilia             138\n",
       "vespa               125\n",
       "norton                5\n",
       "bajaj                 1\n",
       "Name: final_make, dtype: int64"
      ]
     },
     "execution_count": 14,
     "metadata": {},
     "output_type": "execute_result"
    }
   ],
   "source": [
    "#it worked\n",
    "df['final_make'].value_counts()"
   ]
  },
  {
   "cell_type": "markdown",
   "id": "0eb0cc68",
   "metadata": {},
   "source": [
    "Doing the same thing for year and years and making a new column"
   ]
  },
  {
   "cell_type": "code",
   "execution_count": 15,
   "id": "0a5b675c",
   "metadata": {},
   "outputs": [
    {
     "data": {
      "text/plain": [
       "16766"
      ]
     },
     "execution_count": 15,
     "metadata": {},
     "output_type": "execute_result"
    }
   ],
   "source": [
    "df['year'].value_counts().sum()"
   ]
  },
  {
   "cell_type": "code",
   "execution_count": 16,
   "id": "785f4e65",
   "metadata": {},
   "outputs": [
    {
     "data": {
      "text/plain": [
       "20156"
      ]
     },
     "execution_count": 16,
     "metadata": {},
     "output_type": "execute_result"
    }
   ],
   "source": [
    "df['years'].value_counts().sum()"
   ]
  },
  {
   "cell_type": "code",
   "execution_count": 17,
   "id": "4ecc2c22",
   "metadata": {},
   "outputs": [],
   "source": [
    "df['final_years'] = df[\"year\"].fillna(df[\"years\"])"
   ]
  },
  {
   "cell_type": "code",
   "execution_count": 18,
   "id": "97d73c95",
   "metadata": {},
   "outputs": [],
   "source": [
    "df['final_years'] = df[\"years\"].fillna(df[\"year\"])"
   ]
  },
  {
   "cell_type": "code",
   "execution_count": 19,
   "id": "97d86c6d",
   "metadata": {},
   "outputs": [
    {
     "data": {
      "text/plain": [
       "21995"
      ]
     },
     "execution_count": 19,
     "metadata": {},
     "output_type": "execute_result"
    }
   ],
   "source": [
    "df['final_years'].value_counts().sum()"
   ]
  },
  {
   "cell_type": "code",
   "execution_count": 20,
   "id": "dd15192b",
   "metadata": {},
   "outputs": [
    {
     "data": {
      "text/plain": [
       "black                 3316\n",
       "red                   1756\n",
       "blackstreet legal     1300\n",
       "custom                1206\n",
       "blue                  1191\n",
       "white                  825\n",
       "redstreet legal        772\n",
       "bluestreet legal       558\n",
       "silver                 515\n",
       "grey                   477\n",
       "orange                 459\n",
       "green                  385\n",
       "whitestreet legal      314\n",
       "                       268\n",
       "customstreet legal     236\n",
       "silverstreet legal     212\n",
       "orangestreet legal     203\n",
       "greystreet legal       196\n",
       "yellow                 181\n",
       "greenstreet legal      155\n",
       "yellowstreet legal      96\n",
       "brown                   93\n",
       "purple                  52\n",
       "purplestreet legal      51\n",
       "brownstreet legal       40\n",
       "Name: paint color, dtype: int64"
      ]
     },
     "execution_count": 20,
     "metadata": {},
     "output_type": "execute_result"
    }
   ],
   "source": [
    "df['paint color'].value_counts()"
   ]
  },
  {
   "cell_type": "markdown",
   "id": "34ddba1f",
   "metadata": {},
   "source": [
    "Cleaning up the paint color column to have a uniform color"
   ]
  },
  {
   "cell_type": "code",
   "execution_count": 21,
   "id": "92f8adc5",
   "metadata": {},
   "outputs": [],
   "source": [
    "df['paint color'] = df['paint color'].str.replace('blackstreet legal', 'black')\n",
    "df['paint color'] = df['paint color'].str.replace('redstreet legal', 'red')\n",
    "df['paint color'] = df['paint color'].str.replace('bluestreet legal', 'blue')\n",
    "df['paint color'] = df['paint color'].str.replace('whitestreet legal', 'white')\n",
    "df['paint color'] = df['paint color'].str.replace('customstreet legal', 'custom')\n",
    "df['paint color'] = df['paint color'].str.replace('orangestreet legal', 'orange')\n",
    "df['paint color'] = df['paint color'].str.replace('greenstreet legal', 'green')\n",
    "df['paint color'] = df['paint color'].str.replace('greystreet legal', 'grey')\n",
    "df['paint color'] = df['paint color'].str.replace('yellowstreet legal', 'yellow')\n",
    "df['paint color'] = df['paint color'].str.replace('purplestreet legal', 'purple')\n",
    "df['paint color'] = df['paint color'].str.replace('brownstreet legal', 'brown')\n",
    "df['paint color'] = df['paint color'].str.replace('silverstreet legal', 'silver')"
   ]
  },
  {
   "cell_type": "code",
   "execution_count": 22,
   "id": "92b12266",
   "metadata": {},
   "outputs": [
    {
     "data": {
      "text/html": [
       "<div>\n",
       "<style scoped>\n",
       "    .dataframe tbody tr th:only-of-type {\n",
       "        vertical-align: middle;\n",
       "    }\n",
       "\n",
       "    .dataframe tbody tr th {\n",
       "        vertical-align: top;\n",
       "    }\n",
       "\n",
       "    .dataframe thead th {\n",
       "        text-align: right;\n",
       "    }\n",
       "</style>\n",
       "<table border=\"1\" class=\"dataframe\">\n",
       "  <thead>\n",
       "    <tr style=\"text-align: right;\">\n",
       "      <th></th>\n",
       "      <th>Price</th>\n",
       "      <th>URL</th>\n",
       "      <th>title</th>\n",
       "      <th>bikeTitle</th>\n",
       "      <th>attributes</th>\n",
       "      <th>VIN</th>\n",
       "      <th>fuel</th>\n",
       "      <th>odometer</th>\n",
       "      <th>paint color</th>\n",
       "      <th>title status</th>\n",
       "      <th>...</th>\n",
       "      <th>condition</th>\n",
       "      <th>engine displacement (CC)</th>\n",
       "      <th>type</th>\n",
       "      <th>year</th>\n",
       "      <th>years</th>\n",
       "      <th>title_lower</th>\n",
       "      <th>make</th>\n",
       "      <th>make_title</th>\n",
       "      <th>final_make</th>\n",
       "      <th>final_years</th>\n",
       "    </tr>\n",
       "  </thead>\n",
       "  <tbody>\n",
       "    <tr>\n",
       "      <th>0</th>\n",
       "      <td>$13,995</td>\n",
       "      <td>https://orangecounty.craigslist.org/mcd/d/oran...</td>\n",
       "      <td>2002 Harley-Davidson FLSTSI SKU:12858</td>\n",
       "      <td>2002 Harley-Davidson FLSTSI</td>\n",
       "      <td>, VIN: 1HD1BYB192Y026148, fuel: , odometer: 12...</td>\n",
       "      <td>1HD1BYB192Y026148</td>\n",
       "      <td></td>\n",
       "      <td>12382</td>\n",
       "      <td>black</td>\n",
       "      <td>clean</td>\n",
       "      <td>...</td>\n",
       "      <td>NaN</td>\n",
       "      <td>NaN</td>\n",
       "      <td>NaN</td>\n",
       "      <td>2002</td>\n",
       "      <td>2002</td>\n",
       "      <td>2002 harley-davidson flstsi sku:12858</td>\n",
       "      <td>harley-davidson</td>\n",
       "      <td>harley-davidson</td>\n",
       "      <td>harley-davidson</td>\n",
       "      <td>2002</td>\n",
       "    </tr>\n",
       "    <tr>\n",
       "      <th>1</th>\n",
       "      <td>$9,995</td>\n",
       "      <td>https://orangecounty.craigslist.org/mcd/d/oran...</td>\n",
       "      <td>2003 Harley-Davidson FLHTCUI (ANNIVERSARY) SKU...</td>\n",
       "      <td>2003 Harley-Davidson FLHTCUI (ANNIVER</td>\n",
       "      <td>, VIN: 1HD1FCW1X3Y604180, fuel: , odometer: 36...</td>\n",
       "      <td>1HD1FCW1X3Y604180</td>\n",
       "      <td></td>\n",
       "      <td>36852</td>\n",
       "      <td>blue</td>\n",
       "      <td>clean</td>\n",
       "      <td>...</td>\n",
       "      <td>NaN</td>\n",
       "      <td>NaN</td>\n",
       "      <td>NaN</td>\n",
       "      <td>2003</td>\n",
       "      <td>2003</td>\n",
       "      <td>2003 harley-davidson flhtcui (anniversary) sku...</td>\n",
       "      <td>harley-davidson</td>\n",
       "      <td>harley-davidson</td>\n",
       "      <td>harley-davidson</td>\n",
       "      <td>2003</td>\n",
       "    </tr>\n",
       "    <tr>\n",
       "      <th>2</th>\n",
       "      <td>$22,995</td>\n",
       "      <td>https://orangecounty.craigslist.org/mcd/d/oran...</td>\n",
       "      <td>2019 Harley-Davidson FLHX - Street Glide SKU:1...</td>\n",
       "      <td>2019 Harley-Davidson FLHX - Street Gl</td>\n",
       "      <td>, VIN: 1HD1KBC3XKB603737, fuel: , odometer: 11...</td>\n",
       "      <td>1HD1KBC3XKB603737</td>\n",
       "      <td></td>\n",
       "      <td>11704</td>\n",
       "      <td>custom</td>\n",
       "      <td>clean</td>\n",
       "      <td>...</td>\n",
       "      <td>NaN</td>\n",
       "      <td>NaN</td>\n",
       "      <td>NaN</td>\n",
       "      <td>2019</td>\n",
       "      <td>2019</td>\n",
       "      <td>2019 harley-davidson flhx - street glide sku:1...</td>\n",
       "      <td>harley-davidson</td>\n",
       "      <td>harley-davidson</td>\n",
       "      <td>harley-davidson</td>\n",
       "      <td>2019</td>\n",
       "    </tr>\n",
       "    <tr>\n",
       "      <th>3</th>\n",
       "      <td>$3,000</td>\n",
       "      <td>https://orangecounty.craigslist.org/mcy/d/oran...</td>\n",
       "      <td>2002 Honda VTX 1800 C Custom</td>\n",
       "      <td>2002 Honda VTX</td>\n",
       "      <td>, condition: excellent, engine displacement (C...</td>\n",
       "      <td>NaN</td>\n",
       "      <td>gas</td>\n",
       "      <td>69000</td>\n",
       "      <td>black</td>\n",
       "      <td>clean</td>\n",
       "      <td>...</td>\n",
       "      <td>excellent</td>\n",
       "      <td>1800</td>\n",
       "      <td>cafe racer</td>\n",
       "      <td>2002</td>\n",
       "      <td>2002</td>\n",
       "      <td>2002 honda vtx 1800 c custom</td>\n",
       "      <td>honda</td>\n",
       "      <td>honda</td>\n",
       "      <td>honda</td>\n",
       "      <td>2002</td>\n",
       "    </tr>\n",
       "    <tr>\n",
       "      <th>4</th>\n",
       "      <td>$19,995</td>\n",
       "      <td>https://orangecounty.craigslist.org/mcd/d/oran...</td>\n",
       "      <td>2016 Harley-Davidson FLHX - Street Glide SKU:1...</td>\n",
       "      <td>2016 Harley-Davidson FLHX - Street Gl</td>\n",
       "      <td>, VIN: 1HD1KBM30GB657117, fuel: , odometer: 92...</td>\n",
       "      <td>1HD1KBM30GB657117</td>\n",
       "      <td></td>\n",
       "      <td>9284</td>\n",
       "      <td>black</td>\n",
       "      <td>clean</td>\n",
       "      <td>...</td>\n",
       "      <td>NaN</td>\n",
       "      <td>NaN</td>\n",
       "      <td>NaN</td>\n",
       "      <td>2016</td>\n",
       "      <td>2016</td>\n",
       "      <td>2016 harley-davidson flhx - street glide sku:1...</td>\n",
       "      <td>harley-davidson</td>\n",
       "      <td>harley-davidson</td>\n",
       "      <td>harley-davidson</td>\n",
       "      <td>2016</td>\n",
       "    </tr>\n",
       "    <tr>\n",
       "      <th>...</th>\n",
       "      <td>...</td>\n",
       "      <td>...</td>\n",
       "      <td>...</td>\n",
       "      <td>...</td>\n",
       "      <td>...</td>\n",
       "      <td>...</td>\n",
       "      <td>...</td>\n",
       "      <td>...</td>\n",
       "      <td>...</td>\n",
       "      <td>...</td>\n",
       "      <td>...</td>\n",
       "      <td>...</td>\n",
       "      <td>...</td>\n",
       "      <td>...</td>\n",
       "      <td>...</td>\n",
       "      <td>...</td>\n",
       "      <td>...</td>\n",
       "      <td>...</td>\n",
       "      <td>...</td>\n",
       "      <td>...</td>\n",
       "      <td>...</td>\n",
       "    </tr>\n",
       "    <tr>\n",
       "      <th>23039</th>\n",
       "      <td>$15,000</td>\n",
       "      <td>https://cincinnati.craigslist.org/mcy/d/cincin...</td>\n",
       "      <td>Harley Panhead- trade</td>\n",
       "      <td>Harley Davidson Panhead</td>\n",
       "      <td>, fuel: gas, odometer: 1000, transmission: manual</td>\n",
       "      <td>NaN</td>\n",
       "      <td>gas</td>\n",
       "      <td>1000</td>\n",
       "      <td>NaN</td>\n",
       "      <td>NaN</td>\n",
       "      <td>...</td>\n",
       "      <td>NaN</td>\n",
       "      <td>NaN</td>\n",
       "      <td>NaN</td>\n",
       "      <td>None</td>\n",
       "      <td>Harl</td>\n",
       "      <td>harley panhead- trade</td>\n",
       "      <td>NaN</td>\n",
       "      <td>NaN</td>\n",
       "      <td>NaN</td>\n",
       "      <td>Harl</td>\n",
       "    </tr>\n",
       "    <tr>\n",
       "      <th>23040</th>\n",
       "      <td>$7,000</td>\n",
       "      <td>https://cincinnati.craigslist.org/mcy/d/cincin...</td>\n",
       "      <td>2012 Kawasaki Vulcan 900 Classic</td>\n",
       "      <td>2012 kawasaki vulcan 900 classic</td>\n",
       "      <td>, condition: excellent, engine displacement (C...</td>\n",
       "      <td>NaN</td>\n",
       "      <td>gas</td>\n",
       "      <td>17543</td>\n",
       "      <td>black</td>\n",
       "      <td>clean</td>\n",
       "      <td>...</td>\n",
       "      <td>excellent</td>\n",
       "      <td>900</td>\n",
       "      <td>cruiser</td>\n",
       "      <td>2012</td>\n",
       "      <td>2012</td>\n",
       "      <td>2012 kawasaki vulcan 900 classic</td>\n",
       "      <td>kawasaki</td>\n",
       "      <td>kawasaki</td>\n",
       "      <td>kawasaki</td>\n",
       "      <td>2012</td>\n",
       "    </tr>\n",
       "    <tr>\n",
       "      <th>23041</th>\n",
       "      <td>$8,000</td>\n",
       "      <td>https://cincinnati.craigslist.org/mcy/d/hamilt...</td>\n",
       "      <td>2013 Triumph Tiger Explorer 1200 ABS</td>\n",
       "      <td>triumph tiger explorer abs</td>\n",
       "      <td>, condition: excellent, engine displacement (C...</td>\n",
       "      <td>NaN</td>\n",
       "      <td>gas</td>\n",
       "      <td>12200street legal</td>\n",
       "      <td>NaN</td>\n",
       "      <td>NaN</td>\n",
       "      <td>...</td>\n",
       "      <td>excellent</td>\n",
       "      <td>1200</td>\n",
       "      <td>NaN</td>\n",
       "      <td>2013</td>\n",
       "      <td>triu</td>\n",
       "      <td>2013 triumph tiger explorer 1200 abs</td>\n",
       "      <td>triumph</td>\n",
       "      <td>triumph</td>\n",
       "      <td>triumph</td>\n",
       "      <td>triu</td>\n",
       "    </tr>\n",
       "    <tr>\n",
       "      <th>23042</th>\n",
       "      <td>$1,500</td>\n",
       "      <td>https://cincinnati.craigslist.org/mcy/d/floren...</td>\n",
       "      <td>2006 Genuine Black Cat 🐈‍⬛ 50cc 2 stroke motor...</td>\n",
       "      <td>2006 Genuine Black Cat 50</td>\n",
       "      <td>, condition: like new, engine displacement (CC...</td>\n",
       "      <td>NaN</td>\n",
       "      <td>gas</td>\n",
       "      <td>60street legal</td>\n",
       "      <td>NaN</td>\n",
       "      <td>clean</td>\n",
       "      <td>...</td>\n",
       "      <td>like new</td>\n",
       "      <td>50</td>\n",
       "      <td>scooter</td>\n",
       "      <td>2006</td>\n",
       "      <td>2006</td>\n",
       "      <td>2006 genuine black cat 🐈‍⬛ 50cc 2 stroke motor...</td>\n",
       "      <td>NaN</td>\n",
       "      <td>NaN</td>\n",
       "      <td>NaN</td>\n",
       "      <td>2006</td>\n",
       "    </tr>\n",
       "    <tr>\n",
       "      <th>23043</th>\n",
       "      <td>$3,500</td>\n",
       "      <td>https://cincinnati.craigslist.org/mcd/d/cincin...</td>\n",
       "      <td>1994 SUZUKI DR350SE W/8K MILES</td>\n",
       "      <td>1994 suzuki dr350se</td>\n",
       "      <td>, condition: excellent, delivery available, en...</td>\n",
       "      <td>NaN</td>\n",
       "      <td>gas</td>\n",
       "      <td>8100</td>\n",
       "      <td>blue</td>\n",
       "      <td>clean</td>\n",
       "      <td>...</td>\n",
       "      <td>excellent</td>\n",
       "      <td>350</td>\n",
       "      <td>dual-sport</td>\n",
       "      <td>1994</td>\n",
       "      <td>1994</td>\n",
       "      <td>1994 suzuki dr350se w/8k miles</td>\n",
       "      <td>suzuki</td>\n",
       "      <td>suzuki</td>\n",
       "      <td>suzuki</td>\n",
       "      <td>1994</td>\n",
       "    </tr>\n",
       "  </tbody>\n",
       "</table>\n",
       "<p>23044 rows × 21 columns</p>\n",
       "</div>"
      ],
      "text/plain": [
       "         Price                                                URL  \\\n",
       "0      $13,995  https://orangecounty.craigslist.org/mcd/d/oran...   \n",
       "1       $9,995  https://orangecounty.craigslist.org/mcd/d/oran...   \n",
       "2      $22,995  https://orangecounty.craigslist.org/mcd/d/oran...   \n",
       "3       $3,000  https://orangecounty.craigslist.org/mcy/d/oran...   \n",
       "4      $19,995  https://orangecounty.craigslist.org/mcd/d/oran...   \n",
       "...        ...                                                ...   \n",
       "23039  $15,000  https://cincinnati.craigslist.org/mcy/d/cincin...   \n",
       "23040   $7,000  https://cincinnati.craigslist.org/mcy/d/cincin...   \n",
       "23041   $8,000  https://cincinnati.craigslist.org/mcy/d/hamilt...   \n",
       "23042   $1,500  https://cincinnati.craigslist.org/mcy/d/floren...   \n",
       "23043   $3,500  https://cincinnati.craigslist.org/mcd/d/cincin...   \n",
       "\n",
       "                                                   title  \\\n",
       "0                  2002 Harley-Davidson FLSTSI SKU:12858   \n",
       "1      2003 Harley-Davidson FLHTCUI (ANNIVERSARY) SKU...   \n",
       "2      2019 Harley-Davidson FLHX - Street Glide SKU:1...   \n",
       "3                           2002 Honda VTX 1800 C Custom   \n",
       "4      2016 Harley-Davidson FLHX - Street Glide SKU:1...   \n",
       "...                                                  ...   \n",
       "23039                              Harley Panhead- trade   \n",
       "23040                   2012 Kawasaki Vulcan 900 Classic   \n",
       "23041               2013 Triumph Tiger Explorer 1200 ABS   \n",
       "23042  2006 Genuine Black Cat 🐈‍⬛ 50cc 2 stroke motor...   \n",
       "23043                     1994 SUZUKI DR350SE W/8K MILES   \n",
       "\n",
       "                                   bikeTitle  \\\n",
       "0                2002 Harley-Davidson FLSTSI   \n",
       "1      2003 Harley-Davidson FLHTCUI (ANNIVER   \n",
       "2      2019 Harley-Davidson FLHX - Street Gl   \n",
       "3                             2002 Honda VTX   \n",
       "4      2016 Harley-Davidson FLHX - Street Gl   \n",
       "...                                      ...   \n",
       "23039                Harley Davidson Panhead   \n",
       "23040       2012 kawasaki vulcan 900 classic   \n",
       "23041             triumph tiger explorer abs   \n",
       "23042              2006 Genuine Black Cat 50   \n",
       "23043                    1994 suzuki dr350se   \n",
       "\n",
       "                                              attributes                VIN  \\\n",
       "0      , VIN: 1HD1BYB192Y026148, fuel: , odometer: 12...  1HD1BYB192Y026148   \n",
       "1      , VIN: 1HD1FCW1X3Y604180, fuel: , odometer: 36...  1HD1FCW1X3Y604180   \n",
       "2      , VIN: 1HD1KBC3XKB603737, fuel: , odometer: 11...  1HD1KBC3XKB603737   \n",
       "3      , condition: excellent, engine displacement (C...                NaN   \n",
       "4      , VIN: 1HD1KBM30GB657117, fuel: , odometer: 92...  1HD1KBM30GB657117   \n",
       "...                                                  ...                ...   \n",
       "23039  , fuel: gas, odometer: 1000, transmission: manual                NaN   \n",
       "23040  , condition: excellent, engine displacement (C...                NaN   \n",
       "23041  , condition: excellent, engine displacement (C...                NaN   \n",
       "23042  , condition: like new, engine displacement (CC...                NaN   \n",
       "23043  , condition: excellent, delivery available, en...                NaN   \n",
       "\n",
       "      fuel           odometer paint color title status  ...  condition  \\\n",
       "0                       12382       black        clean  ...        NaN   \n",
       "1                       36852        blue        clean  ...        NaN   \n",
       "2                       11704      custom        clean  ...        NaN   \n",
       "3      gas              69000       black        clean  ...  excellent   \n",
       "4                        9284       black        clean  ...        NaN   \n",
       "...    ...                ...         ...          ...  ...        ...   \n",
       "23039  gas               1000         NaN          NaN  ...        NaN   \n",
       "23040  gas              17543       black        clean  ...  excellent   \n",
       "23041  gas  12200street legal         NaN          NaN  ...  excellent   \n",
       "23042  gas     60street legal         NaN        clean  ...   like new   \n",
       "23043  gas               8100        blue        clean  ...  excellent   \n",
       "\n",
       "      engine displacement (CC)        type  year years  \\\n",
       "0                          NaN         NaN  2002  2002   \n",
       "1                          NaN         NaN  2003  2003   \n",
       "2                          NaN         NaN  2019  2019   \n",
       "3                         1800  cafe racer  2002  2002   \n",
       "4                          NaN         NaN  2016  2016   \n",
       "...                        ...         ...   ...   ...   \n",
       "23039                      NaN         NaN  None  Harl   \n",
       "23040                      900     cruiser  2012  2012   \n",
       "23041                     1200         NaN  2013  triu   \n",
       "23042                       50     scooter  2006  2006   \n",
       "23043                      350  dual-sport  1994  1994   \n",
       "\n",
       "                                             title_lower             make  \\\n",
       "0                  2002 harley-davidson flstsi sku:12858  harley-davidson   \n",
       "1      2003 harley-davidson flhtcui (anniversary) sku...  harley-davidson   \n",
       "2      2019 harley-davidson flhx - street glide sku:1...  harley-davidson   \n",
       "3                           2002 honda vtx 1800 c custom            honda   \n",
       "4      2016 harley-davidson flhx - street glide sku:1...  harley-davidson   \n",
       "...                                                  ...              ...   \n",
       "23039                              harley panhead- trade              NaN   \n",
       "23040                   2012 kawasaki vulcan 900 classic         kawasaki   \n",
       "23041               2013 triumph tiger explorer 1200 abs          triumph   \n",
       "23042  2006 genuine black cat 🐈‍⬛ 50cc 2 stroke motor...              NaN   \n",
       "23043                     1994 suzuki dr350se w/8k miles           suzuki   \n",
       "\n",
       "            make_title       final_make final_years  \n",
       "0      harley-davidson  harley-davidson        2002  \n",
       "1      harley-davidson  harley-davidson        2003  \n",
       "2      harley-davidson  harley-davidson        2019  \n",
       "3                honda            honda        2002  \n",
       "4      harley-davidson  harley-davidson        2016  \n",
       "...                ...              ...         ...  \n",
       "23039              NaN              NaN        Harl  \n",
       "23040         kawasaki         kawasaki        2012  \n",
       "23041          triumph          triumph        triu  \n",
       "23042              NaN              NaN        2006  \n",
       "23043           suzuki           suzuki        1994  \n",
       "\n",
       "[23044 rows x 21 columns]"
      ]
     },
     "execution_count": 22,
     "metadata": {},
     "output_type": "execute_result"
    }
   ],
   "source": [
    "df"
   ]
  },
  {
   "cell_type": "markdown",
   "id": "8fcddff5",
   "metadata": {},
   "source": [
    "### Pickling the dataFrame to be used for the models"
   ]
  },
  {
   "cell_type": "code",
   "execution_count": 23,
   "id": "f2998aa6",
   "metadata": {},
   "outputs": [],
   "source": [
    "# df.to_pickle('df_model')"
   ]
  },
  {
   "cell_type": "markdown",
   "id": "dd50f0f2",
   "metadata": {},
   "source": [
    "Last minute cleaning"
   ]
  },
  {
   "cell_type": "code",
   "execution_count": 24,
   "id": "69dbb46a",
   "metadata": {},
   "outputs": [],
   "source": [
    "#dropping null values in necessary columns\n",
    "df = df.dropna(subset =['final_years', 'final_make'])\n",
    "#dropping duplicate columns and unnecessary columns\n",
    "df =df.drop(['make','make_title', 'year', 'years', 'title_lower', 'URL', 'bikeTitle', 'attributes',], axis =1)\n",
    "#changing the years column to a number value instead of string\n",
    "df = df[df['final_years'].astype(str).str.isdigit()]\n",
    "#getting just the numbers out of the odometer column(no commas etc..)\n",
    "df['odometer'] = df.odometer.str.extract('(^\\d*)')\n",
    "df[[\"final_years\"]] = df[['final_years']].apply(pd.to_numeric)\n",
    "#cleaning price to make it an integer and making it an integer\n",
    "df['Price']= df['Price'].apply(lambda x: x.replace('$',''))\n",
    "df['Price']= df['Price'].apply(lambda x: x.replace(',',''))\n",
    "df[['Price']] = df[['Price']].apply(pd.to_numeric)\n",
    "df[['odometer']] = df[['odometer']].apply(pd.to_numeric)\n",
    "df =df.reset_index(drop=True)\n"
   ]
  },
  {
   "cell_type": "code",
   "execution_count": 25,
   "id": "eddc5996",
   "metadata": {},
   "outputs": [
    {
     "data": {
      "image/png": "[encoded data removed]",
      "text/plain": [
       "<Figure size 432x288 with 1 Axes>"
      ]
     },
     "metadata": {
      "needs_background": "light"
     },
     "output_type": "display_data"
    }
   ],
   "source": [
    "sns.histplot(df['Price'])\n",
    "plt.ticklabel_format(style='plain', axis='y')"
   ]
  },
  {
   "cell_type": "markdown",
   "id": "282041f5",
   "metadata": {},
   "source": [
    "We can see that there are outliers in our price so we need to trim the data. There shouldn't be any motorcycles on craigslist being sold over $50,000"
   ]
  },
  {
   "cell_type": "code",
   "execution_count": 26,
   "id": "ce469c5d",
   "metadata": {},
   "outputs": [],
   "source": [
    "df = df[df['Price']<50000]\n",
    "df=df[df['Price']>600]"
   ]
  },
  {
   "cell_type": "code",
   "execution_count": 27,
   "id": "d1290822",
   "metadata": {},
   "outputs": [
    {
     "data": {
      "image/png": "[encoded data removed]",
      "text/plain": [
       "<Figure size 432x288 with 1 Axes>"
      ]
     },
     "metadata": {
      "needs_background": "light"
     },
     "output_type": "display_data"
    }
   ],
   "source": [
    "sns.histplot(df['Price'])\n",
    "plt.ticklabel_format(style='plain', axis='y')"
   ]
  },
  {
   "cell_type": "markdown",
   "id": "7e9a10ce",
   "metadata": {},
   "source": [
    "We can see the data is skewed to the right but this looks workable\n",
    "\n",
    "check Odometer"
   ]
  },
  {
   "cell_type": "code",
   "execution_count": 28,
   "id": "39dfd69c",
   "metadata": {},
   "outputs": [],
   "source": [
    "df['odometer']= df['odometer'].astype(float)"
   ]
  },
  {
   "cell_type": "code",
   "execution_count": 29,
   "id": "2661f8b4",
   "metadata": {},
   "outputs": [
    {
     "data": {
      "image/png": "[encoded data removed]",
      "text/plain": [
       "<Figure size 432x288 with 1 Axes>"
      ]
     },
     "metadata": {
      "needs_background": "light"
     },
     "output_type": "display_data"
    }
   ],
   "source": [
    "plt.ticklabel_format(style='plain')\n",
    "sns.set_theme(style=\"whitegrid\")\n",
    "ax = sns.boxplot(x=df[\"odometer\"])\n"
   ]
  },
  {
   "cell_type": "markdown",
   "id": "fe8e0c14",
   "metadata": {},
   "source": [
    "We can see some outliers for the milieage \n",
    "\n",
    "Going to use motorcycles under 100,000 miles"
   ]
  },
  {
   "cell_type": "code",
   "execution_count": 30,
   "id": "c23015b6",
   "metadata": {},
   "outputs": [],
   "source": [
    "df = df[df['odometer']<100000]"
   ]
  },
  {
   "cell_type": "code",
   "execution_count": 31,
   "id": "3142ac2a",
   "metadata": {},
   "outputs": [
    {
     "data": {
      "image/png": "[encoded data removed]",
      "text/plain": [
       "<Figure size 432x288 with 1 Axes>"
      ]
     },
     "metadata": {},
     "output_type": "display_data"
    }
   ],
   "source": [
    "plt.ticklabel_format(style='plain')\n",
    "sns.set_theme(style=\"whitegrid\")\n",
    "ax = sns.boxplot(x=df[\"odometer\"])"
   ]
  },
  {
   "cell_type": "markdown",
   "id": "4e399c5a",
   "metadata": {},
   "source": [
    "This looks a lot better\n",
    "\n",
    "Let's check how the years are"
   ]
  },
  {
   "cell_type": "code",
   "execution_count": 32,
   "id": "17e84c19",
   "metadata": {},
   "outputs": [
    {
     "data": {
      "text/plain": [
       "2953          2\n",
       "2613          2\n",
       "714           3\n",
       "2930          3\n",
       "1551          3\n",
       "         ...   \n",
       "9130       2022\n",
       "2789       2022\n",
       "6347       2022\n",
       "9324       2022\n",
       "1006    1502021\n",
       "Name: final_years, Length: 13055, dtype: int64"
      ]
     },
     "execution_count": 32,
     "metadata": {},
     "output_type": "execute_result"
    }
   ],
   "source": [
    "df['final_years'].sort_values()"
   ]
  },
  {
   "cell_type": "markdown",
   "id": "66aedd4b",
   "metadata": {},
   "source": [
    "definitely some outliers"
   ]
  },
  {
   "cell_type": "code",
   "execution_count": 33,
   "id": "e14a1535",
   "metadata": {},
   "outputs": [],
   "source": [
    "df = df[df['final_years']>1960]\n",
    "df = df[df['final_years']<2022]"
   ]
  },
  {
   "cell_type": "code",
   "execution_count": 34,
   "id": "7637be6a",
   "metadata": {},
   "outputs": [
    {
     "data": {
      "image/png": "[encoded data removed]",
      "text/plain": [
       "<Figure size 432x288 with 1 Axes>"
      ]
     },
     "metadata": {},
     "output_type": "display_data"
    }
   ],
   "source": [
    "sns.histplot(df['final_years'])\n",
    "plt.ticklabel_format(style='plain', axis='y')"
   ]
  },
  {
   "cell_type": "markdown",
   "id": "ddf3eb9a",
   "metadata": {},
   "source": [
    "### Showing the distribution of year of motorcycle tied to the price"
   ]
  },
  {
   "cell_type": "code",
   "execution_count": 35,
   "id": "14dcc409",
   "metadata": {},
   "outputs": [
    {
     "name": "stderr",
     "output_type": "stream",
     "text": [
      "/Users/avijames/anaconda3/lib/python3.8/site-packages/seaborn/axisgrid.py:2073: UserWarning: The `size` parameter has been renamed to `height`; please update your code.\n",
      "  warnings.warn(msg, UserWarning)\n"
     ]
    },
    {
     "data": {
      "image/png": "[encoded data removed]",
      "text/plain": [
       "<Figure size 1080x1080 with 3 Axes>"
      ]
     },
     "metadata": {},
     "output_type": "display_data"
    }
   ],
   "source": [
    "\n",
    "sns.set_palette(\"GnBu_d\")\n",
    "sns.set_style('whitegrid')\n",
    "g =sns.jointplot(x='final_years',y='Price',data=df,size =15, kind='reg')\n",
    "sns.set_context(\"talk\", font_scale=3)\n",
    "regline = g.ax_joint.get_lines()[0]\n",
    "regline.set_color('red')\n",
    "regline.set_zorder(5)\n",
    "\n",
    "\n",
    "\n",
    "\n",
    "\n"
   ]
  },
  {
   "cell_type": "markdown",
   "id": "896ce56d",
   "metadata": {},
   "source": [
    "The graph shows that higher price is correlated with higher year but just because it is a higher year does not mean it is a higher price"
   ]
  },
  {
   "cell_type": "markdown",
   "id": "9413f2ea",
   "metadata": {},
   "source": [
    "### Distribution of engine displacement"
   ]
  },
  {
   "cell_type": "code",
   "execution_count": 36,
   "id": "49600aea",
   "metadata": {},
   "outputs": [
    {
     "data": {
      "image/png": "[encoded data removed]",
      "text/plain": [
       "<Figure size 432x288 with 1 Axes>"
      ]
     },
     "metadata": {},
     "output_type": "display_data"
    }
   ],
   "source": [
    "sns.set_context(\"talk\", font_scale=1)\n",
    "df['engine displacement (CC)']= df['engine displacement (CC)'].astype(float)\n",
    "sns.histplot(df['engine displacement (CC)'])\n",
    "plt.ticklabel_format(style='plain', axis='y')"
   ]
  },
  {
   "cell_type": "code",
   "execution_count": 37,
   "id": "620ecfc7",
   "metadata": {},
   "outputs": [
    {
     "name": "stdout",
     "output_type": "stream",
     "text": [
      "<class 'pandas.core.frame.DataFrame'>\n",
      "Int64Index: 12484 entries, 0 to 14925\n",
      "Data columns (total 13 columns):\n",
      " #   Column                    Non-Null Count  Dtype  \n",
      "---  ------                    --------------  -----  \n",
      " 0   Price                     12484 non-null  int64  \n",
      " 1   title                     12484 non-null  object \n",
      " 2   VIN                       5504 non-null   object \n",
      " 3   fuel                      12357 non-null  object \n",
      " 4   odometer                  12484 non-null  float64\n",
      " 5   paint color               9428 non-null   object \n",
      " 6   title status              11689 non-null  object \n",
      " 7   transmission              12403 non-null  object \n",
      " 8   condition                 6932 non-null   object \n",
      " 9   engine displacement (CC)  5045 non-null   float64\n",
      " 10  type                      5508 non-null   object \n",
      " 11  final_make                12484 non-null  object \n",
      " 12  final_years               12484 non-null  int64  \n",
      "dtypes: float64(2), int64(2), object(9)\n",
      "memory usage: 1.3+ MB\n"
     ]
    }
   ],
   "source": [
    "df.info()"
   ]
  },
  {
   "cell_type": "code",
   "execution_count": 38,
   "id": "56d71435",
   "metadata": {},
   "outputs": [],
   "source": [
    "new_df =pd.DataFrame()\n"
   ]
  },
  {
   "cell_type": "code",
   "execution_count": 39,
   "id": "faa7c1ee",
   "metadata": {},
   "outputs": [],
   "source": [
    "new_df['bike_price_median']= df.groupby('final_make')['Price'].median().sort_values(ascending=False).index"
   ]
  },
  {
   "cell_type": "code",
   "execution_count": 40,
   "id": "2cb97b72",
   "metadata": {},
   "outputs": [
    {
     "data": {
      "text/plain": [
       "final_make\n",
       "indian             16950.0\n",
       "harley-davidson    13991.0\n",
       "ducati             11995.0\n",
       "victory             8999.0\n",
       "aprilia             8995.0\n",
       "bmw                 8995.0\n",
       "norton              8500.0\n",
       "triumph             8499.5\n",
       "ktm                 6999.0\n",
       "suzuki              6000.0\n",
       "yamaha              5999.0\n",
       "kawasaki            5799.0\n",
       "honda               4999.0\n",
       "vespa               4099.0\n",
       "bajaj               3000.0\n",
       "Name: Price, dtype: float64"
      ]
     },
     "execution_count": 40,
     "metadata": {},
     "output_type": "execute_result"
    }
   ],
   "source": [
    "df.groupby('final_make')['Price'].median().sort_values(ascending=False)"
   ]
  },
  {
   "cell_type": "code",
   "execution_count": 41,
   "id": "00e91d5c",
   "metadata": {},
   "outputs": [],
   "source": [
    "boxplot_order =new_df['bike_price_median']"
   ]
  },
  {
   "cell_type": "code",
   "execution_count": 42,
   "id": "db1faa75",
   "metadata": {},
   "outputs": [
    {
     "name": "stdout",
     "output_type": "stream",
     "text": [
      "Maximum median : Price                       18446.607143\n",
      "odometer                    23923.482759\n",
      "engine displacement (CC)     1479.145833\n",
      "final_years                  2018.126623\n",
      "dtype: float64\n",
      "Maximum mean : Price                        8081.087719\n",
      "odometer                    10519.280000\n",
      "engine displacement (CC)      825.004228\n",
      "final_years                  2011.461538\n",
      "dtype: float64\n"
     ]
    },
    {
     "data": {
      "image/png": "[encoded data removed]",
      "text/plain": [
       "<Figure size 1440x720 with 1 Axes>"
      ]
     },
     "metadata": {},
     "output_type": "display_data"
    }
   ],
   "source": [
    "plt.figure(figsize=(20,10))\n",
    "# Create a boxplot for each state:\n",
    "sns.boxplot(x='final_make',y='Price',\n",
    "            data=df,\n",
    "            showfliers=False,order=boxplot_order, color = 'Aqua')\n",
    "\n",
    "# Set labels and axis limits:\n",
    "plt.ylim(0,);\n",
    "plt.xlabel('Make')\n",
    "plt.ylabel('Price ($)')\n",
    "plt.ticklabel_format(style='plain', axis='y')\n",
    "plt.title('Prices of Bikes by Make');\n",
    "\n",
    "# Print maximum mean and median value\n",
    "print('Maximum median',':',df.groupby('final_make').mean().max())\n",
    "print('Maximum mean',':',df.groupby('final_make').mean().median())"
   ]
  },
  {
   "cell_type": "code",
   "execution_count": 43,
   "id": "30c9cbfb",
   "metadata": {},
   "outputs": [],
   "source": [
    "# df.drop(\"VIN\", inplace =True, axis =1)\n",
    "df =df.reset_index(drop=True)\n",
    "df['condition'] = df['condition'].str.replace('excellentcryptocurrency ok', 'excellent')\n",
    "df['condition'] = df['condition'].str.replace('like newcryptocurrency ok', 'like new')\n",
    "df['condition'] = df['condition'].str.replace('goodcryptocurrency ok', 'good')\n",
    "df['condition'] = df['condition'].str.replace('faircryptocurrency ok', 'fair')\n",
    "df['condition'] = df['condition'].str.replace('newcryptocurrency ok', 'new')\n",
    "df['fuel'] = df['fuel'].fillna(value='other')\n",
    "df['paint color'] = df['paint color'].fillna(value='other')\n",
    "df['title status'] = df['title status'].fillna(value='other')\n",
    "df['transmission'] = df['transmission'].fillna(value='other')\n",
    "df['condition'] = df['condition'].fillna(value='other')\n",
    "# df['engine displacement (CC)'] = df['engine displacement (CC)'].fillna(value='other')\n",
    "df['type'] = df['type'].fillna(value='other')\n",
    "# df = df[df['engine displacement (CC)']!='other']"
   ]
  },
  {
   "cell_type": "code",
   "execution_count": 44,
   "id": "23d8a485",
   "metadata": {},
   "outputs": [
    {
     "data": {
      "text/html": [
       "<div>\n",
       "<style scoped>\n",
       "    .dataframe tbody tr th:only-of-type {\n",
       "        vertical-align: middle;\n",
       "    }\n",
       "\n",
       "    .dataframe tbody tr th {\n",
       "        vertical-align: top;\n",
       "    }\n",
       "\n",
       "    .dataframe thead th {\n",
       "        text-align: right;\n",
       "    }\n",
       "</style>\n",
       "<table border=\"1\" class=\"dataframe\">\n",
       "  <thead>\n",
       "    <tr style=\"text-align: right;\">\n",
       "      <th></th>\n",
       "      <th>Price</th>\n",
       "      <th>title</th>\n",
       "      <th>VIN</th>\n",
       "      <th>fuel</th>\n",
       "      <th>odometer</th>\n",
       "      <th>paint color</th>\n",
       "      <th>title status</th>\n",
       "      <th>transmission</th>\n",
       "      <th>condition</th>\n",
       "      <th>engine displacement (CC)</th>\n",
       "      <th>type</th>\n",
       "      <th>final_make</th>\n",
       "      <th>final_years</th>\n",
       "    </tr>\n",
       "  </thead>\n",
       "  <tbody>\n",
       "    <tr>\n",
       "      <th>0</th>\n",
       "      <td>13995</td>\n",
       "      <td>2002 Harley-Davidson FLSTSI SKU:12858</td>\n",
       "      <td>1HD1BYB192Y026148</td>\n",
       "      <td></td>\n",
       "      <td>12382.0</td>\n",
       "      <td>black</td>\n",
       "      <td>clean</td>\n",
       "      <td>manual</td>\n",
       "      <td>other</td>\n",
       "      <td>NaN</td>\n",
       "      <td>other</td>\n",
       "      <td>harley-davidson</td>\n",
       "      <td>2002</td>\n",
       "    </tr>\n",
       "    <tr>\n",
       "      <th>1</th>\n",
       "      <td>9995</td>\n",
       "      <td>2003 Harley-Davidson FLHTCUI (ANNIVERSARY) SKU...</td>\n",
       "      <td>1HD1FCW1X3Y604180</td>\n",
       "      <td></td>\n",
       "      <td>36852.0</td>\n",
       "      <td>blue</td>\n",
       "      <td>clean</td>\n",
       "      <td>manual</td>\n",
       "      <td>other</td>\n",
       "      <td>NaN</td>\n",
       "      <td>other</td>\n",
       "      <td>harley-davidson</td>\n",
       "      <td>2003</td>\n",
       "    </tr>\n",
       "    <tr>\n",
       "      <th>2</th>\n",
       "      <td>22995</td>\n",
       "      <td>2019 Harley-Davidson FLHX - Street Glide SKU:1...</td>\n",
       "      <td>1HD1KBC3XKB603737</td>\n",
       "      <td></td>\n",
       "      <td>11704.0</td>\n",
       "      <td>custom</td>\n",
       "      <td>clean</td>\n",
       "      <td>manual</td>\n",
       "      <td>other</td>\n",
       "      <td>NaN</td>\n",
       "      <td>other</td>\n",
       "      <td>harley-davidson</td>\n",
       "      <td>2019</td>\n",
       "    </tr>\n",
       "    <tr>\n",
       "      <th>3</th>\n",
       "      <td>3000</td>\n",
       "      <td>2002 Honda VTX 1800 C Custom</td>\n",
       "      <td>NaN</td>\n",
       "      <td>gas</td>\n",
       "      <td>69000.0</td>\n",
       "      <td>black</td>\n",
       "      <td>clean</td>\n",
       "      <td>manual</td>\n",
       "      <td>excellent</td>\n",
       "      <td>1800.0</td>\n",
       "      <td>cafe racer</td>\n",
       "      <td>honda</td>\n",
       "      <td>2002</td>\n",
       "    </tr>\n",
       "    <tr>\n",
       "      <th>4</th>\n",
       "      <td>19995</td>\n",
       "      <td>2016 Harley-Davidson FLHX - Street Glide SKU:1...</td>\n",
       "      <td>1HD1KBM30GB657117</td>\n",
       "      <td></td>\n",
       "      <td>9284.0</td>\n",
       "      <td>black</td>\n",
       "      <td>clean</td>\n",
       "      <td>manual</td>\n",
       "      <td>other</td>\n",
       "      <td>NaN</td>\n",
       "      <td>other</td>\n",
       "      <td>harley-davidson</td>\n",
       "      <td>2016</td>\n",
       "    </tr>\n",
       "    <tr>\n",
       "      <th>...</th>\n",
       "      <td>...</td>\n",
       "      <td>...</td>\n",
       "      <td>...</td>\n",
       "      <td>...</td>\n",
       "      <td>...</td>\n",
       "      <td>...</td>\n",
       "      <td>...</td>\n",
       "      <td>...</td>\n",
       "      <td>...</td>\n",
       "      <td>...</td>\n",
       "      <td>...</td>\n",
       "      <td>...</td>\n",
       "      <td>...</td>\n",
       "    </tr>\n",
       "    <tr>\n",
       "      <th>12479</th>\n",
       "      <td>9000</td>\n",
       "      <td>1999 Ultra Classic Harley Davidson</td>\n",
       "      <td>NaN</td>\n",
       "      <td>gas</td>\n",
       "      <td>13000.0</td>\n",
       "      <td>green</td>\n",
       "      <td>clean</td>\n",
       "      <td>manual</td>\n",
       "      <td>good</td>\n",
       "      <td>NaN</td>\n",
       "      <td>other</td>\n",
       "      <td>harley-davidson</td>\n",
       "      <td>1999</td>\n",
       "    </tr>\n",
       "    <tr>\n",
       "      <th>12480</th>\n",
       "      <td>19995</td>\n",
       "      <td>'20 BMW R1250GSA</td>\n",
       "      <td>NaN</td>\n",
       "      <td>gas</td>\n",
       "      <td>11715.0</td>\n",
       "      <td>green</td>\n",
       "      <td>clean</td>\n",
       "      <td>manual</td>\n",
       "      <td>excellent</td>\n",
       "      <td>1250.0</td>\n",
       "      <td>other</td>\n",
       "      <td>bmw</td>\n",
       "      <td>2020</td>\n",
       "    </tr>\n",
       "    <tr>\n",
       "      <th>12481</th>\n",
       "      <td>3200</td>\n",
       "      <td>2004 V-Strom 1000</td>\n",
       "      <td>NaN</td>\n",
       "      <td>gas</td>\n",
       "      <td>42000.0</td>\n",
       "      <td>blue</td>\n",
       "      <td>clean</td>\n",
       "      <td>manual</td>\n",
       "      <td>fair</td>\n",
       "      <td>1000.0</td>\n",
       "      <td>street</td>\n",
       "      <td>suzuki</td>\n",
       "      <td>2004</td>\n",
       "    </tr>\n",
       "    <tr>\n",
       "      <th>12482</th>\n",
       "      <td>7000</td>\n",
       "      <td>2012 Kawasaki Vulcan 900 Classic</td>\n",
       "      <td>NaN</td>\n",
       "      <td>gas</td>\n",
       "      <td>17543.0</td>\n",
       "      <td>black</td>\n",
       "      <td>clean</td>\n",
       "      <td>manual</td>\n",
       "      <td>excellent</td>\n",
       "      <td>900.0</td>\n",
       "      <td>cruiser</td>\n",
       "      <td>kawasaki</td>\n",
       "      <td>2012</td>\n",
       "    </tr>\n",
       "    <tr>\n",
       "      <th>12483</th>\n",
       "      <td>3500</td>\n",
       "      <td>1994 SUZUKI DR350SE W/8K MILES</td>\n",
       "      <td>NaN</td>\n",
       "      <td>gas</td>\n",
       "      <td>8100.0</td>\n",
       "      <td>blue</td>\n",
       "      <td>clean</td>\n",
       "      <td>manual</td>\n",
       "      <td>excellent</td>\n",
       "      <td>350.0</td>\n",
       "      <td>dual-sport</td>\n",
       "      <td>suzuki</td>\n",
       "      <td>1994</td>\n",
       "    </tr>\n",
       "  </tbody>\n",
       "</table>\n",
       "<p>12484 rows × 13 columns</p>\n",
       "</div>"
      ],
      "text/plain": [
       "       Price                                              title  \\\n",
       "0      13995              2002 Harley-Davidson FLSTSI SKU:12858   \n",
       "1       9995  2003 Harley-Davidson FLHTCUI (ANNIVERSARY) SKU...   \n",
       "2      22995  2019 Harley-Davidson FLHX - Street Glide SKU:1...   \n",
       "3       3000                       2002 Honda VTX 1800 C Custom   \n",
       "4      19995  2016 Harley-Davidson FLHX - Street Glide SKU:1...   \n",
       "...      ...                                                ...   \n",
       "12479   9000                 1999 Ultra Classic Harley Davidson   \n",
       "12480  19995                                   '20 BMW R1250GSA   \n",
       "12481   3200                                  2004 V-Strom 1000   \n",
       "12482   7000                   2012 Kawasaki Vulcan 900 Classic   \n",
       "12483   3500                     1994 SUZUKI DR350SE W/8K MILES   \n",
       "\n",
       "                     VIN fuel  odometer paint color title status transmission  \\\n",
       "0      1HD1BYB192Y026148        12382.0       black        clean       manual   \n",
       "1      1HD1FCW1X3Y604180        36852.0        blue        clean       manual   \n",
       "2      1HD1KBC3XKB603737        11704.0      custom        clean       manual   \n",
       "3                    NaN  gas   69000.0       black        clean       manual   \n",
       "4      1HD1KBM30GB657117         9284.0       black        clean       manual   \n",
       "...                  ...  ...       ...         ...          ...          ...   \n",
       "12479                NaN  gas   13000.0       green        clean       manual   \n",
       "12480                NaN  gas   11715.0       green        clean       manual   \n",
       "12481                NaN  gas   42000.0        blue        clean       manual   \n",
       "12482                NaN  gas   17543.0       black        clean       manual   \n",
       "12483                NaN  gas    8100.0        blue        clean       manual   \n",
       "\n",
       "       condition  engine displacement (CC)        type       final_make  \\\n",
       "0          other                       NaN       other  harley-davidson   \n",
       "1          other                       NaN       other  harley-davidson   \n",
       "2          other                       NaN       other  harley-davidson   \n",
       "3      excellent                    1800.0  cafe racer            honda   \n",
       "4          other                       NaN       other  harley-davidson   \n",
       "...          ...                       ...         ...              ...   \n",
       "12479       good                       NaN       other  harley-davidson   \n",
       "12480  excellent                    1250.0       other              bmw   \n",
       "12481       fair                    1000.0      street           suzuki   \n",
       "12482  excellent                     900.0     cruiser         kawasaki   \n",
       "12483  excellent                     350.0  dual-sport           suzuki   \n",
       "\n",
       "       final_years  \n",
       "0             2002  \n",
       "1             2003  \n",
       "2             2019  \n",
       "3             2002  \n",
       "4             2016  \n",
       "...            ...  \n",
       "12479         1999  \n",
       "12480         2020  \n",
       "12481         2004  \n",
       "12482         2012  \n",
       "12483         1994  \n",
       "\n",
       "[12484 rows x 13 columns]"
      ]
     },
     "execution_count": 44,
     "metadata": {},
     "output_type": "execute_result"
    }
   ],
   "source": [
    "df"
   ]
  },
  {
   "cell_type": "code",
   "execution_count": 45,
   "id": "b0ac89eb",
   "metadata": {},
   "outputs": [
    {
     "data": {
      "image/png": "[encoded data removed]",
      "text/plain": [
       "<Figure size 432x288 with 1 Axes>"
      ]
     },
     "metadata": {},
     "output_type": "display_data"
    }
   ],
   "source": [
    "df['engine displacement (CC)']= df['engine displacement (CC)'].astype(float)\n",
    "sns.histplot(df['engine displacement (CC)'])\n",
    "plt.ticklabel_format(style='plain', axis='y')"
   ]
  },
  {
   "cell_type": "markdown",
   "id": "078680e5",
   "metadata": {},
   "source": [
    "### Putting the engine displacements into bins so that we can categorize them better"
   ]
  },
  {
   "cell_type": "code",
   "execution_count": 46,
   "id": "c46982e7",
   "metadata": {},
   "outputs": [],
   "source": [
    "bins = [0,250,500,750,1000,1250,1500,1750,2000, np.inf]\n",
    "names =['0-250', '251-500', '501-750', '751-1000', '1001- 1250', '1251-1500', '1501-1750',' 1751-2000', '2001+']\n",
    "\n",
    "df['engine_displacement'] = pd.cut(df['engine displacement (CC)'], bins, labels=names)"
   ]
  },
  {
   "cell_type": "code",
   "execution_count": 47,
   "id": "29ae12b0",
   "metadata": {},
   "outputs": [
    {
     "data": {
      "text/plain": [
       "4999"
      ]
     },
     "execution_count": 47,
     "metadata": {},
     "output_type": "execute_result"
    }
   ],
   "source": [
    "df['engine_displacement'].value_counts().sum()"
   ]
  },
  {
   "cell_type": "code",
   "execution_count": 48,
   "id": "a607d998",
   "metadata": {},
   "outputs": [
    {
     "name": "stderr",
     "output_type": "stream",
     "text": [
      "/Users/avijames/anaconda3/lib/python3.8/site-packages/seaborn/_decorators.py:36: FutureWarning: Pass the following variable as a keyword arg: x. From version 0.12, the only valid positional argument will be `data`, and passing other arguments without an explicit keyword will result in an error or misinterpretation.\n",
      "  warnings.warn(\n"
     ]
    },
    {
     "data": {
      "image/png": "[encoded data removed]",
      "text/plain": [
       "<Figure size 1440x720 with 1 Axes>"
      ]
     },
     "metadata": {},
     "output_type": "display_data"
    }
   ],
   "source": [
    "plt.figure(figsize=(20,10))\n",
    "sns.countplot(df['engine_displacement'])\n",
    "plt.ticklabel_format(style='plain', axis='y')"
   ]
  },
  {
   "cell_type": "code",
   "execution_count": 49,
   "id": "be41c658",
   "metadata": {},
   "outputs": [
    {
     "data": {
      "text/plain": [
       "0               NaN\n",
       "1               NaN\n",
       "2               NaN\n",
       "3         1751-2000\n",
       "4               NaN\n",
       "            ...    \n",
       "12479           NaN\n",
       "12480    1001- 1250\n",
       "12481      751-1000\n",
       "12482      751-1000\n",
       "12483       251-500\n",
       "Name: engine_displacement, Length: 12484, dtype: category\n",
       "Categories (9, object): ['0-250' < '251-500' < '501-750' < '751-1000' ... '1251-1500' < '1501-1750' < ' 1751-2000' < '2001+']"
      ]
     },
     "execution_count": 49,
     "metadata": {},
     "output_type": "execute_result"
    }
   ],
   "source": [
    "df['engine_displacement']"
   ]
  },
  {
   "cell_type": "code",
   "execution_count": 50,
   "id": "cbc80e0d",
   "metadata": {},
   "outputs": [],
   "source": [
    "# df.to_pickle('df_model')"
   ]
  }
 ],
 "metadata": {
  "kernelspec": {
   "display_name": "Python 3",
   "language": "python",
   "name": "python3"
  },
  "language_info": {
   "codemirror_mode": {
    "name": "ipython",
    "version": 3
   },
   "file_extension": ".py",
   "mimetype": "text/x-python",
   "name": "python",
   "nbconvert_exporter": "python",
   "pygments_lexer": "ipython3",
   "version": "3.8.8"
  }
 },
 "nbformat": 4,
 "nbformat_minor": 5
}
